{
 "cells": [
  {
   "cell_type": "markdown",
   "metadata": {
    "collapsed": true
   },
   "source": [
    "# STA 863 Final Project - FHMM\n",
    "*Factorial Hidden Markov Models* - Gharamani and Jordan\n"
   ]
  },
  {
   "cell_type": "code",
   "execution_count": 137,
   "metadata": {
    "collapsed": false
   },
   "outputs": [],
   "source": [
    "import numpy as np\n",
    "import pandas as pd\n",
    "import csv\n",
    "from numpy import linspace,exp\n",
    "from numpy.random import randn\n",
    "import matplotlib.pyplot as plt\n",
    "from scipy.interpolate import UnivariateSpline\n",
    "from scipy.stats import multivariate_normal\n",
    "import seaborn as sns\n",
    "np.random.seed(17)"
   ]
  },
  {
   "cell_type": "markdown",
   "metadata": {},
   "source": [
    "## 1. Generate Toy Data and Parameters\n",
    "\n",
    "$$P({S_t, Y_t}) = P(S_1)P(Y_1 | S_1)\\prod_{t=2}^T P(S_t | S_{t-1})P(Y_t | S_t)$$\n",
    "\n",
    "- Assume three different chains, each with 5 hidden states each\n",
    "- M = 3, K = (5, 5, 5)\n",
    "- n = 10 observations, D = 3 (dimension of Gaussian)\n",
    "- Normal Model"
   ]
  },
  {
   "cell_type": "code",
   "execution_count": 89,
   "metadata": {
    "collapsed": false
   },
   "outputs": [],
   "source": [
    "M = 3 ## Number of independent hidden state chains\n",
    "K = np.array([5, 5, 5]) ## number of hidden states for each chain\n",
    "D = 3 ## Dimension of Gaussian\n",
    "n = 10 ## number of observations\n",
    "\n",
    "\n",
    "## Generate distribtions\n",
    "pi = [] ## initial distribution\n",
    "Tmat = []  ## transition distribution\n",
    "W = [] ## contribution to means matrices D x K\n",
    "for i in range(0, M):\n",
    "    vals = np.random.rand(K[i])\n",
    "    pi.append(vals/np.sum(vals))\n",
    "    vals1 = np.random.rand(K[i], K[i])\n",
    "    Tmat.append(vals1/np.sum(vals1, axis=1)[:,None])\n",
    "    W.append(10*np.random.rand(D, K[i]))\n",
    "    \n",
    "## Generate state variables\n",
    "S = []\n",
    "for i in range(0, M):\n",
    "    zstates = np.arange(0, K[i], dtype = int)\n",
    "    z = np.zeros(n, dtype = int)\n",
    "    zmat = np.zeros((K[i], n), dtype = int)\n",
    "    z[0] = np.random.choice(zstates, size = 1, p = pi[i])\n",
    "    zmat[z[0], 0] = 1\n",
    "    for j in range(1, n):\n",
    "        z[j] = np.random.choice(zstates, size = 1, p = Tmat[i][z[j-1], :])\n",
    "        zmat[z[j], j] = 1\n",
    "    S.append(zmat)\n",
    "#x = np.random.normal(size=D)\n",
    "#y = np.random.normal(size=D)\n",
    "#z = np.vstack((x, y))\n",
    "#C = np.cov(z.T) ## covariance matrix\n",
    "C = np.identity(D)\n",
    "mu = np.zeros((D, n))\n",
    "Y = np.zeros((D, n))\n",
    "for t in range(0, n):\n",
    "    for i in range(0, M):\n",
    "        mu[:, t] += np.dot(W[i], S[i][:, t])\n",
    "    Y[:, t] = np.random.multivariate_normal(mu[:, t], C, 1)\n"
   ]
  },
  {
   "cell_type": "code",
   "execution_count": 90,
   "metadata": {
    "collapsed": false
   },
   "outputs": [
    {
     "data": {
      "image/png": "[encoded data removed]",
      "text/plain": [
       "<matplotlib.figure.Figure at 0x119a44c50>"
      ]
     },
     "metadata": {},
     "output_type": "display_data"
    }
   ],
   "source": [
    "sns.heatmap(Y)\n",
    "plt.title(\"Toy Data Y Values\")\n",
    "pass"
   ]
  },
  {
   "cell_type": "markdown",
   "metadata": {},
   "source": [
    "# E - Step\n",
    "\n",
    "## 2. Gibbs Sampling \n",
    "\n",
    "$$S_t^{(m)} \\propto P(S_t^{(m)} | S_{t-1}^{(m)})P(S_{t+1}|S_t^{(m)})P(Y_t | S_t^{(1)}, \\ldots, S_t^{(M)})$$"
   ]
  },
  {
   "cell_type": "code",
   "execution_count": 74,
   "metadata": {
    "collapsed": false
   },
   "outputs": [
    {
     "data": {
      "text/plain": [
       "array([[  1.19840172,   5.7943984 ,  19.05338194]])"
      ]
     },
     "execution_count": 74,
     "metadata": {},
     "output_type": "execute_result"
    }
   ],
   "source": [
    "# t is the time step to be updated\n",
    "# y is the observed value at that time step\n",
    "# M is the number of hidden Markov chains\n",
    "# K is a vector of number of hidden states for each chain\n",
    "# C is covariance matrix for emission distribution\n",
    "# W is a list of M D x K matrix, columns contribution to mean of each state variable \n",
    "# S is a M long list of current states, each element of list is K[i] x n long (n number of observations)\n",
    "# update is which of M chains to calculate emission probabilities for, for every K[i] possible values\n",
    "# output is a K[update] vector of density of y for each possible value of S[update]\n",
    "def y_density(t, y, M, K, S, C, W, update):\n",
    "    ydense = np.zeros(K[update]) ## output density for each possible value of S[update]\n",
    "    Stemp = S\n",
    "    for i in range(0, K[update]):\n",
    "        mu = 0\n",
    "        Stemp[update][:, t] = 0\n",
    "        Stemp[update][i, t] = 0 # state variable value to calculate probability for\n",
    "        for j in range(0, M):\n",
    "            mu += np.dot(W[j], Stemp[j][:, t])\n",
    "        ydense[i] = multivariate_normal.pdf(y, mean = mu, cov = C)\n",
    "    return(ydense)\n",
    "\n",
    "\n",
    "\n",
    "# n is the number of observations\n",
    "# M is number of Markov hidden chains\n",
    "# K is number of hidden states for each chain (1 x M vector)\n",
    "# Y is the matrix of observations (D x n)\n",
    "# Tmat is a list of M KxK transition matrices\n",
    "# W is a list of M D x K matrix, columns contribution to mean of each state variable\n",
    "# C is the covariance matrix for the observations\n",
    "# it is the number of iterations to run for the Gibbs Sampler\n",
    "# output is \n",
    "def gibbs_sampler(n, M, K, Y, Tmat, W, C, it = 10):\n",
    "    # Randomly initialize state vectors\n",
    "    S = []\n",
    "    zstates = []\n",
    "    for i in range(0, M):\n",
    "        s = np.zeros((K[i], n), dtype = int)\n",
    "        ind = np.random.choice(range(0, K[i]), n)\n",
    "        s[ind, range(0, n)] = 1\n",
    "        zz = np.zeros((it, n), dtype = int)\n",
    "        zz[0, :] = ind\n",
    "        zstates.append(zz)\n",
    "        S.append(s)\n",
    "        \n",
    "    for l in range(1, it):\n",
    "        ## update one  chain at a time\n",
    "        for i in range(0, M):\n",
    "            ## step through each time point\n",
    "            for t in range(0, n):\n",
    "                ## select P(S_t | S_t-1)\n",
    "                if t == 0:\n",
    "                    tback = np.ones(K[i])\n",
    "                else:\n",
    "                    prev = zstates[i][l-1, t-1]\n",
    "                    tback = Tmat[i][prev, :]\n",
    "                ## select P(S_t+1 | S_t)\n",
    "                if t == (n-1):\n",
    "                    tfore = np.ones(K[i])\n",
    "                else:\n",
    "                    fore = zstates[i][l-1, t]\n",
    "                    tfore = Tmat[i][fore, :]\n",
    "                ## calculate P(Y_t | S_t^1, S_t^2, ..., S_t^M)\n",
    "                ydense = y_density(t, Y[:, t], M, K, S, C, W, i)\n",
    "                \n",
    "                ## Calculate probability for each state for S_t^i\n",
    "                probvec = np.multiply(np.multiply(tback, tfore) , ydense)\n",
    "                probvec = probvec/sum(probvec)\n",
    "                ## sample state and update vector\n",
    "                zstates[i][l, t] = np.random.choice(range(0, K[i]), 1, p = probvec)\n",
    "                S[i][zstates[i][l, t], t] = 1\n",
    "    \n",
    "    ## Calculate expectations\n",
    "                \n"
   ]
  },
  {
   "cell_type": "code",
   "execution_count": 149,
   "metadata": {
    "collapsed": false
   },
   "outputs": [],
   "source": [
    "S = []\n",
    "zstates = []\n",
    "for i in range(0, M):\n",
    "    s = np.zeros((K[i], n), dtype = int)\n",
    "    ind = np.random.choice(range(0, K[i]), n)\n",
    "    s[ind, range(0, n)] = 1\n",
    "    zz = np.zeros((it, n), dtype = int)\n",
    "    zz[0, :] = ind\n",
    "    zstates.append(zz)\n",
    "    S.append(s)\n",
    "\n",
    "for l in range(1, it):\n",
    "    ## update one  chain at a time\n",
    "    for i in range(0, M):\n",
    "        ## step through each time point\n",
    "        for t in range(0, n):\n",
    "            ## select P(S_t | S_t-1)\n",
    "            if t == 0:\n",
    "                tback = np.ones(K[i])\n",
    "            else:\n",
    "                prev = zstates[i][l-1, t-1]\n",
    "                tback = Tmat[i][prev, :]\n",
    "            ## select P(S_t+1 | S_t)\n",
    "            if t == (n-1):\n",
    "                tfore = np.ones(K[i])\n",
    "            else:\n",
    "                fore = zstates[i][l-1, t]\n",
    "                tfore = Tmat[i][fore, :]\n",
    "            ## calculate P(Y_t | S_t^1, S_t^2, ..., S_t^M)\n",
    "            ydense = y_density(t, Y[:, t], M, K, S, C, W, i)\n",
    "\n",
    "            ## Calculate probability for each state for S_t^i\n",
    "            probvec = np.multiply(np.multiply(tback, tfore) , ydense)\n",
    "            probvec = probvec/sum(probvec)\n",
    "            ## sample state and update vector\n",
    "            zstates[i][l, t] = np.random.choice(range(0, K[i]), 1, p = probvec)\n",
    "            S[i][zstates[i][l, t], t] = 1"
   ]
  },
  {
   "cell_type": "code",
   "execution_count": 150,
   "metadata": {
    "collapsed": false
   },
   "outputs": [
    {
     "data": {
      "text/plain": [
       "[array([[1, 3, 2, 4, 2, 2, 3, 1, 3, 0],\n",
       "        [3, 4, 3, 2, 4, 4, 0, 0, 2, 2],\n",
       "        [4, 3, 4, 4, 3, 4, 2, 2, 0, 4],\n",
       "        [4, 3, 4, 1, 4, 1, 0, 0, 2, 1],\n",
       "        [1, 4, 3, 3, 1, 2, 2, 2, 1, 4],\n",
       "        [4, 3, 1, 0, 2, 0, 2, 4, 4, 3],\n",
       "        [4, 2, 2, 2, 2, 2, 2, 2, 4, 3],\n",
       "        [1, 1, 4, 2, 4, 2, 0, 2, 4, 0],\n",
       "        [2, 2, 3, 4, 3, 2, 0, 2, 0, 4],\n",
       "        [2, 2, 4, 4, 2, 2, 2, 2, 1, 2]]),\n",
       " array([[1, 3, 3, 1, 0, 3, 0, 0, 2, 1],\n",
       "        [1, 1, 1, 1, 3, 1, 4, 3, 3, 1],\n",
       "        [1, 2, 2, 1, 0, 1, 4, 4, 1, 1],\n",
       "        [3, 0, 0, 0, 0, 1, 0, 3, 4, 3],\n",
       "        [1, 3, 3, 3, 4, 4, 4, 3, 4, 4],\n",
       "        [3, 4, 1, 4, 4, 1, 4, 4, 4, 1],\n",
       "        [0, 4, 1, 1, 4, 4, 2, 4, 4, 4],\n",
       "        [0, 4, 1, 1, 3, 4, 4, 4, 4, 4],\n",
       "        [1, 4, 3, 3, 1, 4, 4, 4, 4, 4],\n",
       "        [0, 3, 4, 2, 3, 1, 1, 4, 1, 4]]),\n",
       " array([[4, 3, 4, 2, 0, 1, 0, 1, 1, 0],\n",
       "        [0, 1, 1, 2, 1, 0, 0, 1, 1, 0],\n",
       "        [1, 0, 2, 1, 0, 0, 0, 2, 2, 3],\n",
       "        [2, 4, 0, 1, 4, 0, 0, 0, 2, 4],\n",
       "        [2, 1, 0, 2, 0, 1, 0, 0, 3, 2],\n",
       "        [4, 0, 2, 4, 4, 2, 0, 4, 0, 0],\n",
       "        [0, 0, 0, 1, 1, 0, 3, 0, 0, 3],\n",
       "        [2, 0, 0, 2, 1, 2, 4, 4, 4, 0],\n",
       "        [4, 0, 4, 0, 1, 1, 2, 1, 0, 0],\n",
       "        [0, 0, 2, 1, 1, 2, 2, 3, 3, 2]])]"
      ]
     },
     "execution_count": 150,
     "metadata": {},
     "output_type": "execute_result"
    }
   ],
   "source": [
    "zstates"
   ]
  },
  {
   "cell_type": "code",
   "execution_count": 154,
   "metadata": {
    "collapsed": false
   },
   "outputs": [
    {
     "data": {
      "text/plain": [
       "array([  2.70589632e-11,   6.95465156e-12,   1.35537626e-11,\n",
       "         7.87565029e-12,   1.72893460e-11])"
      ]
     },
     "execution_count": 154,
     "metadata": {},
     "output_type": "execute_result"
    }
   ],
   "source": [
    "np.multiply(np.multiply(tback, tfore) , ydense)"
   ]
  },
  {
   "cell_type": "code",
   "execution_count": 122,
   "metadata": {
    "collapsed": false
   },
   "outputs": [
    {
     "data": {
      "text/plain": [
       "array([[ 0.19996081,  0.20403249,  0.29195706,  0.18722926,  0.11682038],\n",
       "       [ 0.21115863,  0.09142438,  0.33052367,  0.19078387,  0.17610944],\n",
       "       [ 0.25710477,  0.06080759,  0.28033881,  0.05051779,  0.35123103],\n",
       "       [ 0.24865014,  0.03889967,  0.22862993,  0.26022202,  0.22359825],\n",
       "       [ 0.02973374,  0.27652913,  0.13364541,  0.26993288,  0.29015885]])"
      ]
     },
     "execution_count": 122,
     "metadata": {},
     "output_type": "execute_result"
    }
   ],
   "source": [
    "Tmat[0][np.where(S[0][:, 0] == 1)[0],]"
   ]
  },
  {
   "cell_type": "code",
   "execution_count": 131,
   "metadata": {
    "collapsed": false
   },
   "outputs": [
    {
     "data": {
      "text/plain": [
       "[array([3, 0, 2, 0, 4, 4, 4, 2, 2, 0]),\n",
       " array([3, 2, 2, 4, 0, 3, 2, 0, 4, 0]),\n",
       " array([2, 2, 1, 0, 1, 1, 4, 4, 4, 4])]"
      ]
     },
     "execution_count": 131,
     "metadata": {},
     "output_type": "execute_result"
    }
   ],
   "source": [
    "zstates"
   ]
  },
  {
   "cell_type": "markdown",
   "metadata": {},
   "source": [
    "# M-Step\n",
    "\n",
    "## 5. M-Step\n",
    "\n",
    "$$ n = T$$\n",
    "$$W^{new} = \\left(\\sum_{t=1}^T Y_t<S_t'>\\right)\\left(\\sum_{t=1}^T<S_tS_t'>\\right)^{\\dagger}$$\n",
    "\n",
    "** Add other update equations **"
   ]
  },
  {
   "cell_type": "code",
   "execution_count": 133,
   "metadata": {
    "collapsed": false
   },
   "outputs": [
    {
     "data": {
      "text/plain": [
       "array([ 0.19996081,  0.20403249,  0.29195706,  0.18722926,  0.11682038])"
      ]
     },
     "execution_count": 133,
     "metadata": {},
     "output_type": "execute_result"
    }
   ],
   "source": [
    "# M is number of hidden state Markov chains\n",
    "# K is vector of number of hidden states for each Markov chain\n",
    "# Y is the D x n matrix of observations\n",
    "# St is a M long list of  K[i] x n matrices of the <S_t^(m)> expectations\n",
    "# Smm is a M long list of K[m] x K[m] x n matrices of <S_t^(m)S_t^(m-1)'> expectations\n",
    "# Snm is a sum(K) x sum(K) x n=T matrix of <S_t^(q)S_t^(m)'> expectations\n",
    "# output is a tuple of updated values from the M step\n",
    "# W is a M long list of D x K[m] matrices\n",
    "# pi is a M long list of K[m] vectors for the initial distributions\n",
    "# Tmat is a M long list of K[m] x K[m] transition matrices\n",
    "# C is a D x D covariance matrix for the Gaussian observations\n",
    "def Mstep(M, K,  Y, St, Smm, Snm):\n",
    "    ### Update W ###\n",
    "    # Concatenate St to be sum(K) x 1 x t\n",
    "    cSt = np.concatenate(St)\n",
    "    s1 = np.multiply(Y, cSt.transpose()) # first sum for Wnew\n",
    "    s2 = np.linalg.pinv(np.sum(Snm, axis = 2)) # second sum for Wnew\n",
    "    Wnew = np.multiply(s1, s2)\n",
    "    # make Wnew back into list of matrices\n",
    "    W = []\n",
    "    pi = []\n",
    "    ind1 = np.insert(np.cumsum(K[1:]), 0, 0)\n",
    "    ind2 = K + np.insert(np.cumsum(K[1:]), 0, 0)\n",
    "    for i in range(0, M):\n",
    "        W.append(Wnew[:, ind1[i]:ind2[i]])\n",
    "        ### Update pi ###\n",
    "        pi.append(cSt[ind1[i]:ind2[i], 0])\n",
    "    \n",
    "    ### Update Transition matrices ###\n",
    "    Tmat = []\n",
    "    for i in range(0, M):\n",
    "        Tnew = np.zeros((K[i], K[i]))\n",
    "        for j in range(0, K[i]):\n",
    "            for l in range(0, K[i]):\n",
    "                Tnew[j,l] =  np.sum(Smm[i][j, l, :])/sum(St[i][l, 0:(n-1)])\n",
    "        Tmat.append(Tnew)\n",
    "        \n",
    "    ### Update C covariance ###\n",
    "    s1 = np.dot(Y, Y.transpose())/n\n",
    "    s2 = np.zeros((D, D))\n",
    "    for t in range(0, n):\n",
    "        for i in range(0, M):\n",
    "            mult1 = np.dot(W[i], St[i][:, t])\n",
    "            s2 += np.dot(mult1, Y[:, t].transpose())\n",
    "    C = s1 - s2/n\n",
    "    \n",
    "    return(W, pi, Tmat, C)"
   ]
  },
  {
   "cell_type": "code",
   "execution_count": 202,
   "metadata": {
    "collapsed": false
   },
   "outputs": [
    {
     "data": {
      "text/plain": [
       "array([[ 204.33394524,  235.31004905,  191.52872607],\n",
       "       [ 235.31004905,  341.70406853,  236.02350824],\n",
       "       [ 191.52872607,  236.02350824,  197.99066919]])"
      ]
     },
     "execution_count": 202,
     "metadata": {},
     "output_type": "execute_result"
    }
   ],
   "source": [
    "np.dot(Y, Y.transpose())/n"
   ]
  },
  {
   "cell_type": "code",
   "execution_count": 135,
   "metadata": {
    "collapsed": false
   },
   "outputs": [
    {
     "data": {
      "text/plain": [
       "array([ 0.04972028,  0.0079368 ,  0.06675012,  0.04872117,  0.02612083])"
      ]
     },
     "execution_count": 135,
     "metadata": {},
     "output_type": "execute_result"
    }
   ],
   "source": [
    "np.multiply(Tmat[0][zstates[0][0], :], Tmat[0][zstates[0][1], :])"
   ]
  },
  {
   "cell_type": "code",
   "execution_count": 180,
   "metadata": {
    "collapsed": false
   },
   "outputs": [
    {
     "data": {
      "text/plain": [
       "array([[ 0.32630789,  0.21268374,  0.44099242,  0.02005337,  0.80203217],\n",
       "       [ 0.09690038,  0.24040777,  0.8267097 ,  0.46484536,  0.0639569 ],\n",
       "       [ 0.05535868,  0.36112397,  0.18277368,  0.62832175,  0.69406504]])"
      ]
     },
     "execution_count": 180,
     "metadata": {},
     "output_type": "execute_result"
    }
   ],
   "source": [
    "test = np.random.rand(3, 5)\n",
    "tt = [2,3]\n",
    "test"
   ]
  },
  {
   "cell_type": "code",
   "execution_count": 196,
   "metadata": {
    "collapsed": false
   },
   "outputs": [
    {
     "data": {
      "text/plain": [
       "array([ 0,  5, 10])"
      ]
     },
     "execution_count": 196,
     "metadata": {},
     "output_type": "execute_result"
    }
   ],
   "source": [
    "#K + \n",
    "np.insert(np.cumsum(K[1:]), 0, 0)"
   ]
  },
  {
   "cell_type": "code",
   "execution_count": 197,
   "metadata": {
    "collapsed": false
   },
   "outputs": [
    {
     "data": {
      "text/plain": [
       "array([ 5, 10, 15])"
      ]
     },
     "execution_count": 197,
     "metadata": {},
     "output_type": "execute_result"
    }
   ],
   "source": [
    "K + np.insert(np.cumsum(K[1:]), 0, 0)"
   ]
  },
  {
   "cell_type": "code",
   "execution_count": 172,
   "metadata": {
    "collapsed": false
   },
   "outputs": [
    {
     "data": {
      "text/plain": [
       "array([3, 2])"
      ]
     },
     "execution_count": 172,
     "metadata": {},
     "output_type": "execute_result"
    }
   ],
   "source": [
    "i = np.array([3, 3, 2])\n",
    "0 + i[1:]"
   ]
  },
  {
   "cell_type": "code",
   "execution_count": 193,
   "metadata": {
    "collapsed": false
   },
   "outputs": [
    {
     "data": {
      "text/plain": [
       "array([ 5, 10])"
      ]
     },
     "execution_count": 193,
     "metadata": {},
     "output_type": "execute_result"
    }
   ],
   "source": [
    "np.cumsum(K[1:])"
   ]
  },
  {
   "cell_type": "code",
   "execution_count": null,
   "metadata": {
    "collapsed": true
   },
   "outputs": [],
   "source": []
  }
 ],
 "metadata": {
  "kernelspec": {
   "display_name": "Python 3",
   "language": "python",
   "name": "python3"
  },
  "language_info": {
   "codemirror_mode": {
    "name": "ipython",
    "version": 3
   },
   "file_extension": ".py",
   "mimetype": "text/x-python",
   "name": "python",
   "nbconvert_exporter": "python",
   "pygments_lexer": "ipython3",
   "version": "3.5.1"
  }
 },
 "nbformat": 4,
 "nbformat_minor": 0
}
