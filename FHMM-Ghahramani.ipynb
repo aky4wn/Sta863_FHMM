{
 "cells": [
  {
   "cell_type": "markdown",
   "metadata": {
    "collapsed": true
   },
   "source": [
    "# STA 863 Final Project - FHMM\n",
    "*Factorial Hidden Markov Models* - Gharamani and Jordan\n"
   ]
  },
  {
   "cell_type": "code",
   "execution_count": 1,
   "metadata": {},
   "outputs": [],
   "source": [
    "import numpy as np\n",
    "import pandas as pd\n",
    "import csv\n",
    "from numpy import linspace,exp\n",
    "from numpy.random import randn\n",
    "import matplotlib.pyplot as plt\n",
    "from scipy.interpolate import UnivariateSpline\n",
    "from scipy.stats import multivariate_normal\n",
    "import seaborn as sns\n",
    "np.random.seed(17)"
   ]
  },
  {
   "cell_type": "code",
   "execution_count": 2,
   "metadata": {},
   "outputs": [],
   "source": [
    "# Calculate log likelihood\n",
    "# n is number of observations\n",
    "# W is a M long list of D x K[m] matrices\n",
    "# pi is a M long list of K[m] vectors for the initial distributions\n",
    "# Tmat is a M long list of K[m] x K[m] transition matrices\n",
    "# C is a D x D covariance matrix for the Gaussian observations \n",
    "# mu is a D x n mean matrix\n",
    "def log_like(n, pi, Tmat, mu, C, Y, zstates):\n",
    "    y_prob = np.zeros(n) # emission probabilities\n",
    "    t_prob = 0 # transition matrix probabilities\n",
    "    pi_prob = 0 # initial probability\n",
    "    for i in range(0, M):\n",
    "            pi_prob += np.log(pi[i][zstates[i][0]])\n",
    "    \n",
    "    for t in range(0, n):\n",
    "        y_prob[t] = np.log(multivariate_normal.pdf(Y[:, t], mean = mu[:, t], cov = C))  \n",
    "        \n",
    "        for i in range(0, M):\n",
    "            t_prob += Tmat[i][zstates[i][t-1], zstates[i][t]]\n",
    "    ll = pi_prob + t_prob + np.sum(y_prob)        \n",
    "    return(ll)"
   ]
  },
  {
   "cell_type": "markdown",
   "metadata": {},
   "source": [
    "## 1. Generate Toy Data and Parameters\n",
    "\n",
    "$$P({S_t, Y_t}) = P(S_1)P(Y_1 | S_1)\\prod_{t=2}^T P(S_t | S_{t-1})P(Y_t | S_t)$$\n",
    "\n",
    "- Assume three different chains, each with 5 hidden states each\n",
    "- M = 3, K = (5, 5, 5)\n",
    "- n = 10 observations, D = 3 (dimension of Gaussian)\n",
    "- Normal Model"
   ]
  },
  {
   "cell_type": "code",
   "execution_count": 13,
   "metadata": {},
   "outputs": [],
   "source": [
    "M = 3 ## Number of independent hidden state chains\n",
    "K = np.array([5, 5, 5]) ## number of hidden states for each chain\n",
    "D = 3 ## Dimension of Gaussian\n",
    "n = 10 ## number of observations\n",
    "\n",
    "\n",
    "## Generate distribtions\n",
    "pi = [] ## initial distribution\n",
    "Tmat = []  ## transition distribution\n",
    "W = [] ## contribution to means matrices D x K\n",
    "for i in range(0, M):\n",
    "    vals = np.random.rand(K[i])\n",
    "    pi.append(vals/np.sum(vals))\n",
    "    vals1 = np.random.rand(K[i], K[i])\n",
    "    Tmat.append(vals1/np.sum(vals1, axis=1)[:,None])\n",
    "    W.append(10*np.random.rand(D, K[i]))\n",
    "    \n",
    "## Generate state variables\n",
    "S = []\n",
    "for i in range(0, M):\n",
    "    zstates = np.arange(0, K[i], dtype = int)\n",
    "    z = np.zeros(n, dtype = int)\n",
    "    zmat = np.zeros((K[i], n), dtype = int)\n",
    "    z[0] = np.random.choice(zstates, size = 1, p = pi[i])\n",
    "    zmat[z[0], 0] = 1\n",
    "    for j in range(1, n):\n",
    "        z[j] = np.random.choice(zstates, size = 1, p = Tmat[i][z[j-1], :])\n",
    "        zmat[z[j], j] = 1\n",
    "    S.append(zmat)\n",
    "#x = np.random.normal(size=D)\n",
    "#y = np.random.normal(size=D)\n",
    "#z = np.vstack((x, y))\n",
    "#C = np.cov(z.T) ## covariance matrix\n",
    "C = np.identity(D)\n",
    "mu = np.zeros((D, n))\n",
    "Y = np.zeros((D, n))\n",
    "for t in range(0, n):\n",
    "    for i in range(0, M):\n",
    "        mu[:, t] += np.dot(W[i], S[i][:, t])\n",
    "    Y[:, t] = np.random.multivariate_normal(mu[:, t], C, 1)\n"
   ]
  },
  {
   "cell_type": "code",
   "execution_count": 14,
   "metadata": {},
   "outputs": [],
   "source": [
    "#C_new = np.dot((np.array([1, 2, 1] ) - np.array([0, 0.7, 0]))[np.newaxis].transpose(), \n",
    "#               (np.array([1, 2, 1] ) - np.array([0, 0.7, 0]))[np.newaxis])\n",
    "#print(np.all(np.linalg.eigvals(C_new) > 0))\n",
    "#C_new"
   ]
  },
  {
   "cell_type": "code",
   "execution_count": 15,
   "metadata": {},
   "outputs": [
    {
     "name": "stdout",
     "output_type": "stream",
     "text": [
      "Pi\n",
      "[[0.386 0.302 0.112 0.016 0.185]\n",
      " [0.253 0.122 0.247 0.265 0.113]\n",
      " [0.128 0.025 0.051 0.412 0.384]]\n",
      "Tmat\n",
      "[[[0.114 0.304 0.158 0.073 0.35 ]\n",
      "  [0.286 0.121 0.102 0.219 0.272]\n",
      "  [0.23  0.288 0.192 0.092 0.198]\n",
      "  [0.411 0.047 0.063 0.263 0.216]\n",
      "  [0.193 0.276 0.177 0.11  0.245]]\n",
      "\n",
      " [[0.357 0.148 0.151 0.036 0.309]\n",
      "  [0.15  0.299 0.297 0.241 0.014]\n",
      "  [0.145 0.445 0.264 0.072 0.074]\n",
      "  [0.204 0.066 0.407 0.221 0.102]\n",
      "  [0.086 0.013 0.29  0.291 0.32 ]]\n",
      "\n",
      " [[0.239 0.27  0.087 0.117 0.288]\n",
      "  [0.004 0.153 0.137 0.3   0.405]\n",
      "  [0.114 0.453 0.158 0.236 0.038]\n",
      "  [0.128 0.145 0.275 0.125 0.327]\n",
      "  [0.091 0.177 0.103 0.226 0.403]]]\n",
      "W\n",
      "[[[1.898 6.862 3.961 3.656 5.953]\n",
      "  [1.408 6.491 1.17  8.132 4.738]\n",
      "  [0.741 4.356 4.958 4.26  1.008]]\n",
      "\n",
      " [[9.46  4.88  9.513 2.214 8.977]\n",
      "  [0.802 0.023 0.872 5.313 3.121]\n",
      "  [7.695 4.188 5.531 4.486 0.392]]\n",
      "\n",
      " [[9.885 9.561 3.844 5.078 5.083]\n",
      "  [5.791 4.537 2.341 6.344 1.393]\n",
      "  [6.019 1.392 0.997 7.005 4.745]]]\n",
      "C\n",
      "[[1. 0. 0.]\n",
      " [0. 1. 0.]\n",
      " [0. 0. 1.]]\n",
      "Z states\n",
      "[4, 1, 0, 0, 1, 0, 2, 2, 4, 3]\n",
      "[3, 4, 2, 3, 2, 0, 1, 2, 2, 0]\n",
      "[4, 0, 2, 3, 4, 4, 0, 4, 0, 0]\n",
      "Log-Likelihood\n"
     ]
    },
    {
     "data": {
      "text/plain": [
       "-44.81858617512091"
      ]
     },
     "execution_count": 15,
     "metadata": {},
     "output_type": "execute_result"
    }
   ],
   "source": [
    "print(\"Pi\")\n",
    "print(np.round(pi, 3))\n",
    "print(\"Tmat\")\n",
    "print(np.round(Tmat, 3))\n",
    "print(\"W\")\n",
    "print(np.round(W, 3))\n",
    "print(\"C\")\n",
    "print(np.round(C, 3))\n",
    "print(\"Z states\")\n",
    "print([np.where(S[0][:, t] == 1)[0][0] for t in range(n)])\n",
    "print([np.where(S[1][:, t] == 1)[0][0] for t in range(n)])\n",
    "print([np.where(S[2][:, t] == 1)[0][0] for t in range(n)])\n",
    "print('Log-Likelihood')\n",
    "zstore = [[np.where(S[0][:, t] == 1)[0][0] for t in range(n)], [np.where(S[1][:, t] == 1)[0][0] for t in range(n)],\n",
    "         [np.where(S[2][:, t] == 1)[0][0] for t in range(n)]]\n",
    "log_like(n, pi, Tmat, mu, C, Y, zstore)"
   ]
  },
  {
   "cell_type": "code",
   "execution_count": 16,
   "metadata": {},
   "outputs": [
    {
     "data": {
      "image/png": "[encoded data removed]",
      "text/plain": [
       "<Figure size 432x288 with 2 Axes>"
      ]
     },
     "metadata": {},
     "output_type": "display_data"
    }
   ],
   "source": [
    "sns.heatmap(Y)\n",
    "plt.title(\"Toy Data Y Values\")\n",
    "pass"
   ]
  },
  {
   "cell_type": "markdown",
   "metadata": {},
   "source": [
    "# E - Step\n",
    "\n",
    "## 2. Gibbs Sampling \n",
    "\n",
    "$$S_t^{(m)} \\propto P(S_t^{(m)} | S_{t-1}^{(m)})P(S_{t+1}|S_t^{(m)})P(Y_t | S_t^{(1)}, \\ldots, S_t^{(M)})$$"
   ]
  },
  {
   "cell_type": "code",
   "execution_count": 6,
   "metadata": {},
   "outputs": [],
   "source": [
    "# Calculate transition matrix from a vector\n",
    "# q is a vector from 0 to m different states\n",
    "# return m x m transition matrix b\n",
    "from collections import Counter\n",
    "def trans_mat(q, m):\n",
    "    b = np.zeros((m,m))\n",
    "    for (x,y), c in Counter(zip(q, q[1:])).items():\n",
    "        b[x, y] = c\n",
    "    return(b)\n",
    "\n",
    "\n",
    "# t is the time step to be updated\n",
    "# y is the observed value at that time step\n",
    "# M is the number of hidden Markov chains\n",
    "# K is a vector of number of hidden states for each chain\n",
    "# C is covariance matrix for emission distribution\n",
    "# W is a list of M D x K matrix, columns contribution to mean of each state variable \n",
    "# S is a M long list of current states, each element of list is K[i] x n long (n number of observations)\n",
    "# update is which of M chains to calculate emission probabilities for, for every K[i] possible values\n",
    "# output is a K[update] vector of density of y for each possible value of S[update]\n",
    "def y_density(t, y, M, K, S, C, W, update):\n",
    "    ydense = np.zeros(K[update]) ## output density for each possible value of S[update]\n",
    "    Stemp = S\n",
    "    for i in range(0, K[update]):\n",
    "        mu = 0\n",
    "        Stemp[update][:, t] = 0\n",
    "        Stemp[update][i, t] = 1 # state variable value to calculate probability for\n",
    "        for j in range(0, M):\n",
    "            mu += np.dot(W[j], Stemp[j][:, t])\n",
    "        ydense[i] = multivariate_normal.pdf(y, mean = mu, cov = C)\n",
    "    return(ydense)\n",
    "\n",
    "\n",
    "\n",
    "# n is the number of observations\n",
    "# M is number of Markov hidden chains\n",
    "# K is number of hidden states for each chain (1 x M vector)\n",
    "# Y is the matrix of observations (D x n)\n",
    "# Tmat is a list of M KxK transition matrices\n",
    "# W is a list of M D x K matrix, columns contribution to mean of each state variable\n",
    "# C is the covariance matrix for the observations\n",
    "# it is the number of iterations to run for the Gibbs Sampler\n",
    "# output is:\n",
    "# St is a M long list of  K[i] x n matrices of the <S_t^(m)> expectations\n",
    "# Smm is a M long list of K[m] x K[m] x n matrices of <S_t-1^(m)S_t^(m)'> expectations\n",
    "# Snm is a sum(K) x sum(K) x n=T matrix of <S_t^(q)S_t^(m)'> expectations\n",
    "def gibbs_sampler(n, M, K, Y, Tmat, W, C, it = 10):\n",
    "    # Randomly initialize state vectors\n",
    "    S = []\n",
    "    zstates = []\n",
    "    for i in range(0, M):\n",
    "        s = np.zeros((K[i], n), dtype = int)\n",
    "        ind = np.random.choice(range(0, K[i]), n)\n",
    "        s[ind, range(0, n)] = 1\n",
    "        zz = np.zeros((it, n), dtype = int)\n",
    "        zz[0, :] = ind\n",
    "        zstates.append(zz)\n",
    "        S.append(s)\n",
    "        \n",
    "    for l in range(1, it):\n",
    "        ## update one  chain at a time\n",
    "        for i in range(0, M):\n",
    "            ## step through each time point\n",
    "            for t in range(0, n):\n",
    "                ## select P(S_t | S_t-1)\n",
    "                if t == 0:\n",
    "                    tback = np.ones(K[i])\n",
    "                else:\n",
    "                    prev = zstates[i][l-1, t-1]\n",
    "                    tback = Tmat[i][prev, :]\n",
    "                ## select P(S_t+1 | S_t)\n",
    "                if t == (n-1):\n",
    "                    tfore = np.ones(K[i])\n",
    "                else:\n",
    "                    fore = zstates[i][l-1, t]\n",
    "                    tfore = Tmat[i][fore, :]\n",
    "                ## calculate P(Y_t | S_t^1, S_t^2, ..., S_t^M)\n",
    "                ydense = y_density(t, Y[:, t], M, K, S, C, W, i)\n",
    "                \n",
    "                ## Calculate probability for each state for S_t^i\n",
    "                probvec = np.multiply(np.multiply(tback, tfore) , ydense)\n",
    "                if np.sum(probvec) == 0: # check if all states have 0 probability\n",
    "                    probvec = np.ones(len(probvec)) # reset to equal probs if so\n",
    "                probvec = probvec/sum(probvec)\n",
    "                ## sample state and update vector\n",
    "                zstates[i][l, t] = np.random.choice(range(0, K[i]), 1, p = probvec)\n",
    "                S[i][zstates[i][l, t], t] = 1\n",
    "    \n",
    "    ## Calculate expectations\n",
    "    # <S_t^(m)>\n",
    "    St = []\n",
    "    Smm = []\n",
    "    for i in range(0, M):\n",
    "        uprobs = [np.unique(zstates[i][:, t], return_counts = True)[1]/it for t in range(0,n)] # calculate probs\n",
    "        zmat = np.zeros((n, K[i]))\n",
    "        inds = [np.unique(zstates[i][:, t], return_counts = True)[0] for t in range(0,n)]\n",
    "        for t in range(n):\n",
    "            zmat[t, inds[t]] = uprobs[t]\n",
    "        St.append(zmat)\n",
    "        # calculate trans mat\n",
    "        Smm.append(np.stack([trans_mat(zstates[i][:, t], K[i])/(it-1) for t in range(0, n)], axis = 2))  \n",
    "    \n",
    "    # <S_t^(m)S_t^(n)>\n",
    "    Snm = np.zeros((sum(K), sum(K), n))\n",
    "    ind1 = np.insert(np.cumsum(K[1:]), 0, 0) # indices for Snm matrix\n",
    "    ind2 = K + np.insert(np.cumsum(K[1:]), 0, 0)\n",
    "    for t in range(0, n):\n",
    "        for i in range(0, M):\n",
    "            for j in range(0, M):\n",
    "                if i == j:\n",
    "                    s1 = np.zeros((K[i], K[i]))\n",
    "                    mm = np.unique(zstates[i][:, t], return_counts = True)\n",
    "                    s1[mm[0], mm[0]] = mm[1]/it\n",
    "                    Snm[ind1[i]:ind2[i], ind1[i]:ind2[i], t] = s1\n",
    "                s2 = np.zeros((K[i], K[j]))\n",
    "                for l in range(0, it):\n",
    "                    s2[zstates[i][l, t], zstates[j][l, t]] += 1\n",
    "                Snm[ind1[i]:ind2[i], ind1[j]:ind2[j], t] = s2/it\n",
    "    \n",
    "    return(St, Smm, Snm)"
   ]
  },
  {
   "cell_type": "markdown",
   "metadata": {},
   "source": [
    "## 3. Completely Factorized VI"
   ]
  },
  {
   "cell_type": "code",
   "execution_count": 7,
   "metadata": {},
   "outputs": [],
   "source": [
    "## KL divergence (to monitor convergence of approximation) - equation C.9\n",
    "# n is the number of observations\n",
    "# M is number of Markov hidden chains\n",
    "# K is number of hidden states for each chain (1 x M vector)\n",
    "# Y is the matrix of observations (D x n)\n",
    "# pi is M long list of initial distributions\n",
    "# Tmat is a list of M KxK transition matrices\n",
    "# W is a list of M D x K matrix, columns contribution to mean of each state variable\n",
    "# C is the covariance matrix for the observations\n",
    "# Return KL divergence\n",
    "def KL_factorized(n, M, K, Y, theta, pi, Tmat, W, C):\n",
    "    term1 = 0\n",
    "    term2 = 0\n",
    "    term3 = 0\n",
    "    term4 = 0\n",
    "    term5 = 0\n",
    "    term6 = 0\n",
    "    term7 = 0\n",
    "    for t in range(n):\n",
    "        term2 += np.dot(Y[:, t].transpose() , np.dot(np.linalg.inv(C), Y[:, t]))\n",
    "        for i in range(M):\n",
    "            term1 += np.dot(theta[i][:, t].transpose(), np.log(theta[i][:, t]))\n",
    "            term3 += np.dot(np.dot(Y[:, t].transpose(), np.linalg.inv(C)), np.dot(W[i], theta[i][:, t]))\n",
    "            for j in range(M):\n",
    "                if i != j:\n",
    "                    targ1 = np.dot(np.dot(W[i].transpose(), np.linalg.inv(C)), W[j])\n",
    "                    targ2 = np.dot(theta[j][:, t], theta[i][:, t].transpose())\n",
    "                    term4 += np.trace(np.dot(targ1, targ2))\n",
    "            \n",
    "            term5 += np.trace(np.dot(np.dot(W[i].transpose(), np.linalg.inv(C)), \n",
    "                                     np.dot(W[i], np.diag(theta[i][:, t]))))\n",
    "            if t > 0:\n",
    "                term7 += np.trace(np.outer(theta[i][:, t-1], np.dot(theta[i][:, t].transpose(), np.log(Tmat[i]))))\n",
    "                \n",
    "    for i in range(M):\n",
    "        term6 += np.dot(theta[i][:, 0].transpose(), np.log(pi[i]))\n",
    "        \n",
    "    # Find normalizing constants\n",
    "    \n",
    "    KL = term1 + 0.5*(term2 - 2*term3 + term4 + term5) + term6 + term7\n",
    "    return(KL)\n",
    "    "
   ]
  },
  {
   "cell_type": "code",
   "execution_count": 210,
   "metadata": {},
   "outputs": [],
   "source": [
    "# Softmax operator on input vector x\n",
    "def softmax(x):\n",
    "    return(exp(x)/sum(exp(x)))\n",
    "\n",
    "\n",
    "# n is the number of observations\n",
    "# M is number of Markov hidden chains\n",
    "# K is number of hidden states for each chain (1 x M vector)\n",
    "# Y is the matrix of observations (D x n)\n",
    "# theta is a M long list of K[m] x n matrices from completely factorized VI approx\n",
    "# pi is M long list of initial distributions\n",
    "# Tmat is a list of M KxK transition matrices\n",
    "# W is a list of M D x K matrix, columns contribution to mean of each state variable\n",
    "# C is the covariance matrix for the observations\n",
    "# tol is the tolerance for convergence of the KL divergence to stop the iterations\n",
    "# output is:\n",
    "# St is a M long list of  K[i] x n matrices of the <S_t^(m)> expectations\n",
    "# Smm is a M long list of K[m] x K[m] x n matrices of <S_t-1^(m)S_t^(m)'> expectations\n",
    "# Snm is a sum(K) x sum(K) x n=T matrix of <S_t^(q)S_t^(m)'> expectations\n",
    "def factorized_VI(n, M, K, Y, pi, Tmat, W, C, tol):\n",
    "    D = Y.shape[0]\n",
    "    thetaOld = []\n",
    "    thetaNew = []\n",
    "    for i in range(M):\n",
    "        vals1 = np.random.rand(K[i], n)\n",
    "        thetaOld.append(vals1/np.sum(vals1, axis=0)[None, :])\n",
    "        thetaNew.append(np.zeros((K[i], n)))\n",
    "\n",
    "    KLOld = 10E10\n",
    "    convergence = 0\n",
    "    iterations = 0\n",
    "    maxit = 20 ## max number of iterations\n",
    "    while(convergence == 0):\n",
    "        for i in range(M):\n",
    "            for t in range(n):\n",
    "                ## Calculate Y tilde\n",
    "                s1 = np.zeros((D, 1))\n",
    "                for j in np.delete(np.arange(M), i):\n",
    "                    s1 += np.dot(W[j], thetaOld[j][:, t])[np.newaxis].transpose()\n",
    "                Ytilde = Y[:, t][np.newaxis].transpose() - s1\n",
    "                ## Calculate delta term\n",
    "                delta = np.dot(W[i].transpose(), np.dot(np.linalg.inv(C), W[i])).diagonal()\n",
    "                ## Calculate first term\n",
    "                term1 = np.dot(np.dot(W[i].transpose(), np.linalg.inv(C)), Ytilde)\n",
    "                term2 = delta[np.newaxis].transpose()/2\n",
    "                if t > 0:\n",
    "                    term3 = np.dot(np.log(Tmat[i]), thetaOld[i][:, t-1])[:, np.newaxis]\n",
    "                else:\n",
    "                    term3 = np.log(pi[i])[np.newaxis].transpose()\n",
    "                if t < n-1:\n",
    "                    term4 = np.dot(np.log(Tmat[i]).transpose(), thetaOld[i][:, t+1])[np.newaxis].transpose()\n",
    "                else:\n",
    "                    term4 = np.zeros(K[i])[np.newaxis].transpose()\n",
    "                ## Find sum\n",
    "                sumterm = term1 - term2 + term3 + term4\n",
    "                thetaNew[i][:, t] = softmax(sumterm).transpose()\n",
    "\n",
    "\n",
    "\n",
    "\n",
    "\n",
    "        ## Check KL divergence\n",
    "\n",
    "\n",
    "\n",
    "        KLNew = KL_factorized(n, M, K, Y, thetaNew, pi, Tmat, W, C)\n",
    "        #print(KLNew)\n",
    "        criteria = abs(KLOld - KLNew)\n",
    "        if criteria < tol or iterations > maxit:\n",
    "            convergence = 1\n",
    "        else:\n",
    "            convergence = 0\n",
    "            KLOld = KLNew\n",
    "            thetaOld = thetaNew\n",
    "\n",
    "        iterations += 1\n",
    "\n",
    "    ## Find expectations\n",
    "    # St is a M long list of  K[i] x n matrices of the <S_t^(m)> expectations\n",
    "    # Smm is a M long list of K[m] x K[m] x n matrices of <S_t-1^(m)S_t^(m)'> expectations\n",
    "    # Snm is a sum(K) x sum(K) x n=T matrix of <S_t^(q)S_t^(m)'> expectations\n",
    "    St = [np.zeros((K[i], n)) for i in range(M)]\n",
    "    Smm = [np.zeros((K[i], K[i], n)) for i in range(M)]\n",
    "    Snm = np.zeros((np.sum(K), np.sum(K), n))\n",
    "    for i in range(M):\n",
    "        for t in range(n):\n",
    "            St[i][:, t] = thetaNew[i][:, t]\n",
    "            if t == 0:\n",
    "                Smm[i][:, :, t] = np.outer(pi[i], thetaNew[i][:, t])\n",
    "            else:\n",
    "                Smm[i][:, :, t] = np.outer(thetaNew[i][:, t-1], thetaNew[i][:, t])\n",
    "\n",
    "    ind1 = np.insert(np.cumsum(K[1:]), 0, 0) # indices for Snm matrix\n",
    "    ind2 = K + np.insert(np.cumsum(K[1:]), 0, 0)\n",
    "    for t in range(0, n):\n",
    "        for i in range(0, M):\n",
    "            for j in range(0, M):\n",
    "                if i == j:\n",
    "                    Snm[ind1[i]:ind2[i], ind1[i]:ind2[i], t] = np.diag(thetaNew[i][:, t])\n",
    "                else:\n",
    "                    Snm[ind1[i]:ind2[i], ind1[j]:ind2[j], t] = np.outer(thetaNew[i][:, t], thetaNew[j][:, t])\n",
    "                    \n",
    "    return(St, Smm, Snm)"
   ]
  },
  {
   "cell_type": "code",
   "execution_count": 200,
   "metadata": {},
   "outputs": [
    {
     "data": {
      "text/plain": [
       "array([[20, 25, 30],\n",
       "       [12, 15, 18],\n",
       "       [ 8, 10, 12]])"
      ]
     },
     "execution_count": 200,
     "metadata": {},
     "output_type": "execute_result"
    }
   ],
   "source": [
    "np.outer(np.array([5, 3, 2]), np.array([4, 5, 6]))"
   ]
  },
  {
   "cell_type": "code",
   "execution_count": 202,
   "metadata": {},
   "outputs": [
    {
     "data": {
      "text/plain": [
       "array([[20, 25, 30],\n",
       "       [12, 15, 18],\n",
       "       [ 8, 10, 12]])"
      ]
     },
     "execution_count": 202,
     "metadata": {},
     "output_type": "execute_result"
    }
   ],
   "source": [
    "np.dot(np.array([5, 3, 2])[:, np.newaxis], np.array([4, 5, 6])[np.newaxis])"
   ]
  },
  {
   "cell_type": "code",
   "execution_count": 920,
   "metadata": {},
   "outputs": [],
   "source": [
    "St, Smm, Snm = factorized_VI(n, M, K, Y, pi_new, Tmat_new, W_new, C_new, 10E-5)"
   ]
  },
  {
   "cell_type": "code",
   "execution_count": 209,
   "metadata": {},
   "outputs": [
    {
     "data": {
      "text/plain": [
       "(5, 5)"
      ]
     },
     "execution_count": 209,
     "metadata": {},
     "output_type": "execute_result"
    }
   ],
   "source": [
    "np.outer(thetaNew[0][:, 1], thetaNew[1][:, 1]).shape"
   ]
  },
  {
   "cell_type": "code",
   "execution_count": null,
   "metadata": {
    "collapsed": true
   },
   "outputs": [],
   "source": [
    "# St is a M long list of  K[i] x n matrices of the <S_t^(m)> expectations\n",
    "# Smm is a M long list of K[m] x K[m] x n matrices of <S_t-1^(m)S_t^(m)'> expectations\n",
    "# Snm is a sum(K) x sum(K) x n=T matrix of <S_t^(q)S_t^(m)'> expectations"
   ]
  },
  {
   "cell_type": "code",
   "execution_count": 193,
   "metadata": {},
   "outputs": [],
   "source": [
    "D, n = Y.shape\n",
    "M = 3\n",
    "K = np.array([5,5,5])\n",
    "## Initialize params\n",
    "pi = [] ## initial distribution\n",
    "Tmat = []  ## transition distribution\n",
    "W = [] ## contribution to means matrices D x K\n",
    "for i in range(0, M):\n",
    "    vals = np.random.rand(K[i])\n",
    "    pi.append(vals/np.sum(vals))\n",
    "    vals1 = np.random.rand(K[i], K[i])\n",
    "    Tmat.append(vals1/np.sum(vals1, axis=1)[:,None])\n",
    "    W.append(np.random.rand(D, K[i]))\n",
    "C = np.identity(D)\n",
    "tol = 10E5"
   ]
  },
  {
   "cell_type": "code",
   "execution_count": 194,
   "metadata": {},
   "outputs": [],
   "source": [
    "D = Y.shape[0]\n",
    "thetaOld = []\n",
    "thetaNew = []\n",
    "for i in range(M):\n",
    "    vals1 = np.random.rand(K[i], n)\n",
    "    thetaOld.append(vals1/np.sum(vals1, axis=0)[None, :])\n",
    "    thetaNew.append(np.zeros((K[i], n)))\n",
    "\n",
    "KLOld = 10E10\n",
    "convergence = 0\n",
    "iterations = 0\n",
    "maxit = 20 ## max number of iterations\n",
    "for i in range(M):\n",
    "    for t in range(n):\n",
    "        ## Calculate Y tilde\n",
    "        s1 = np.zeros((D, 1))\n",
    "        for j in np.delete(np.arange(M), i):\n",
    "            s1 += np.dot(W[j], thetaOld[j][:, t])[np.newaxis].transpose()\n",
    "        Ytilde = Y[:, t][np.newaxis].transpose() - s1\n",
    "        ## Calculate delta term\n",
    "        delta = np.dot(W[i].transpose(), np.dot(np.linalg.inv(C), W[i])).diagonal()\n",
    "        ## Calculate first term\n",
    "        term1 = np.dot(np.dot(W[i].transpose(), np.linalg.inv(C)), Ytilde)\n",
    "        term2 = delta[np.newaxis].transpose()/2\n",
    "        if t > 0:\n",
    "            term3 = np.dot(np.log(Tmat[i]), thetaOld[i][:, t-1])[:, np.newaxis]\n",
    "        else:\n",
    "            term3 = np.log(pi[i])[np.newaxis].transpose()\n",
    "        if t < n-1:\n",
    "            term4 = np.dot(np.log(Tmat[i]).transpose(), thetaOld[i][:, t+1])[np.newaxis].transpose()\n",
    "        else:\n",
    "            term4 = np.zeros(K[i])[np.newaxis].transpose()\n",
    "        ## Find sum\n",
    "        sumterm = term1 - term2 + term3 + term4\n",
    "        thetaNew[i][:, t] = softmax(sumterm).transpose()\n",
    "\n",
    "\n",
    "\n"
   ]
  },
  {
   "cell_type": "code",
   "execution_count": 190,
   "metadata": {},
   "outputs": [
    {
     "data": {
      "text/plain": [
       "array([0., 0., 0., 0., 0.])"
      ]
     },
     "execution_count": 190,
     "metadata": {},
     "output_type": "execute_result"
    }
   ],
   "source": [
    "thetaNew[i][:, 0]"
   ]
  },
  {
   "cell_type": "code",
   "execution_count": 192,
   "metadata": {},
   "outputs": [
    {
     "data": {
      "text/plain": [
       "array([[1.48357414e-07, 2.15441709e-04, 1.28558250e-03, 2.17006887e-03,\n",
       "        9.96328759e-01]])"
      ]
     },
     "execution_count": 192,
     "metadata": {},
     "output_type": "execute_result"
    }
   ],
   "source": [
    "softmax(sumterm).transpose()"
   ]
  },
  {
   "cell_type": "code",
   "execution_count": 186,
   "metadata": {},
   "outputs": [
    {
     "data": {
      "text/plain": [
       "array([3.56750276e-09, 3.83189094e-04, 7.32224451e-04, 1.43439099e-04,\n",
       "       9.98741144e-01])"
      ]
     },
     "execution_count": 186,
     "metadata": {},
     "output_type": "execute_result"
    }
   ],
   "source": [
    "thetaNew[i][:, t]"
   ]
  },
  {
   "cell_type": "code",
   "execution_count": 905,
   "metadata": {},
   "outputs": [],
   "source": [
    "term1 = 0\n",
    "term2 = 0\n",
    "term3 = 0\n",
    "term4 = 0\n",
    "term5 = 0\n",
    "term6 = 0\n",
    "term7 = 0\n",
    "for t in range(n):\n",
    "    term2 += np.dot(Y[:, t].transpose() , np.dot(np.linalg.inv(C), Y[:, t]))\n",
    "    for i in range(M):\n",
    "        term1 += np.dot(thetaNew[i][:, t].transpose(), np.log(thetaNew[i][:, t]))\n",
    "        term3 += np.dot(np.dot(Y[:, t].transpose(), np.linalg.inv(C)), np.dot(W[i], thetaNew[i][:, t]))\n",
    "        for j in range(M):\n",
    "            if i != j:\n",
    "                targ1 = np.dot(np.dot(W[i].transpose(), np.linalg.inv(C)), W[j])\n",
    "                targ2 = np.dot(thetaNew[j][:, t], thetaNew[i][:, t].transpose())\n",
    "                term4 += np.trace(np.dot(targ1, targ2))\n",
    "\n",
    "        term5 += np.trace(np.dot(np.dot(W[i].transpose(), np.linalg.inv(C)), \n",
    "                                 np.dot(W[i], np.diag(thetaNew[i][:, t]))))\n",
    "        if t > 0:\n",
    "            term7 += np.trace(np.outer(thetaNew[i][:, t-1], np.dot(thetaNew[i][:, t].transpose(), np.log(Tmat[i]))))\n",
    "\n",
    "for i in range(M):\n",
    "    term6 += np.dot(thetaNew[i][:, 0].transpose(), np.log(pi[i]))\n",
    "\n",
    "# Find normalizing constants\n",
    "\n",
    "KL = term1 + 0.5*(term2 - 2*term3 + term4 + term5) + term6 + term7"
   ]
  },
  {
   "cell_type": "code",
   "execution_count": 906,
   "metadata": {},
   "outputs": [
    {
     "data": {
      "text/plain": [
       "3844.0901813927467"
      ]
     },
     "execution_count": 906,
     "metadata": {},
     "output_type": "execute_result"
    }
   ],
   "source": [
    "KL"
   ]
  },
  {
   "cell_type": "code",
   "execution_count": 904,
   "metadata": {},
   "outputs": [
    {
     "data": {
      "text/plain": [
       "-1.502016449897567"
      ]
     },
     "execution_count": 904,
     "metadata": {},
     "output_type": "execute_result"
    }
   ],
   "source": [
    "np.trace(np.outer(thetaNew[i][:, t-1], np.dot(thetaNew[i][:, t].transpose(), np.log(Tmat[i]))))"
   ]
  },
  {
   "cell_type": "code",
   "execution_count": 903,
   "metadata": {},
   "outputs": [
    {
     "data": {
      "text/plain": [
       "-1.5020164498975672"
      ]
     },
     "execution_count": 903,
     "metadata": {},
     "output_type": "execute_result"
    }
   ],
   "source": [
    "np.dot(thetaNew[i][:, t-1], np.dot(thetaNew[i][:, t].transpose(), np.log(Tmat[i])))"
   ]
  },
  {
   "cell_type": "code",
   "execution_count": null,
   "metadata": {
    "collapsed": true
   },
   "outputs": [],
   "source": []
  },
  {
   "cell_type": "code",
   "execution_count": null,
   "metadata": {
    "collapsed": true
   },
   "outputs": [],
   "source": []
  },
  {
   "cell_type": "code",
   "execution_count": null,
   "metadata": {
    "collapsed": true
   },
   "outputs": [],
   "source": []
  },
  {
   "cell_type": "markdown",
   "metadata": {},
   "source": [
    "# M-Step\n",
    "\n",
    "## 5. M-Step\n",
    "\n",
    "$$ n = T$$\n",
    "$$W^{new} = \\left(\\sum_{t=1}^T Y_t<S_t'>\\right)\\left(\\sum_{t=1}^T<S_tS_t'>\\right)^{\\dagger}$$\n",
    "\n",
    "** Add other update equations **"
   ]
  },
  {
   "cell_type": "code",
   "execution_count": 136,
   "metadata": {},
   "outputs": [],
   "source": [
    "# M is number of hidden state Markov chains\n",
    "# K is vector of number of hidden states for each Markov chain\n",
    "# Y is the D x n matrix of observations\n",
    "# St is a M long list of  K[i] x n matrices of the <S_t^(m)> expectations\n",
    "# Smm is a M long list of K[m] x K[m] x n matrices of <S_t-1^(m)S_t^(m)'> expectations\n",
    "# Snm is a sum(K) x sum(K) x n=T matrix of <S_t^(q)S_t^(m)'> expectations\n",
    "# output is a tuple of updated values from the M step\n",
    "# W is a M long list of D x K[m] matrices\n",
    "# pi is a M long list of K[m] vectors for the initial distributions\n",
    "# Tmat is a M long list of K[m] x K[m] transition matrices\n",
    "# C is a D x D covariance matrix for the Gaussian observations\n",
    "\n",
    "def Mstep(M, K,  Y, St, Smm, Snm):\n",
    "    ### Update W ###\n",
    "    # Concatenate St to be sum(K) x 1 x t\n",
    "    cSt = np.vstack([np.vstack(St[i]) for i in range(0, len(St))])\n",
    "    s1 = np.dot(Y, cSt.transpose()) # first sum for Wnew\n",
    "    s2 = np.linalg.pinv(np.sum(Snm, axis = 2)) # second sum for Wnew\n",
    "    Wnew = np.dot(s1, s2)\n",
    "    # make Wnew back into list of matrices\n",
    "    W = []\n",
    "    pi = []\n",
    "    ind1 = np.insert(np.cumsum(K[1:]), 0, 0)\n",
    "    ind2 = K + np.insert(np.cumsum(K[1:]), 0, 0)\n",
    "    for i in range(0, M):\n",
    "        W.append(Wnew[:, ind1[i]:ind2[i]])\n",
    "        ### Update pi ###\n",
    "        pi.append(cSt[ind1[i]:ind2[i], 0])\n",
    "\n",
    "    ### Update Transition matrices ###\n",
    "    Tmat = []\n",
    "    #St = [np.vstack(St[i]) for i in range(0, M)] ## stack St matrices for easier indexing\n",
    "    for i in range(0, M):\n",
    "        Tnew = np.zeros((K[i], K[i]))\n",
    "        for j in range(0, K[i]):\n",
    "            for l in range(0, K[i]):\n",
    "                Tnew[j,l] =  np.sum(Smm[i][j, l, :])/sum(St[i][l, 0:(n-1)])\n",
    "        Tnew = Tnew/np.sum(Tnew, axis=1)[:,None]\n",
    "        Tmat.append(Tnew)\n",
    "\n",
    "    ### Update C covariance ###\n",
    "    #s1 = np.dot(Y, Y.transpose())/n\n",
    "    #s2 = np.zeros((D, D))\n",
    "    #for t in range(0, n):\n",
    "    #    for i in range(0, M):\n",
    "    #        mult1 = np.dot(W[i], St[i][t, :])\n",
    "    #        s2 += np.outer(mult1, Y[:, t].transpose())\n",
    "    #C = s1 - s2/n\n",
    "    \n",
    "    #mutemp = np.zeros((D, n))\n",
    "    #for i in range(0, M):\n",
    "    #    mutemp += np.dot(W[i], np.vstack(St[i]))\n",
    "    #C = np.dot(Y - mutemp, (Y - mutemp).transpose())/n\n",
    "    \n",
    "    term2 = np.zeros((D, D))\n",
    "    for i in range(M):\n",
    "        for t in range(n):\n",
    "            term2 += np.dot(np.dot(W[i], St[i][:, t][:, np.newaxis]), Y[:, t][np.newaxis])\n",
    "\n",
    "\n",
    "    C = np.dot(Y, Y.transpose())/n - term2/n\n",
    "    \n",
    "    return(W, pi, Tmat, C)"
   ]
  },
  {
   "cell_type": "code",
   "execution_count": 550,
   "metadata": {},
   "outputs": [
    {
     "data": {
      "text/plain": [
       "False"
      ]
     },
     "execution_count": 550,
     "metadata": {},
     "output_type": "execute_result"
    }
   ],
   "source": [
    "test = np.dot(Y, Y.transpose())/n - 100*np.identity(3)/n\n",
    "np.all(np.linalg.eigvals(test) > 0)"
   ]
  },
  {
   "cell_type": "code",
   "execution_count": 584,
   "metadata": {},
   "outputs": [
    {
     "data": {
      "text/plain": [
       "1.0"
      ]
     },
     "execution_count": 584,
     "metadata": {},
     "output_type": "execute_result"
    }
   ],
   "source": [
    "Smm[0][:, :, 0]/np.sum(Smm[0][:, :, 0])"
   ]
  },
  {
   "cell_type": "code",
   "execution_count": 586,
   "metadata": {},
   "outputs": [
    {
     "data": {
      "text/plain": [
       "array([[ 0. ,  0. ,  0. ,  0.1,  0. ],\n",
       "       [ 0. ,  0.1,  0. ,  0.1,  0. ],\n",
       "       [ 0. ,  0. ,  0. ,  0.1,  0. ],\n",
       "       [ 0. ,  0. ,  0. ,  0.1,  0.2],\n",
       "       [ 0. ,  0.1,  0.1,  0. ,  0. ]])"
      ]
     },
     "execution_count": 586,
     "metadata": {},
     "output_type": "execute_result"
    }
   ],
   "source": [
    "Smm[0][:, :, 0]"
   ]
  },
  {
   "cell_type": "code",
   "execution_count": 180,
   "metadata": {},
   "outputs": [
    {
     "data": {
      "text/plain": [
       "array([[ 0.32630789,  0.21268374,  0.44099242,  0.02005337,  0.80203217],\n",
       "       [ 0.09690038,  0.24040777,  0.8267097 ,  0.46484536,  0.0639569 ],\n",
       "       [ 0.05535868,  0.36112397,  0.18277368,  0.62832175,  0.69406504]])"
      ]
     },
     "execution_count": 180,
     "metadata": {},
     "output_type": "execute_result"
    }
   ],
   "source": [
    "test = np.random.rand(3, 5)\n",
    "tt = [2,3]\n",
    "test"
   ]
  },
  {
   "cell_type": "code",
   "execution_count": 196,
   "metadata": {},
   "outputs": [
    {
     "data": {
      "text/plain": [
       "array([ 0,  5, 10])"
      ]
     },
     "execution_count": 196,
     "metadata": {},
     "output_type": "execute_result"
    }
   ],
   "source": [
    "#K + \n",
    "np.insert(np.cumsum(K[1:]), 0, 0)"
   ]
  },
  {
   "cell_type": "code",
   "execution_count": 197,
   "metadata": {},
   "outputs": [
    {
     "data": {
      "text/plain": [
       "array([ 5, 10, 15])"
      ]
     },
     "execution_count": 197,
     "metadata": {},
     "output_type": "execute_result"
    }
   ],
   "source": [
    "K + np.insert(np.cumsum(K[1:]), 0, 0)"
   ]
  },
  {
   "cell_type": "code",
   "execution_count": 172,
   "metadata": {},
   "outputs": [
    {
     "data": {
      "text/plain": [
       "array([3, 2])"
      ]
     },
     "execution_count": 172,
     "metadata": {},
     "output_type": "execute_result"
    }
   ],
   "source": [
    "i = np.array([3, 3, 2])\n",
    "0 + i[1:]"
   ]
  },
  {
   "cell_type": "code",
   "execution_count": 193,
   "metadata": {},
   "outputs": [
    {
     "data": {
      "text/plain": [
       "array([ 5, 10])"
      ]
     },
     "execution_count": 193,
     "metadata": {},
     "output_type": "execute_result"
    }
   ],
   "source": [
    "np.cumsum(K[1:])"
   ]
  },
  {
   "cell_type": "markdown",
   "metadata": {},
   "source": [
    "# 6. Inference: Run E-M Steps"
   ]
  },
  {
   "cell_type": "code",
   "execution_count": 10,
   "metadata": {},
   "outputs": [],
   "source": [
    "# Y is D x n observation matrix\n",
    "# M is number of hidden markov chains\n",
    "# K is an 1 x M vector of the number of hidden states for each chain\n",
    "# tol = tolerance for convergence\n",
    "# inference is inference method to use, choices = Gibbs, \n",
    "def FHMM(Y, M, K, tol, inference):\n",
    "    D, n = Y.shape\n",
    "    ## Initialize params\n",
    "    pi = [] ## initial distribution\n",
    "    Tmat = []  ## transition distribution\n",
    "    W = [] ## contribution to means matrices D x K\n",
    "    for i in range(0, M):\n",
    "        vals = np.random.rand(K[i])\n",
    "        pi.append(vals/np.sum(vals))\n",
    "        vals1 = np.random.rand(K[i], K[i])\n",
    "        Tmat.append(vals1/np.sum(vals1, axis=1)[:,None])\n",
    "        W.append(10*np.random.rand(D, K[i]))\n",
    "    C = np.identity(D)\n",
    "    \n",
    "    convergence = 0\n",
    "    pOld = 10E10\n",
    "    iterations = 0\n",
    "    while(convergence == 0):\n",
    "        \n",
    "        ## E - Step\n",
    "        if inference == \"Gibbs\":\n",
    "            St, Smm, Snm = gibbs_sampler(n, M, K, Y, Tmat, W, C, it = 10)\n",
    "            \n",
    "        if inference == \"FactorizedVI\":\n",
    "            St, Smm, Snm = factorized_VI(n, M, K, Y, pi, Tmat, W, C, tol = 1E-5)\n",
    "        \n",
    "        ## M - Step\n",
    "        W, pi, Tmat, C = Mstep(M, K,  Y, St, Smm, Snm)\n",
    "        \n",
    "        ## Check tolerance\n",
    "        # sample S with new params\n",
    "        ## Generate state variables\n",
    "        S = []\n",
    "        mu = np.zeros((D, n))\n",
    "        zstore = []\n",
    "        for i in range(0, M):\n",
    "            zstates = np.arange(0, K[i], dtype = int)\n",
    "            z = np.zeros(n, dtype = int)\n",
    "            zmat = np.zeros((K[i], n), dtype = int)\n",
    "            z[0] = np.random.choice(zstates, size = 1, p = pi[i])\n",
    "            zmat[z[0], 0] = 1\n",
    "            for j in range(1, n):\n",
    "                z[j] = np.random.choice(zstates, size = 1, p = Tmat[i][z[j-1], :])\n",
    "                zmat[z[j], j] = 1\n",
    "            S.append(zmat)\n",
    "            zstore.append(z)\n",
    "        for i in range(0, M):\n",
    "            for j in range(1, n):\n",
    "                mu[:, j] += np.dot(W[i], S[i][:, j])\n",
    "        \n",
    "        pNew = log_like(n, pi, Tmat, mu, C, Y, zstore)  \n",
    "        criteria = abs(pOld - pNew)\n",
    "        if criteria < tol:\n",
    "            convergence = 1\n",
    "        else:\n",
    "            convergence = 0\n",
    "            pOld = pNew\n",
    "    \n",
    "        iterations += 1\n",
    "        if iterations%10 == 0:\n",
    "            print(iterations)\n",
    "            print(pNew)\n",
    "    return(pi, Tmat, mu, C, W, zstore)\n",
    "                    "
   ]
  },
  {
   "cell_type": "code",
   "execution_count": 152,
   "metadata": {
    "scrolled": false
   },
   "outputs": [
    {
     "ename": "TypeError",
     "evalue": "'int' object is not subscriptable",
     "output_type": "error",
     "traceback": [
      "\u001b[0;31m---------------------------------------------------------------------------\u001b[0m",
      "\u001b[0;31mTypeError\u001b[0m                                 Traceback (most recent call last)",
      "\u001b[0;32m<ipython-input-152-f0428bb750c0>\u001b[0m in \u001b[0;36m<module>\u001b[0;34m()\u001b[0m\n\u001b[0;32m----> 1\u001b[0;31m \u001b[0mpi_new\u001b[0m\u001b[0;34m,\u001b[0m \u001b[0mTmat_new\u001b[0m\u001b[0;34m,\u001b[0m \u001b[0mmu_new\u001b[0m\u001b[0;34m,\u001b[0m \u001b[0mC_new\u001b[0m\u001b[0;34m,\u001b[0m \u001b[0mW_new\u001b[0m\u001b[0;34m,\u001b[0m \u001b[0mzstore\u001b[0m \u001b[0;34m=\u001b[0m \u001b[0mFHMM\u001b[0m\u001b[0;34m(\u001b[0m\u001b[0mY\u001b[0m\u001b[0;34m,\u001b[0m \u001b[0;36m1\u001b[0m\u001b[0;34m,\u001b[0m \u001b[0;36m5\u001b[0m\u001b[0;34m,\u001b[0m \u001b[0;36m1E-1\u001b[0m\u001b[0;34m,\u001b[0m \u001b[0;34m\"FactorizedVI\"\u001b[0m\u001b[0;34m)\u001b[0m\u001b[0;34m\u001b[0m\u001b[0m\n\u001b[0m",
      "\u001b[0;32m<ipython-input-105-4a331d20b50f>\u001b[0m in \u001b[0;36mFHMM\u001b[0;34m(Y, M, K, tol, inference)\u001b[0m\n\u001b[1;32m     11\u001b[0m     \u001b[0mW\u001b[0m \u001b[0;34m=\u001b[0m \u001b[0;34m[\u001b[0m\u001b[0;34m]\u001b[0m \u001b[0;31m## contribution to means matrices D x K\u001b[0m\u001b[0;34m\u001b[0m\u001b[0m\n\u001b[1;32m     12\u001b[0m     \u001b[0;32mfor\u001b[0m \u001b[0mi\u001b[0m \u001b[0;32min\u001b[0m \u001b[0mrange\u001b[0m\u001b[0;34m(\u001b[0m\u001b[0;36m0\u001b[0m\u001b[0;34m,\u001b[0m \u001b[0mM\u001b[0m\u001b[0;34m)\u001b[0m\u001b[0;34m:\u001b[0m\u001b[0;34m\u001b[0m\u001b[0m\n\u001b[0;32m---> 13\u001b[0;31m         \u001b[0mvals\u001b[0m \u001b[0;34m=\u001b[0m \u001b[0mnp\u001b[0m\u001b[0;34m.\u001b[0m\u001b[0mrandom\u001b[0m\u001b[0;34m.\u001b[0m\u001b[0mrand\u001b[0m\u001b[0;34m(\u001b[0m\u001b[0mK\u001b[0m\u001b[0;34m[\u001b[0m\u001b[0mi\u001b[0m\u001b[0;34m]\u001b[0m\u001b[0;34m)\u001b[0m\u001b[0;34m\u001b[0m\u001b[0m\n\u001b[0m\u001b[1;32m     14\u001b[0m         \u001b[0mpi\u001b[0m\u001b[0;34m.\u001b[0m\u001b[0mappend\u001b[0m\u001b[0;34m(\u001b[0m\u001b[0mvals\u001b[0m\u001b[0;34m/\u001b[0m\u001b[0mnp\u001b[0m\u001b[0;34m.\u001b[0m\u001b[0msum\u001b[0m\u001b[0;34m(\u001b[0m\u001b[0mvals\u001b[0m\u001b[0;34m)\u001b[0m\u001b[0;34m)\u001b[0m\u001b[0;34m\u001b[0m\u001b[0m\n\u001b[1;32m     15\u001b[0m         \u001b[0mvals1\u001b[0m \u001b[0;34m=\u001b[0m \u001b[0mnp\u001b[0m\u001b[0;34m.\u001b[0m\u001b[0mrandom\u001b[0m\u001b[0;34m.\u001b[0m\u001b[0mrand\u001b[0m\u001b[0;34m(\u001b[0m\u001b[0mK\u001b[0m\u001b[0;34m[\u001b[0m\u001b[0mi\u001b[0m\u001b[0;34m]\u001b[0m\u001b[0;34m,\u001b[0m \u001b[0mK\u001b[0m\u001b[0;34m[\u001b[0m\u001b[0mi\u001b[0m\u001b[0;34m]\u001b[0m\u001b[0;34m)\u001b[0m\u001b[0;34m\u001b[0m\u001b[0m\n",
      "\u001b[0;31mTypeError\u001b[0m: 'int' object is not subscriptable"
     ]
    }
   ],
   "source": [
    "pi_new, Tmat_new, mu_new, C_new, W_new, zstore = FHMM(Y, 1, 5, 1E-1, \"FactorizedVI\")"
   ]
  },
  {
   "cell_type": "code",
   "execution_count": 211,
   "metadata": {},
   "outputs": [
    {
     "name": "stdout",
     "output_type": "stream",
     "text": [
      "[array([0.05353533, 0.15756387, 0.36101818, 0.0130144 , 0.41486822]), array([0.11484955, 0.24299358, 0.22726089, 0.21189979, 0.20299618]), array([0.13249595, 0.14461518, 0.27603728, 0.34254859, 0.10430299])]\n",
      "[array([[0.03680165, 0.2129296 , 0.08217925, 0.53695899, 0.13113051],\n",
      "       [0.13501004, 0.09679343, 0.22773624, 0.21349186, 0.32696844],\n",
      "       [0.01472279, 0.11900419, 0.33995141, 0.42307692, 0.1032447 ],\n",
      "       [0.00761886, 0.55477028, 0.07770114, 0.34360918, 0.01630054],\n",
      "       [0.18070169, 0.29913508, 0.04327488, 0.30420561, 0.17268275]]), array([[0.15699676, 0.42796249, 0.05010654, 0.15683171, 0.2081025 ],\n",
      "       [0.19042892, 0.11059355, 0.1688814 , 0.34036444, 0.18973168],\n",
      "       [0.29851203, 0.27092802, 0.25777147, 0.07705682, 0.09573166],\n",
      "       [0.13735166, 0.39395742, 0.13311806, 0.27610945, 0.0594634 ],\n",
      "       [0.33154605, 0.09662144, 0.19113321, 0.37059252, 0.01010678]]), array([[0.40006922, 0.10613593, 0.05135831, 0.32619557, 0.11624097],\n",
      "       [0.1264667 , 0.08648481, 0.11105991, 0.33110399, 0.3448846 ],\n",
      "       [0.0166247 , 0.30330607, 0.27349842, 0.15903984, 0.24753097],\n",
      "       [0.25612756, 0.00624234, 0.1618124 , 0.37067578, 0.20514191],\n",
      "       [0.02900415, 0.28032339, 0.25292749, 0.14029181, 0.29745316]])]\n",
      "[array([[7.92241118, 8.78951792, 2.99361454, 3.09926606, 8.49741341],\n",
      "       [6.61732962, 5.61541301, 1.84613799, 4.89104373, 4.84687286],\n",
      "       [9.17067486, 4.69396542, 6.47135729, 7.52719495, 7.55064767]]), array([[9.36457506, 8.91439211, 5.61603264, 5.79327651, 6.85079   ],\n",
      "       [1.49122137, 5.40230168, 7.50330962, 9.11116913, 5.55278897],\n",
      "       [9.57362224, 3.44689496, 2.06835975, 1.44062936, 5.17260096]]), array([[0.5653315 , 1.61713232, 8.28673496, 9.61163826, 5.09412298],\n",
      "       [8.52040151, 5.24965954, 7.69078431, 4.42154273, 0.2917212 ],\n",
      "       [8.10124076, 7.75501633, 0.61433148, 8.46256339, 0.56766489]])]\n",
      "[[1. 0. 0.]\n",
      " [0. 1. 0.]\n",
      " [0. 0. 1.]]\n"
     ]
    }
   ],
   "source": [
    "D, n = Y.shape\n",
    "## Initialize params\n",
    "pi_new = [] ## initial distribution\n",
    "Tmat_new = []  ## transition distribution\n",
    "W_new = [] ## contribution to means matrices D x K\n",
    "for i in range(0, M):\n",
    "    vals = np.random.rand(K[i])\n",
    "    pi_new.append(vals/np.sum(vals))\n",
    "    vals1 = np.random.rand(K[i], K[i])\n",
    "    Tmat_new.append(vals1/np.sum(vals1, axis=1)[:,None])\n",
    "    W_new.append(10*np.random.rand(D, K[i]))\n",
    "C_new = np.identity(D)\n",
    "print(pi_new)\n",
    "print(Tmat_new)\n",
    "print(W_new)\n",
    "print(C_new)"
   ]
  },
  {
   "cell_type": "code",
   "execution_count": 212,
   "metadata": {},
   "outputs": [],
   "source": [
    "#for i in range(1000):\n",
    "St, Smm, Snm = factorized_VI(n, M, K, Y, pi_new, Tmat_new, W_new, C_new, tol = 1E-5)\n",
    "\n",
    "## M - Step\n",
    "W_new, pi_new, Tmat_new, C_new = Mstep(M, K,  Y, St, Smm, Snm)"
   ]
  },
  {
   "cell_type": "code",
   "execution_count": 213,
   "metadata": {},
   "outputs": [
    {
     "data": {
      "text/plain": [
       "array([[2.76350988, 0.53671249, 0.64050705],\n",
       "       [0.53672482, 0.78275143, 0.71288463],\n",
       "       [0.64051597, 0.71288157, 1.36182968]])"
      ]
     },
     "execution_count": 213,
     "metadata": {},
     "output_type": "execute_result"
    }
   ],
   "source": [
    "C_new"
   ]
  },
  {
   "cell_type": "code",
   "execution_count": 214,
   "metadata": {},
   "outputs": [
    {
     "data": {
      "text/plain": [
       "True"
      ]
     },
     "execution_count": 214,
     "metadata": {},
     "output_type": "execute_result"
    }
   ],
   "source": [
    "np.all(np.linalg.eigvals(C_new) > 0)"
   ]
  },
  {
   "cell_type": "code",
   "execution_count": 135,
   "metadata": {},
   "outputs": [
    {
     "data": {
      "text/plain": [
       "[array([[8.36565323e-01, 1.63377160e-01, 1.04242803e-23, 6.11106447e-12,\n",
       "         5.75164546e-05],\n",
       "        [3.18318005e-02, 2.97435911e-04, 3.99989569e-04, 9.66092275e-01,\n",
       "         1.37849856e-03],\n",
       "        [8.36565323e-01, 1.63377160e-01, 1.40483873e-49, 6.11257127e-12,\n",
       "         5.75164551e-05],\n",
       "        [8.36565323e-01, 1.63377160e-01, 7.52816254e-12, 6.11189504e-12,\n",
       "         5.75164549e-05],\n",
       "        [3.10328850e-02, 1.19779857e-02, 1.38388745e-02, 9.39356833e-01,\n",
       "         3.79342137e-03]]),\n",
       " array([[6.77441101e-05, 2.96790708e-03, 9.96562759e-01, 5.88435195e-05,\n",
       "         3.42746533e-04],\n",
       "        [2.30193444e-02, 3.73150031e-41, 2.00024420e-01, 1.62112647e-03,\n",
       "         7.75335109e-01],\n",
       "        [7.95530169e-18, 1.08066864e-20, 1.78217947e-01, 2.75920895e-22,\n",
       "         8.21782053e-01],\n",
       "        [6.74924145e-05, 3.29602467e-03, 9.96204571e-01, 5.87566888e-05,\n",
       "         3.73155290e-04],\n",
       "        [1.24912027e-04, 5.72421405e-05, 9.99643926e-01, 1.16163344e-04,\n",
       "         5.77565111e-05]]),\n",
       " array([[1.56143256e-34, 3.81625079e-05, 5.19142450e-08, 5.19879972e-04,\n",
       "         9.99441906e-01],\n",
       "        [2.15052828e-01, 3.92359198e-01, 1.23004854e-01, 2.69406059e-01,\n",
       "         1.77061880e-04],\n",
       "        [6.06955225e-01, 1.89091567e-01, 4.15440175e-02, 1.62359603e-01,\n",
       "         4.95878536e-05],\n",
       "        [2.12038354e-01, 4.06489318e-01, 1.35543751e-01, 2.45747369e-01,\n",
       "         1.81207852e-04],\n",
       "        [2.90284952e-03, 6.00951533e-02, 2.82741888e-01, 6.48440128e-02,\n",
       "         5.89416096e-01]])]"
      ]
     },
     "execution_count": 135,
     "metadata": {},
     "output_type": "execute_result"
    }
   ],
   "source": [
    "Tmat_new"
   ]
  },
  {
   "cell_type": "code",
   "execution_count": 116,
   "metadata": {},
   "outputs": [
    {
     "data": {
      "text/plain": [
       "array([[ 37.46465858,  17.86000923,  13.34921679],\n",
       "       [-20.42056102,   0.65623065, -16.40140496],\n",
       "       [ 11.28281503,   2.61074331,   9.99241606]])"
      ]
     },
     "execution_count": 116,
     "metadata": {},
     "output_type": "execute_result"
    }
   ],
   "source": [
    "term2 = np.zeros((D, D))\n",
    "for i in range(M):\n",
    "    for t in range(n):\n",
    "        term2 += np.dot(np.dot(W[i], St[i][:, t][:, np.newaxis]), Y[:, t][np.newaxis])\n",
    "        \n",
    "\n",
    "np.dot(Y, Y.transpose())/n - term2/n"
   ]
  },
  {
   "cell_type": "code",
   "execution_count": 117,
   "metadata": {},
   "outputs": [
    {
     "data": {
      "text/plain": [
       "True"
      ]
     },
     "execution_count": 117,
     "metadata": {},
     "output_type": "execute_result"
    }
   ],
   "source": [
    "np.all(np.linalg.eigvals(np.dot(Y, Y.transpose())/n - term2/n) > 0)"
   ]
  },
  {
   "cell_type": "code",
   "execution_count": 115,
   "metadata": {},
   "outputs": [
    {
     "data": {
      "text/plain": [
       "array([[50.22442776, 48.21754489, 49.78958001],\n",
       "       [14.83572313, 14.24291282, 14.70727406],\n",
       "       [62.85539839, 60.34380336, 62.31119051]])"
      ]
     },
     "execution_count": 115,
     "metadata": {},
     "output_type": "execute_result"
    }
   ],
   "source": [
    "#St[0][:, 0][:, np.newaxis]\n",
    "np.dot(np.dot(W[0], St[0][:, 0][:, np.newaxis]), Y[:, 0][np.newaxis])"
   ]
  },
  {
   "cell_type": "code",
   "execution_count": 33,
   "metadata": {},
   "outputs": [],
   "source": [
    "Ptest = np.zeros((5, 5))\n",
    "for i in range(5):\n",
    "    for j in range(5):\n",
    "        for t in range(1, n):\n",
    "            Ptest[i, j] += Snm[]/St[0][j, t-1]\n",
    "            "
   ]
  },
  {
   "cell_type": "code",
   "execution_count": 54,
   "metadata": {},
   "outputs": [
    {
     "data": {
      "text/plain": [
       "(5, 10)"
      ]
     },
     "execution_count": 54,
     "metadata": {},
     "output_type": "execute_result"
    }
   ],
   "source": [
    "St[0].shape"
   ]
  },
  {
   "cell_type": "code",
   "execution_count": 64,
   "metadata": {},
   "outputs": [
    {
     "data": {
      "text/plain": [
       "array([[-508.5476459 , -239.60293481, -327.82357006],\n",
       "       [-239.60293481, -110.22667944, -154.50675352],\n",
       "       [-327.82357006, -154.50675352, -212.68121683]])"
      ]
     },
     "execution_count": 64,
     "metadata": {},
     "output_type": "execute_result"
    }
   ],
   "source": [
    "Ymat = np.zeros((3, 3))\n",
    "WWW = np.zeros((3, 3))\n",
    "for t in range(n):\n",
    "    Ymat += np.outer(Y[:, t], Y[:, t])\n",
    "    for i in range(M):\n",
    "        WWW += np.outer(np.dot(W_new[i], St[i][:, t]), Y[:, t])\n",
    "Ctest = 1/n*Ymat - 1/n*WWW\n",
    "Ctest"
   ]
  },
  {
   "cell_type": "code",
   "execution_count": null,
   "metadata": {},
   "outputs": [],
   "source": [
    "C"
   ]
  },
  {
   "cell_type": "code",
   "execution_count": 66,
   "metadata": {},
   "outputs": [
    {
     "name": "stdout",
     "output_type": "stream",
     "text": [
      "False\n"
     ]
    }
   ],
   "source": [
    "print(np.all(np.linalg.eigvals(Ctest) > 0))"
   ]
  },
  {
   "cell_type": "code",
   "execution_count": 140,
   "metadata": {},
   "outputs": [],
   "source": [
    "D, n = Y.shape\n",
    "M = 3\n",
    "K = np.array([5,5,5])\n",
    "## Initialize params\n",
    "pi_new = [] ## initial distribution\n",
    "Tmat_new = []  ## transition distribution\n",
    "W_new = [] ## contribution to means matrices D x K\n",
    "for i in range(0, M):\n",
    "    vals = np.random.rand(K[i])\n",
    "    pi_new.append(vals/np.sum(vals))\n",
    "    vals1 = np.random.rand(K[i], K[i])\n",
    "    Tmat_new.append(vals1/np.sum(vals1, axis=1)[:,None])\n",
    "    W_new.append(np.random.rand(D, K[i]))\n",
    "C_new = np.identity(D)\n",
    "\n",
    "convergence = 0\n",
    "pOld = 10E10\n",
    "it = 15"
   ]
  },
  {
   "cell_type": "code",
   "execution_count": 811,
   "metadata": {},
   "outputs": [
    {
     "data": {
      "text/plain": [
       "[array([ 0.36189562,  0.03598997,  0.07976232,  0.25702478,  0.26532732]),\n",
       " array([ 0.36466991,  0.2556416 ,  0.11010354,  0.1697221 ,  0.09986286]),\n",
       " array([ 0.17888365,  0.21987834,  0.29687933,  0.0976606 ,  0.20669808])]"
      ]
     },
     "execution_count": 811,
     "metadata": {},
     "output_type": "execute_result"
    }
   ],
   "source": [
    "pi_new"
   ]
  },
  {
   "cell_type": "code",
   "execution_count": 141,
   "metadata": {},
   "outputs": [],
   "source": [
    "#St, Smm, Snm = gibbs_sampler(n, M, K, Y, Tmat_new, W_new, C_new, it = 10)\n",
    "St, Smm, Snm = factorized_VI(n, M, K, Y, pi, Tmat, W, C, tol = 1E-5)"
   ]
  },
  {
   "cell_type": "code",
   "execution_count": 142,
   "metadata": {},
   "outputs": [],
   "source": [
    "W_new, pi_new, Tmat_new, C_new = Mstep(M, K,  Y, St, Smm, Snm)"
   ]
  },
  {
   "cell_type": "code",
   "execution_count": 33,
   "metadata": {},
   "outputs": [
    {
     "data": {
      "text/plain": [
       "True"
      ]
     },
     "execution_count": 33,
     "metadata": {},
     "output_type": "execute_result"
    }
   ],
   "source": [
    "np.all(np.linalg.eigvals(C_new) > 0)"
   ]
  },
  {
   "cell_type": "code",
   "execution_count": 30,
   "metadata": {},
   "outputs": [],
   "source": [
    "mu_new = np.zeros((D, n))\n",
    "for i in range(0, M):\n",
    "    for j in range(1, n):\n",
    "        mu_new[:, j] += np.dot(W_new[i], Smm[i][:, j])\n",
    "\n",
    "y_prob = np.zeros(n) # emission probabilities\n",
    "t_prob = 0 # transition matrix probabilities\n",
    "pi_prob = 0 # initial probability\n",
    "for i in range(0, M):\n",
    "        pi_prob += np.log(np.dot(pi_new[i], St[i][:, 0]))\n",
    "\n",
    "for t in range(0, n):\n",
    "    y_prob[t] = np.log(multivariate_normal.pdf(Y[:, t], mean = mu_new[:, t], cov = C_new))  \n",
    "\n",
    "    for i in range(0, M):\n",
    "        t_prob += Tmat_new[i][zstates[i][t-1], zstates[i][t]]\n",
    "ll = pi_prob + t_prob + np.sum(y_prob)      \n",
    "print(ll)"
   ]
  },
  {
   "cell_type": "code",
   "execution_count": 151,
   "metadata": {},
   "outputs": [
    {
     "data": {
      "text/plain": [
       "array([[  5.92014428e-16,   5.98109896e-25,   9.26136677e-26,\n",
       "          4.21178949e-17,   7.92060170e-11],\n",
       "       [  2.17240639e-16,   2.19477380e-25,   3.39847331e-26,\n",
       "          1.54552287e-17,   2.90647743e-11],\n",
       "       [  7.47430196e-06,   7.55125847e-15,   1.16926630e-15,\n",
       "          5.31746947e-07,   9.99991994e-01],\n",
       "       [  4.02330035e-24,   4.06472484e-33,   6.29397839e-34,\n",
       "          2.86231101e-25,   5.38280118e-19],\n",
       "       [  2.27793458e-20,   2.30138853e-29,   3.56355972e-30,\n",
       "          1.62059918e-21,   3.04766433e-15]])"
      ]
     },
     "execution_count": 151,
     "metadata": {},
     "output_type": "execute_result"
    }
   ],
   "source": [
    "Smm[0][:, :, 1]"
   ]
  },
  {
   "cell_type": "code",
   "execution_count": 717,
   "metadata": {},
   "outputs": [
    {
     "ename": "IndexError",
     "evalue": "too many indices for array",
     "output_type": "error",
     "traceback": [
      "\u001b[0;31m---------------------------------------------------------------------------\u001b[0m",
      "\u001b[0;31mIndexError\u001b[0m                                Traceback (most recent call last)",
      "\u001b[0;32m<ipython-input-717-ac3b6644bd63>\u001b[0m in \u001b[0;36m<module>\u001b[0;34m()\u001b[0m\n\u001b[1;32m     17\u001b[0m         \u001b[0mmu\u001b[0m\u001b[0;34m[\u001b[0m\u001b[0;34m:\u001b[0m\u001b[0;34m,\u001b[0m \u001b[0mj\u001b[0m\u001b[0;34m]\u001b[0m \u001b[0;34m+=\u001b[0m \u001b[0mnp\u001b[0m\u001b[0;34m.\u001b[0m\u001b[0mdot\u001b[0m\u001b[0;34m(\u001b[0m\u001b[0mW\u001b[0m\u001b[0;34m[\u001b[0m\u001b[0mi\u001b[0m\u001b[0;34m]\u001b[0m\u001b[0;34m,\u001b[0m \u001b[0mS\u001b[0m\u001b[0;34m[\u001b[0m\u001b[0mi\u001b[0m\u001b[0;34m]\u001b[0m\u001b[0;34m[\u001b[0m\u001b[0;34m:\u001b[0m\u001b[0;34m,\u001b[0m \u001b[0mj\u001b[0m\u001b[0;34m]\u001b[0m\u001b[0;34m)\u001b[0m\u001b[0;34m\u001b[0m\u001b[0m\n\u001b[1;32m     18\u001b[0m \u001b[0;34m\u001b[0m\u001b[0m\n\u001b[0;32m---> 19\u001b[0;31m \u001b[0mpNew\u001b[0m \u001b[0;34m=\u001b[0m \u001b[0mlog_like\u001b[0m\u001b[0;34m(\u001b[0m\u001b[0mn\u001b[0m\u001b[0;34m,\u001b[0m \u001b[0mpi\u001b[0m\u001b[0;34m,\u001b[0m \u001b[0mTmat\u001b[0m\u001b[0;34m,\u001b[0m \u001b[0mmu\u001b[0m\u001b[0;34m,\u001b[0m \u001b[0mC\u001b[0m\u001b[0;34m,\u001b[0m \u001b[0mY\u001b[0m\u001b[0;34m,\u001b[0m \u001b[0mzstore\u001b[0m\u001b[0;34m)\u001b[0m\u001b[0;34m\u001b[0m\u001b[0m\n\u001b[0m\u001b[1;32m     20\u001b[0m \u001b[0mcriteria\u001b[0m \u001b[0;34m=\u001b[0m \u001b[0mabs\u001b[0m\u001b[0;34m(\u001b[0m\u001b[0mpOld\u001b[0m \u001b[0;34m-\u001b[0m \u001b[0mpNew\u001b[0m\u001b[0;34m)\u001b[0m\u001b[0;34m\u001b[0m\u001b[0m\n",
      "\u001b[0;32m<ipython-input-318-3f6b912bf54e>\u001b[0m in \u001b[0;36mlog_like\u001b[0;34m(n, pi, Tmat, mu, C, Y, zstates)\u001b[0m\n\u001b[1;32m     17\u001b[0m \u001b[0;34m\u001b[0m\u001b[0m\n\u001b[1;32m     18\u001b[0m         \u001b[0;32mfor\u001b[0m \u001b[0mi\u001b[0m \u001b[0;32min\u001b[0m \u001b[0mrange\u001b[0m\u001b[0;34m(\u001b[0m\u001b[0;36m0\u001b[0m\u001b[0;34m,\u001b[0m \u001b[0mM\u001b[0m\u001b[0;34m)\u001b[0m\u001b[0;34m:\u001b[0m\u001b[0;34m\u001b[0m\u001b[0m\n\u001b[0;32m---> 19\u001b[0;31m             \u001b[0mt_prob\u001b[0m \u001b[0;34m+=\u001b[0m \u001b[0mTmat\u001b[0m\u001b[0;34m[\u001b[0m\u001b[0mi\u001b[0m\u001b[0;34m]\u001b[0m\u001b[0;34m[\u001b[0m\u001b[0mzstates\u001b[0m\u001b[0;34m[\u001b[0m\u001b[0mi\u001b[0m\u001b[0;34m]\u001b[0m\u001b[0;34m[\u001b[0m\u001b[0mt\u001b[0m\u001b[0;34m-\u001b[0m\u001b[0;36m1\u001b[0m\u001b[0;34m,\u001b[0m \u001b[0mt\u001b[0m\u001b[0;34m]\u001b[0m\u001b[0;34m]\u001b[0m\u001b[0;34m\u001b[0m\u001b[0m\n\u001b[0m\u001b[1;32m     20\u001b[0m     \u001b[0mll\u001b[0m \u001b[0;34m=\u001b[0m \u001b[0mpi_prob\u001b[0m \u001b[0;34m+\u001b[0m \u001b[0mt_prob\u001b[0m \u001b[0;34m+\u001b[0m \u001b[0mnp\u001b[0m\u001b[0;34m.\u001b[0m\u001b[0msum\u001b[0m\u001b[0;34m(\u001b[0m\u001b[0my_prob\u001b[0m\u001b[0;34m)\u001b[0m\u001b[0;34m\u001b[0m\u001b[0m\n\u001b[1;32m     21\u001b[0m     \u001b[0;32mreturn\u001b[0m\u001b[0;34m(\u001b[0m\u001b[0mll\u001b[0m\u001b[0;34m)\u001b[0m\u001b[0;34m\u001b[0m\u001b[0m\n",
      "\u001b[0;31mIndexError\u001b[0m: too many indices for array"
     ]
    }
   ],
   "source": [
    "S = []\n",
    "mu = np.zeros((D, n))\n",
    "zstore = []\n",
    "for i in range(0, M):\n",
    "    zstates = np.arange(0, K[i], dtype = int)\n",
    "    z = np.zeros(n, dtype = int)\n",
    "    zmat = np.zeros((K[i], n), dtype = int)\n",
    "    z[0] = np.random.choice(zstates, size = 1, p = pi[i])\n",
    "    zmat[z[0], 0] = 1\n",
    "    for j in range(1, n):\n",
    "        z[j] = np.random.choice(zstates, size = 1, p = Tmat[i][z[j-1], :])\n",
    "        zmat[z[j], j] = 1\n",
    "    S.append(zmat)\n",
    "    zstore.append(z)\n",
    "for i in range(0, M):\n",
    "    for j in range(1, n):\n",
    "        mu[:, j] += np.dot(W[i], S[i][:, j])\n",
    "\n",
    "pNew = log_like(n, pi, Tmat, mu, C, Y, zstore)  \n",
    "criteria = abs(pOld - pNew)"
   ]
  },
  {
   "cell_type": "code",
   "execution_count": null,
   "metadata": {
    "collapsed": true
   },
   "outputs": [],
   "source": [
    "\n",
    "y_prob = np.zeros(n) # emission probabilities\n",
    "t_prob = 0 # transition matrix probabilities\n",
    "pi_prob = 0 # initial probability\n",
    "for i in range(0, M):\n",
    "        pi_prob += np.log(pi[i][zstates[i][0]])\n",
    "\n",
    "for t in range(0, n):\n",
    "    y_prob[t] = np.log(multivariate_normal.pdf(Y[:, t], mean = mu[:, t], cov = C))  \n",
    "\n",
    "    for i in range(0, M):\n",
    "        t_prob += Tmat[i][zstates[i][t-1, t]]\n",
    "ll = pi_prob + t_prob + np.sum(y_prob)        \n"
   ]
  },
  {
   "cell_type": "code",
   "execution_count": 727,
   "metadata": {},
   "outputs": [
    {
     "data": {
      "text/plain": [
       "0.46874999999999994"
      ]
     },
     "execution_count": 727,
     "metadata": {},
     "output_type": "execute_result"
    }
   ],
   "source": [
    "Tmat[0][zstore[0][3], zstore[0][4]]"
   ]
  },
  {
   "cell_type": "code",
   "execution_count": 639,
   "metadata": {},
   "outputs": [],
   "source": [
    "# Randomly initialize state vectors\n",
    "S = []\n",
    "zstates = []\n",
    "for i in range(0, M):\n",
    "    s = np.zeros((K[i], n), dtype = int)\n",
    "    ind = np.random.choice(range(0, K[i]), n)\n",
    "    s[ind, range(0, n)] = 1\n",
    "    zz = np.zeros((it, n), dtype = int)\n",
    "    zz[0, :] = ind\n",
    "    zstates.append(zz)\n",
    "    S.append(s)\n",
    "\n",
    "for l in range(1, it):\n",
    "    ## update one  chain at a time\n",
    "    for i in range(0, M):\n",
    "        ## step through each time point\n",
    "        for t in range(0, n):\n",
    "            ## select P(S_t | S_t-1)\n",
    "            if t == 0:\n",
    "                tback = np.ones(K[i])\n",
    "            else:\n",
    "                prev = zstates[i][l-1, t-1]\n",
    "                tback = Tmat[i][prev, :]\n",
    "            ## select P(S_t+1 | S_t)\n",
    "            if t == (n-1):\n",
    "                tfore = np.ones(K[i])\n",
    "            else:\n",
    "                fore = zstates[i][l-1, t]\n",
    "                tfore = Tmat[i][fore, :]\n",
    "            ## calculate P(Y_t | S_t^1, S_t^2, ..., S_t^M)\n",
    "            ydense = y_density(t, Y[:, t], M, K, S, C, W, i)\n",
    "\n",
    "            ## Calculate probability for each state for S_t^i\n",
    "            probvec = np.multiply(np.multiply(tback, tfore) , ydense)\n",
    "            probvec = probvec/sum(probvec)\n",
    "            ## sample state and update vector\n",
    "            zstates[i][l, t] = np.random.choice(range(0, K[i]), 1, p = probvec)\n",
    "            S[i][zstates[i][l, t], t] = 1\n",
    "\n"
   ]
  },
  {
   "cell_type": "code",
   "execution_count": 640,
   "metadata": {},
   "outputs": [
    {
     "data": {
      "text/plain": [
       "[array([[2, 3, 0, 2, 0, 0, 1, 2, 1, 3],\n",
       "        [3, 1, 1, 2, 3, 3, 2, 3, 2, 3],\n",
       "        [4, 3, 2, 3, 4, 4, 1, 4, 3, 2],\n",
       "        [4, 4, 1, 2, 4, 2, 2, 0, 3, 3],\n",
       "        [2, 0, 2, 3, 3, 2, 3, 2, 1, 3],\n",
       "        [3, 2, 4, 3, 1, 4, 4, 4, 0, 3],\n",
       "        [1, 1, 1, 4, 3, 0, 0, 2, 2, 3],\n",
       "        [2, 0, 0, 2, 4, 1, 3, 3, 3, 4],\n",
       "        [4, 3, 1, 1, 2, 2, 3, 1, 1, 1],\n",
       "        [3, 4, 4, 3, 1, 3, 1, 1, 3, 2],\n",
       "        [4, 2, 2, 2, 2, 4, 3, 2, 1, 1],\n",
       "        [2, 2, 2, 3, 4, 2, 0, 1, 2, 0],\n",
       "        [3, 3, 3, 3, 4, 3, 2, 3, 3, 1],\n",
       "        [4, 4, 4, 4, 2, 2, 4, 4, 1, 1],\n",
       "        [0, 2, 2, 0, 3, 3, 2, 2, 0, 1]]),\n",
       " array([[2, 0, 3, 3, 1, 1, 3, 0, 1, 2],\n",
       "        [2, 2, 4, 3, 3, 4, 4, 4, 1, 1],\n",
       "        [4, 2, 0, 1, 2, 4, 1, 4, 0, 1],\n",
       "        [1, 4, 0, 2, 2, 1, 1, 2, 2, 4],\n",
       "        [1, 1, 3, 0, 0, 0, 3, 0, 2, 4],\n",
       "        [4, 3, 3, 4, 2, 4, 2, 4, 4, 0],\n",
       "        [4, 4, 3, 4, 4, 4, 4, 4, 4, 4],\n",
       "        [1, 1, 2, 1, 4, 1, 2, 4, 1, 2],\n",
       "        [2, 1, 2, 2, 1, 2, 2, 4, 4, 3],\n",
       "        [0, 0, 1, 2, 4, 0, 0, 2, 4, 4],\n",
       "        [1, 2, 1, 4, 4, 4, 1, 2, 4, 4],\n",
       "        [2, 4, 0, 1, 1, 1, 2, 4, 4, 2],\n",
       "        [4, 2, 2, 2, 1, 4, 0, 0, 4, 2],\n",
       "        [1, 4, 0, 0, 0, 3, 1, 2, 1, 1],\n",
       "        [4, 4, 1, 2, 4, 4, 0, 0, 0, 3]]),\n",
       " array([[3, 4, 1, 0, 4, 2, 1, 1, 4, 4],\n",
       "        [4, 4, 0, 2, 3, 1, 2, 0, 4, 0],\n",
       "        [1, 4, 2, 2, 3, 2, 3, 3, 3, 1],\n",
       "        [0, 0, 3, 3, 0, 1, 2, 1, 4, 4],\n",
       "        [3, 0, 0, 1, 4, 2, 3, 1, 1, 0],\n",
       "        [1, 4, 3, 2, 4, 0, 0, 2, 2, 2],\n",
       "        [2, 1, 0, 2, 0, 1, 2, 2, 2, 2],\n",
       "        [3, 3, 3, 1, 2, 2, 3, 0, 0, 3],\n",
       "        [3, 2, 2, 3, 1, 3, 3, 2, 2, 2],\n",
       "        [3, 1, 2, 3, 1, 4, 2, 3, 3, 3],\n",
       "        [1, 4, 0, 3, 3, 0, 0, 3, 0, 1],\n",
       "        [2, 0, 2, 1, 4, 0, 3, 4, 4, 3],\n",
       "        [3, 3, 0, 3, 1, 1, 4, 0, 0, 1],\n",
       "        [2, 4, 4, 2, 1, 0, 3, 3, 2, 4],\n",
       "        [1, 2, 0, 1, 3, 2, 4, 2, 3, 4]])]"
      ]
     },
     "execution_count": 640,
     "metadata": {},
     "output_type": "execute_result"
    }
   ],
   "source": [
    "zstates"
   ]
  },
  {
   "cell_type": "code",
   "execution_count": 663,
   "metadata": {},
   "outputs": [],
   "source": [
    "## Calculate expectations\n",
    "# <S_t^(m)>\n",
    "St = []\n",
    "Smm = []\n",
    "for i in range(0, M):\n",
    "    uprobs = [np.unique(zstates[i][:, t], return_counts = True)[1]/it for t in range(0,n)] # calculate probs\n",
    "    zmat = np.zeros((n, K[i]))\n",
    "    inds = [np.unique(zstates[i][:, t], return_counts = True)[0] for t in range(0,n)]\n",
    "    for t in range(n):\n",
    "        zmat[t, inds[t]] = uprobs[t]\n",
    "    St.append(zmat)\n",
    "    # calculate trans mat\n",
    "    Smm.append(np.stack([trans_mat(zstates[i][:, t], K[i])/(it-1) for t in range(0, n)], axis = 2)) \n"
   ]
  },
  {
   "cell_type": "code",
   "execution_count": 662,
   "metadata": {},
   "outputs": [
    {
     "data": {
      "text/plain": [
       "0.99999999999999989"
      ]
     },
     "execution_count": 662,
     "metadata": {},
     "output_type": "execute_result"
    }
   ],
   "source": [
    "np.sum(Smm[0][:, :, 0])"
   ]
  },
  {
   "cell_type": "code",
   "execution_count": 654,
   "metadata": {},
   "outputs": [
    {
     "data": {
      "text/plain": [
       "array([2, 3, 4, 4, 2, 3, 1, 2, 4, 3, 4, 2, 3, 4, 0])"
      ]
     },
     "execution_count": 654,
     "metadata": {},
     "output_type": "execute_result"
    }
   ],
   "source": [
    "zstates[0][:, 0]"
   ]
  },
  {
   "cell_type": "code",
   "execution_count": 634,
   "metadata": {},
   "outputs": [
    {
     "data": {
      "text/plain": [
       "array([[ 0.3,  0.2,  0.1,  0.1,  0.3],\n",
       "       [ 0. ,  0.2,  0. ,  0. ,  0.8],\n",
       "       [ 0. ,  0. ,  0.3,  0. ,  0.7],\n",
       "       [ 0. ,  0. ,  0.2,  0.1,  0.7],\n",
       "       [ 0. ,  0.3,  0.1,  0. ,  0.6],\n",
       "       [ 0. ,  0.1,  0.2,  0. ,  0.7],\n",
       "       [ 0.1,  0.1,  0.4,  0. ,  0.4],\n",
       "       [ 0.1,  0. ,  0.2,  0. ,  0.7],\n",
       "       [ 0. ,  0.1,  0.1,  0.1,  0.7],\n",
       "       [ 0.1,  0.1,  0.1,  0. ,  0.7]])"
      ]
     },
     "execution_count": 634,
     "metadata": {},
     "output_type": "execute_result"
    }
   ],
   "source": [
    "zmat = np.zeros((n, K[i]))\n",
    "inds = [np.unique(zstates[i][:, t], return_counts = True)[0] for t in range(0,n)]\n",
    "for t in range(n):\n",
    "    zmat[t, inds[t]] = uprobs[t]\n",
    "zmat"
   ]
  },
  {
   "cell_type": "code",
   "execution_count": 632,
   "metadata": {},
   "outputs": [
    {
     "data": {
      "text/plain": [
       "[array([0, 1, 2, 3, 4]),\n",
       " array([1, 4]),\n",
       " array([2, 4]),\n",
       " array([2, 3, 4]),\n",
       " array([1, 2, 4]),\n",
       " array([1, 2, 4]),\n",
       " array([0, 1, 2, 4]),\n",
       " array([0, 2, 4]),\n",
       " array([1, 2, 3, 4]),\n",
       " array([0, 1, 2, 4])]"
      ]
     },
     "execution_count": 632,
     "metadata": {},
     "output_type": "execute_result"
    }
   ],
   "source": [
    "inds = [np.unique(zstates[i][:, t], return_counts = True)[0] for t in range(0,n)]\n",
    "inds"
   ]
  },
  {
   "cell_type": "code",
   "execution_count": 631,
   "metadata": {},
   "outputs": [
    {
     "data": {
      "text/plain": [
       "[array([ 0.,  0.,  0.,  0.,  0.]),\n",
       " array([ 0.,  0.,  0.,  0.,  0.]),\n",
       " array([ 0.,  0.,  0.,  0.,  0.]),\n",
       " array([ 0.,  0.,  0.,  0.,  0.]),\n",
       " array([ 0.,  0.,  0.,  0.,  0.]),\n",
       " array([ 0.,  0.,  0.,  0.,  0.]),\n",
       " array([ 0.,  0.,  0.,  0.,  0.]),\n",
       " array([ 0.,  0.,  0.,  0.,  0.]),\n",
       " array([ 0.,  0.,  0.,  0.,  0.]),\n",
       " array([ 0.,  0.,  0.,  0.,  0.])]"
      ]
     },
     "execution_count": 631,
     "metadata": {},
     "output_type": "execute_result"
    }
   ],
   "source": [
    "zmat = [np.zeros(K[i]) for t in range(n)]\n",
    "zmat"
   ]
  },
  {
   "cell_type": "code",
   "execution_count": 664,
   "metadata": {},
   "outputs": [
    {
     "data": {
      "text/plain": [
       "[array([[2, 3, 0, 2, 0, 0, 1, 2, 1, 3],\n",
       "        [3, 1, 1, 2, 3, 3, 2, 3, 2, 3],\n",
       "        [4, 3, 2, 3, 4, 4, 1, 4, 3, 2],\n",
       "        [4, 4, 1, 2, 4, 2, 2, 0, 3, 3],\n",
       "        [2, 0, 2, 3, 3, 2, 3, 2, 1, 3],\n",
       "        [3, 2, 4, 3, 1, 4, 4, 4, 0, 3],\n",
       "        [1, 1, 1, 4, 3, 0, 0, 2, 2, 3],\n",
       "        [2, 0, 0, 2, 4, 1, 3, 3, 3, 4],\n",
       "        [4, 3, 1, 1, 2, 2, 3, 1, 1, 1],\n",
       "        [3, 4, 4, 3, 1, 3, 1, 1, 3, 2],\n",
       "        [4, 2, 2, 2, 2, 4, 3, 2, 1, 1],\n",
       "        [2, 2, 2, 3, 4, 2, 0, 1, 2, 0],\n",
       "        [3, 3, 3, 3, 4, 3, 2, 3, 3, 1],\n",
       "        [4, 4, 4, 4, 2, 2, 4, 4, 1, 1],\n",
       "        [0, 2, 2, 0, 3, 3, 2, 2, 0, 1]]),\n",
       " array([[2, 0, 3, 3, 1, 1, 3, 0, 1, 2],\n",
       "        [2, 2, 4, 3, 3, 4, 4, 4, 1, 1],\n",
       "        [4, 2, 0, 1, 2, 4, 1, 4, 0, 1],\n",
       "        [1, 4, 0, 2, 2, 1, 1, 2, 2, 4],\n",
       "        [1, 1, 3, 0, 0, 0, 3, 0, 2, 4],\n",
       "        [4, 3, 3, 4, 2, 4, 2, 4, 4, 0],\n",
       "        [4, 4, 3, 4, 4, 4, 4, 4, 4, 4],\n",
       "        [1, 1, 2, 1, 4, 1, 2, 4, 1, 2],\n",
       "        [2, 1, 2, 2, 1, 2, 2, 4, 4, 3],\n",
       "        [0, 0, 1, 2, 4, 0, 0, 2, 4, 4],\n",
       "        [1, 2, 1, 4, 4, 4, 1, 2, 4, 4],\n",
       "        [2, 4, 0, 1, 1, 1, 2, 4, 4, 2],\n",
       "        [4, 2, 2, 2, 1, 4, 0, 0, 4, 2],\n",
       "        [1, 4, 0, 0, 0, 3, 1, 2, 1, 1],\n",
       "        [4, 4, 1, 2, 4, 4, 0, 0, 0, 3]]),\n",
       " array([[3, 4, 1, 0, 4, 2, 1, 1, 4, 4],\n",
       "        [4, 4, 0, 2, 3, 1, 2, 0, 4, 0],\n",
       "        [1, 4, 2, 2, 3, 2, 3, 3, 3, 1],\n",
       "        [0, 0, 3, 3, 0, 1, 2, 1, 4, 4],\n",
       "        [3, 0, 0, 1, 4, 2, 3, 1, 1, 0],\n",
       "        [1, 4, 3, 2, 4, 0, 0, 2, 2, 2],\n",
       "        [2, 1, 0, 2, 0, 1, 2, 2, 2, 2],\n",
       "        [3, 3, 3, 1, 2, 2, 3, 0, 0, 3],\n",
       "        [3, 2, 2, 3, 1, 3, 3, 2, 2, 2],\n",
       "        [3, 1, 2, 3, 1, 4, 2, 3, 3, 3],\n",
       "        [1, 4, 0, 3, 3, 0, 0, 3, 0, 1],\n",
       "        [2, 0, 2, 1, 4, 0, 3, 4, 4, 3],\n",
       "        [3, 3, 0, 3, 1, 1, 4, 0, 0, 1],\n",
       "        [2, 4, 4, 2, 1, 0, 3, 3, 2, 4],\n",
       "        [1, 2, 0, 1, 3, 2, 4, 2, 3, 4]])]"
      ]
     },
     "execution_count": 664,
     "metadata": {},
     "output_type": "execute_result"
    }
   ],
   "source": [
    "zstates"
   ]
  },
  {
   "cell_type": "code",
   "execution_count": 679,
   "metadata": {
    "collapsed": true
   },
   "outputs": [],
   "source": [
    "# <S_t^(m)S_t^(n)>\n",
    "Snm = np.zeros((sum(K), sum(K), n))\n",
    "ind1 = np.insert(np.cumsum(K[1:]), 0, 0) # indices for Snm matrix\n",
    "ind2 = K + np.insert(np.cumsum(K[1:]), 0, 0)\n",
    "for t in range(0, n):\n",
    "    for i in range(0, M):\n",
    "        for j in range(0, M):\n",
    "            if i == j:\n",
    "                s1 = np.zeros((K[i], K[i]))\n",
    "                mm = np.unique(zstates[i][:, t], return_counts = True)\n",
    "                s1[mm[0], mm[0]] = mm[1]/it\n",
    "                Snm[ind1[i]:ind2[i], ind1[i]:ind2[i], t] = s1\n",
    "            s2 = np.zeros((K[i], K[j]))\n",
    "            for l in range(0, it):\n",
    "                s2[zstates[i][l, t], zstates[j][l, t]] += 1\n",
    "            Snm[ind1[i]:ind2[i], ind1[j]:ind2[j], t] = s2/it\n",
    "    "
   ]
  },
  {
   "cell_type": "code",
   "execution_count": 684,
   "metadata": {},
   "outputs": [
    {
     "data": {
      "text/plain": [
       "1.0"
      ]
     },
     "execution_count": 684,
     "metadata": {},
     "output_type": "execute_result"
    }
   ],
   "source": [
    "np.sum(Snm[:,:,0][0:5, 5:10])"
   ]
  },
  {
   "cell_type": "code",
   "execution_count": null,
   "metadata": {
    "collapsed": true
   },
   "outputs": [],
   "source": []
  },
  {
   "cell_type": "code",
   "execution_count": 539,
   "metadata": {},
   "outputs": [
    {
     "ename": "IndexError",
     "evalue": "index 4 is out of bounds for axis 1 with size 4",
     "output_type": "error",
     "traceback": [
      "\u001b[0;31m---------------------------------------------------------------------------\u001b[0m",
      "\u001b[0;31mIndexError\u001b[0m                                Traceback (most recent call last)",
      "\u001b[0;32m<ipython-input-539-3643fba7ec22>\u001b[0m in \u001b[0;36m<module>\u001b[0;34m()\u001b[0m\n\u001b[0;32m----> 1\u001b[0;31m \u001b[0mSt\u001b[0m\u001b[0;34m,\u001b[0m \u001b[0mSmm\u001b[0m\u001b[0;34m,\u001b[0m \u001b[0mSnm\u001b[0m \u001b[0;34m=\u001b[0m \u001b[0mgibbs_sampler\u001b[0m\u001b[0;34m(\u001b[0m\u001b[0mn\u001b[0m\u001b[0;34m,\u001b[0m \u001b[0mM\u001b[0m\u001b[0;34m,\u001b[0m \u001b[0mK\u001b[0m\u001b[0;34m,\u001b[0m \u001b[0mY\u001b[0m\u001b[0;34m,\u001b[0m \u001b[0mTmat\u001b[0m\u001b[0;34m,\u001b[0m \u001b[0mW\u001b[0m\u001b[0;34m,\u001b[0m \u001b[0mC\u001b[0m\u001b[0;34m,\u001b[0m \u001b[0mit\u001b[0m \u001b[0;34m=\u001b[0m \u001b[0;36m10\u001b[0m\u001b[0;34m)\u001b[0m\u001b[0;34m\u001b[0m\u001b[0m\n\u001b[0m",
      "\u001b[0;32m<ipython-input-354-a81e81d1703a>\u001b[0m in \u001b[0;36mgibbs_sampler\u001b[0;34m(n, M, K, Y, Tmat, W, C, it)\u001b[0m\n\u001b[1;32m     95\u001b[0m             \u001b[0;32mif\u001b[0m \u001b[0mlen\u001b[0m\u001b[0;34m(\u001b[0m\u001b[0mind1\u001b[0m\u001b[0;34m[\u001b[0m\u001b[0mt\u001b[0m\u001b[0;34m]\u001b[0m\u001b[0;34m)\u001b[0m \u001b[0;34m>\u001b[0m \u001b[0;36m0\u001b[0m\u001b[0;34m:\u001b[0m\u001b[0;34m\u001b[0m\u001b[0m\n\u001b[1;32m     96\u001b[0m                 \u001b[0;32mif\u001b[0m \u001b[0mK\u001b[0m\u001b[0;34m[\u001b[0m\u001b[0mi\u001b[0m\u001b[0;34m]\u001b[0m \u001b[0;34m-\u001b[0m \u001b[0;36m1\u001b[0m \u001b[0;32min\u001b[0m \u001b[0mind1\u001b[0m\u001b[0;34m[\u001b[0m\u001b[0mt\u001b[0m\u001b[0;34m]\u001b[0m\u001b[0;34m:\u001b[0m\u001b[0;34m\u001b[0m\u001b[0m\n\u001b[0;32m---> 97\u001b[0;31m                     \u001b[0muprobs\u001b[0m\u001b[0;34m[\u001b[0m\u001b[0mt\u001b[0m\u001b[0;34m]\u001b[0m \u001b[0;34m=\u001b[0m \u001b[0mnp\u001b[0m\u001b[0;34m.\u001b[0m\u001b[0mappend\u001b[0m\u001b[0;34m(\u001b[0m\u001b[0mnp\u001b[0m\u001b[0;34m.\u001b[0m\u001b[0minsert\u001b[0m\u001b[0;34m(\u001b[0m\u001b[0muprobs\u001b[0m\u001b[0;34m[\u001b[0m\u001b[0mt\u001b[0m\u001b[0;34m]\u001b[0m\u001b[0;34m,\u001b[0m \u001b[0mind1\u001b[0m\u001b[0;34m[\u001b[0m\u001b[0mt\u001b[0m\u001b[0;34m]\u001b[0m\u001b[0;34m[\u001b[0m\u001b[0;36m0\u001b[0m\u001b[0;34m:\u001b[0m\u001b[0;34m-\u001b[0m\u001b[0;36m1\u001b[0m\u001b[0;34m]\u001b[0m\u001b[0;34m,\u001b[0m \u001b[0;36m0\u001b[0m\u001b[0;34m)\u001b[0m\u001b[0;34m,\u001b[0m \u001b[0;36m0\u001b[0m\u001b[0;34m)\u001b[0m\u001b[0;34m\u001b[0m\u001b[0m\n\u001b[0m\u001b[1;32m     98\u001b[0m                 \u001b[0;32melse\u001b[0m\u001b[0;34m:\u001b[0m\u001b[0;34m\u001b[0m\u001b[0m\n\u001b[1;32m     99\u001b[0m                     \u001b[0muprobs\u001b[0m\u001b[0;34m[\u001b[0m\u001b[0mt\u001b[0m\u001b[0;34m]\u001b[0m \u001b[0;34m=\u001b[0m \u001b[0mnp\u001b[0m\u001b[0;34m.\u001b[0m\u001b[0minsert\u001b[0m\u001b[0;34m(\u001b[0m\u001b[0muprobs\u001b[0m\u001b[0;34m[\u001b[0m\u001b[0mt\u001b[0m\u001b[0;34m]\u001b[0m\u001b[0;34m,\u001b[0m \u001b[0mind1\u001b[0m\u001b[0;34m[\u001b[0m\u001b[0mt\u001b[0m\u001b[0;34m]\u001b[0m\u001b[0;34m,\u001b[0m \u001b[0;36m0\u001b[0m\u001b[0;34m)\u001b[0m \u001b[0;31m# add states with 0 occurrences\u001b[0m\u001b[0;34m\u001b[0m\u001b[0m\n",
      "\u001b[0;32m/Users/annayanchenko/anaconda3/lib/python3.5/site-packages/numpy/lib/function_base.py\u001b[0m in \u001b[0;36minsert\u001b[0;34m(arr, obj, values, axis)\u001b[0m\n\u001b[1;32m   4082\u001b[0m     \u001b[0mnewshape\u001b[0m\u001b[0;34m[\u001b[0m\u001b[0maxis\u001b[0m\u001b[0;34m]\u001b[0m \u001b[0;34m+=\u001b[0m \u001b[0mnumnew\u001b[0m\u001b[0;34m\u001b[0m\u001b[0m\n\u001b[1;32m   4083\u001b[0m     \u001b[0mold_mask\u001b[0m \u001b[0;34m=\u001b[0m \u001b[0mones\u001b[0m\u001b[0;34m(\u001b[0m\u001b[0mnewshape\u001b[0m\u001b[0;34m[\u001b[0m\u001b[0maxis\u001b[0m\u001b[0;34m]\u001b[0m\u001b[0;34m,\u001b[0m \u001b[0mdtype\u001b[0m\u001b[0;34m=\u001b[0m\u001b[0mbool\u001b[0m\u001b[0;34m)\u001b[0m\u001b[0;34m\u001b[0m\u001b[0m\n\u001b[0;32m-> 4084\u001b[0;31m     \u001b[0mold_mask\u001b[0m\u001b[0;34m[\u001b[0m\u001b[0mindices\u001b[0m\u001b[0;34m]\u001b[0m \u001b[0;34m=\u001b[0m \u001b[0;32mFalse\u001b[0m\u001b[0;34m\u001b[0m\u001b[0m\n\u001b[0m\u001b[1;32m   4085\u001b[0m \u001b[0;34m\u001b[0m\u001b[0m\n\u001b[1;32m   4086\u001b[0m     \u001b[0mnew\u001b[0m \u001b[0;34m=\u001b[0m \u001b[0mempty\u001b[0m\u001b[0;34m(\u001b[0m\u001b[0mnewshape\u001b[0m\u001b[0;34m,\u001b[0m \u001b[0marr\u001b[0m\u001b[0;34m.\u001b[0m\u001b[0mdtype\u001b[0m\u001b[0;34m,\u001b[0m \u001b[0marr\u001b[0m\u001b[0;34m.\u001b[0m\u001b[0mflags\u001b[0m\u001b[0;34m.\u001b[0m\u001b[0mfnc\u001b[0m\u001b[0;34m)\u001b[0m\u001b[0;34m\u001b[0m\u001b[0m\n",
      "\u001b[0;31mIndexError\u001b[0m: index 4 is out of bounds for axis 1 with size 4"
     ]
    }
   ],
   "source": [
    "St, Smm, Snm = gibbs_sampler(n, M, K, Y, Tmat, W, C, it = 10)"
   ]
  },
  {
   "cell_type": "code",
   "execution_count": 528,
   "metadata": {},
   "outputs": [
    {
     "ename": "ValueError",
     "evalue": "the input matrix must be positive semidefinite",
     "output_type": "error",
     "traceback": [
      "\u001b[0;31m---------------------------------------------------------------------------\u001b[0m",
      "\u001b[0;31mValueError\u001b[0m                                Traceback (most recent call last)",
      "\u001b[0;32m<ipython-input-528-fbbc68f31b9f>\u001b[0m in \u001b[0;36m<module>\u001b[0;34m()\u001b[0m\n\u001b[1;32m      2\u001b[0m \u001b[0;31m## E - Step\u001b[0m\u001b[0;34m\u001b[0m\u001b[0;34m\u001b[0m\u001b[0m\n\u001b[1;32m      3\u001b[0m \u001b[0;34m\u001b[0m\u001b[0m\n\u001b[0;32m----> 4\u001b[0;31m \u001b[0mSt\u001b[0m\u001b[0;34m,\u001b[0m \u001b[0mSmm\u001b[0m\u001b[0;34m,\u001b[0m \u001b[0mSnm\u001b[0m \u001b[0;34m=\u001b[0m \u001b[0mgibbs_sampler\u001b[0m\u001b[0;34m(\u001b[0m\u001b[0mn\u001b[0m\u001b[0;34m,\u001b[0m \u001b[0mM\u001b[0m\u001b[0;34m,\u001b[0m \u001b[0mK\u001b[0m\u001b[0;34m,\u001b[0m \u001b[0mY\u001b[0m\u001b[0;34m,\u001b[0m \u001b[0mTmat\u001b[0m\u001b[0;34m,\u001b[0m \u001b[0mW\u001b[0m\u001b[0;34m,\u001b[0m \u001b[0mC\u001b[0m\u001b[0;34m,\u001b[0m \u001b[0mit\u001b[0m \u001b[0;34m=\u001b[0m \u001b[0;36m10\u001b[0m\u001b[0;34m)\u001b[0m\u001b[0;34m\u001b[0m\u001b[0m\n\u001b[0m\u001b[1;32m      5\u001b[0m \u001b[0;34m\u001b[0m\u001b[0m\n\u001b[1;32m      6\u001b[0m \u001b[0;31m## M - Step\u001b[0m\u001b[0;34m\u001b[0m\u001b[0;34m\u001b[0m\u001b[0m\n",
      "\u001b[0;32m<ipython-input-354-a81e81d1703a>\u001b[0m in \u001b[0;36mgibbs_sampler\u001b[0;34m(n, M, K, Y, Tmat, W, C, it)\u001b[0m\n\u001b[1;32m     76\u001b[0m                     \u001b[0mtfore\u001b[0m \u001b[0;34m=\u001b[0m \u001b[0mTmat\u001b[0m\u001b[0;34m[\u001b[0m\u001b[0mi\u001b[0m\u001b[0;34m]\u001b[0m\u001b[0;34m[\u001b[0m\u001b[0mfore\u001b[0m\u001b[0;34m,\u001b[0m \u001b[0;34m:\u001b[0m\u001b[0;34m]\u001b[0m\u001b[0;34m\u001b[0m\u001b[0m\n\u001b[1;32m     77\u001b[0m                 \u001b[0;31m## calculate P(Y_t | S_t^1, S_t^2, ..., S_t^M)\u001b[0m\u001b[0;34m\u001b[0m\u001b[0;34m\u001b[0m\u001b[0m\n\u001b[0;32m---> 78\u001b[0;31m                 \u001b[0mydense\u001b[0m \u001b[0;34m=\u001b[0m \u001b[0my_density\u001b[0m\u001b[0;34m(\u001b[0m\u001b[0mt\u001b[0m\u001b[0;34m,\u001b[0m \u001b[0mY\u001b[0m\u001b[0;34m[\u001b[0m\u001b[0;34m:\u001b[0m\u001b[0;34m,\u001b[0m \u001b[0mt\u001b[0m\u001b[0;34m]\u001b[0m\u001b[0;34m,\u001b[0m \u001b[0mM\u001b[0m\u001b[0;34m,\u001b[0m \u001b[0mK\u001b[0m\u001b[0;34m,\u001b[0m \u001b[0mS\u001b[0m\u001b[0;34m,\u001b[0m \u001b[0mC\u001b[0m\u001b[0;34m,\u001b[0m \u001b[0mW\u001b[0m\u001b[0;34m,\u001b[0m \u001b[0mi\u001b[0m\u001b[0;34m)\u001b[0m\u001b[0;34m\u001b[0m\u001b[0m\n\u001b[0m\u001b[1;32m     79\u001b[0m \u001b[0;34m\u001b[0m\u001b[0m\n\u001b[1;32m     80\u001b[0m                 \u001b[0;31m## Calculate probability for each state for S_t^i\u001b[0m\u001b[0;34m\u001b[0m\u001b[0;34m\u001b[0m\u001b[0m\n",
      "\u001b[0;32m<ipython-input-354-a81e81d1703a>\u001b[0m in \u001b[0;36my_density\u001b[0;34m(t, y, M, K, S, C, W, update)\u001b[0m\n\u001b[1;32m     28\u001b[0m         \u001b[0;32mfor\u001b[0m \u001b[0mj\u001b[0m \u001b[0;32min\u001b[0m \u001b[0mrange\u001b[0m\u001b[0;34m(\u001b[0m\u001b[0;36m0\u001b[0m\u001b[0;34m,\u001b[0m \u001b[0mM\u001b[0m\u001b[0;34m)\u001b[0m\u001b[0;34m:\u001b[0m\u001b[0;34m\u001b[0m\u001b[0m\n\u001b[1;32m     29\u001b[0m             \u001b[0mmu\u001b[0m \u001b[0;34m+=\u001b[0m \u001b[0mnp\u001b[0m\u001b[0;34m.\u001b[0m\u001b[0mdot\u001b[0m\u001b[0;34m(\u001b[0m\u001b[0mW\u001b[0m\u001b[0;34m[\u001b[0m\u001b[0mj\u001b[0m\u001b[0;34m]\u001b[0m\u001b[0;34m,\u001b[0m \u001b[0mStemp\u001b[0m\u001b[0;34m[\u001b[0m\u001b[0mj\u001b[0m\u001b[0;34m]\u001b[0m\u001b[0;34m[\u001b[0m\u001b[0;34m:\u001b[0m\u001b[0;34m,\u001b[0m \u001b[0mt\u001b[0m\u001b[0;34m]\u001b[0m\u001b[0;34m)\u001b[0m\u001b[0;34m\u001b[0m\u001b[0m\n\u001b[0;32m---> 30\u001b[0;31m         \u001b[0mydense\u001b[0m\u001b[0;34m[\u001b[0m\u001b[0mi\u001b[0m\u001b[0;34m]\u001b[0m \u001b[0;34m=\u001b[0m \u001b[0mmultivariate_normal\u001b[0m\u001b[0;34m.\u001b[0m\u001b[0mpdf\u001b[0m\u001b[0;34m(\u001b[0m\u001b[0my\u001b[0m\u001b[0;34m,\u001b[0m \u001b[0mmean\u001b[0m \u001b[0;34m=\u001b[0m \u001b[0mmu\u001b[0m\u001b[0;34m,\u001b[0m \u001b[0mcov\u001b[0m \u001b[0;34m=\u001b[0m \u001b[0mC\u001b[0m\u001b[0;34m)\u001b[0m\u001b[0;34m\u001b[0m\u001b[0m\n\u001b[0m\u001b[1;32m     31\u001b[0m     \u001b[0;32mreturn\u001b[0m\u001b[0;34m(\u001b[0m\u001b[0mydense\u001b[0m\u001b[0;34m)\u001b[0m\u001b[0;34m\u001b[0m\u001b[0m\n\u001b[1;32m     32\u001b[0m \u001b[0;34m\u001b[0m\u001b[0m\n",
      "\u001b[0;32m/Users/annayanchenko/anaconda3/lib/python3.5/site-packages/scipy/stats/_multivariate.py\u001b[0m in \u001b[0;36mpdf\u001b[0;34m(self, x, mean, cov, allow_singular)\u001b[0m\n\u001b[1;32m    497\u001b[0m         \u001b[0mdim\u001b[0m\u001b[0;34m,\u001b[0m \u001b[0mmean\u001b[0m\u001b[0;34m,\u001b[0m \u001b[0mcov\u001b[0m \u001b[0;34m=\u001b[0m \u001b[0mself\u001b[0m\u001b[0;34m.\u001b[0m\u001b[0m_process_parameters\u001b[0m\u001b[0;34m(\u001b[0m\u001b[0;32mNone\u001b[0m\u001b[0;34m,\u001b[0m \u001b[0mmean\u001b[0m\u001b[0;34m,\u001b[0m \u001b[0mcov\u001b[0m\u001b[0;34m)\u001b[0m\u001b[0;34m\u001b[0m\u001b[0m\n\u001b[1;32m    498\u001b[0m         \u001b[0mx\u001b[0m \u001b[0;34m=\u001b[0m \u001b[0mself\u001b[0m\u001b[0;34m.\u001b[0m\u001b[0m_process_quantiles\u001b[0m\u001b[0;34m(\u001b[0m\u001b[0mx\u001b[0m\u001b[0;34m,\u001b[0m \u001b[0mdim\u001b[0m\u001b[0;34m)\u001b[0m\u001b[0;34m\u001b[0m\u001b[0m\n\u001b[0;32m--> 499\u001b[0;31m         \u001b[0mpsd\u001b[0m \u001b[0;34m=\u001b[0m \u001b[0m_PSD\u001b[0m\u001b[0;34m(\u001b[0m\u001b[0mcov\u001b[0m\u001b[0;34m,\u001b[0m \u001b[0mallow_singular\u001b[0m\u001b[0;34m=\u001b[0m\u001b[0mallow_singular\u001b[0m\u001b[0;34m)\u001b[0m\u001b[0;34m\u001b[0m\u001b[0m\n\u001b[0m\u001b[1;32m    500\u001b[0m         \u001b[0mout\u001b[0m \u001b[0;34m=\u001b[0m \u001b[0mnp\u001b[0m\u001b[0;34m.\u001b[0m\u001b[0mexp\u001b[0m\u001b[0;34m(\u001b[0m\u001b[0mself\u001b[0m\u001b[0;34m.\u001b[0m\u001b[0m_logpdf\u001b[0m\u001b[0;34m(\u001b[0m\u001b[0mx\u001b[0m\u001b[0;34m,\u001b[0m \u001b[0mmean\u001b[0m\u001b[0;34m,\u001b[0m \u001b[0mpsd\u001b[0m\u001b[0;34m.\u001b[0m\u001b[0mU\u001b[0m\u001b[0;34m,\u001b[0m \u001b[0mpsd\u001b[0m\u001b[0;34m.\u001b[0m\u001b[0mlog_pdet\u001b[0m\u001b[0;34m,\u001b[0m \u001b[0mpsd\u001b[0m\u001b[0;34m.\u001b[0m\u001b[0mrank\u001b[0m\u001b[0;34m)\u001b[0m\u001b[0;34m)\u001b[0m\u001b[0;34m\u001b[0m\u001b[0m\n\u001b[1;32m    501\u001b[0m         \u001b[0;32mreturn\u001b[0m \u001b[0m_squeeze_output\u001b[0m\u001b[0;34m(\u001b[0m\u001b[0mout\u001b[0m\u001b[0;34m)\u001b[0m\u001b[0;34m\u001b[0m\u001b[0m\n",
      "\u001b[0;32m/Users/annayanchenko/anaconda3/lib/python3.5/site-packages/scipy/stats/_multivariate.py\u001b[0m in \u001b[0;36m__init__\u001b[0;34m(self, M, cond, rcond, lower, check_finite, allow_singular)\u001b[0m\n\u001b[1;32m    145\u001b[0m         \u001b[0meps\u001b[0m \u001b[0;34m=\u001b[0m \u001b[0m_eigvalsh_to_eps\u001b[0m\u001b[0;34m(\u001b[0m\u001b[0ms\u001b[0m\u001b[0;34m,\u001b[0m \u001b[0mcond\u001b[0m\u001b[0;34m,\u001b[0m \u001b[0mrcond\u001b[0m\u001b[0;34m)\u001b[0m\u001b[0;34m\u001b[0m\u001b[0m\n\u001b[1;32m    146\u001b[0m         \u001b[0;32mif\u001b[0m \u001b[0mnp\u001b[0m\u001b[0;34m.\u001b[0m\u001b[0mmin\u001b[0m\u001b[0;34m(\u001b[0m\u001b[0ms\u001b[0m\u001b[0;34m)\u001b[0m \u001b[0;34m<\u001b[0m \u001b[0;34m-\u001b[0m\u001b[0meps\u001b[0m\u001b[0;34m:\u001b[0m\u001b[0;34m\u001b[0m\u001b[0m\n\u001b[0;32m--> 147\u001b[0;31m             \u001b[0;32mraise\u001b[0m \u001b[0mValueError\u001b[0m\u001b[0;34m(\u001b[0m\u001b[0;34m'the input matrix must be positive semidefinite'\u001b[0m\u001b[0;34m)\u001b[0m\u001b[0;34m\u001b[0m\u001b[0m\n\u001b[0m\u001b[1;32m    148\u001b[0m         \u001b[0md\u001b[0m \u001b[0;34m=\u001b[0m \u001b[0ms\u001b[0m\u001b[0;34m[\u001b[0m\u001b[0ms\u001b[0m \u001b[0;34m>\u001b[0m \u001b[0meps\u001b[0m\u001b[0;34m]\u001b[0m\u001b[0;34m\u001b[0m\u001b[0m\n\u001b[1;32m    149\u001b[0m         \u001b[0;32mif\u001b[0m \u001b[0mlen\u001b[0m\u001b[0;34m(\u001b[0m\u001b[0md\u001b[0m\u001b[0;34m)\u001b[0m \u001b[0;34m<\u001b[0m \u001b[0mlen\u001b[0m\u001b[0;34m(\u001b[0m\u001b[0ms\u001b[0m\u001b[0;34m)\u001b[0m \u001b[0;32mand\u001b[0m \u001b[0;32mnot\u001b[0m \u001b[0mallow_singular\u001b[0m\u001b[0;34m:\u001b[0m\u001b[0;34m\u001b[0m\u001b[0m\n",
      "\u001b[0;31mValueError\u001b[0m: the input matrix must be positive semidefinite"
     ]
    }
   ],
   "source": [
    "\n",
    "## E - Step\n",
    "\n",
    "St, Smm, Snm = gibbs_sampler(n, M, K, Y, Tmat, W, C, it = 10)\n",
    "\n",
    "## M - Step\n",
    "W, pi, Tmat, C = Mstep(M, K,  Y, St, Smm, Snm)\n",
    "\n",
    "## Check tolerance\n",
    "# sample S with new params\n",
    "## Generate state variables\n",
    "S = []\n",
    "mu = np.zeros((D, n))\n",
    "zstates = []\n",
    "for i in range(0, M):\n",
    "    zstates = np.arange(0, K[i], dtype = int)\n",
    "    z = np.zeros(n, dtype = int)\n",
    "    zmat = np.zeros((K[i], n), dtype = int)\n",
    "    z[0] = np.random.choice(zstates, size = 1, p = pi[i])\n",
    "    zmat[z[0], 0] = 1\n",
    "    for j in range(1, n):\n",
    "        z[j] = np.random.choice(zstates, size = 1, p = Tmat[i][z[j-1], :])\n",
    "        zmat[z[j], j] = 1\n",
    "    S.append(zmat)\n",
    "    zstates.apend(z)\n",
    "for i in range(0, M):\n",
    "    for j in range(1, n):\n",
    "        mu[:, j] += np.dot(W[i], S[i][:, j])\n",
    "\n",
    "pNew = log_like(n, pi, Tmat, mu, C, Y, zstates)  \n",
    "criteria = abs(pOld - pNew)\n",
    "if criteria < tol:\n",
    "    convergence = 1\n",
    "else:\n",
    "    convergence = 0\n",
    "    pOld = pNew"
   ]
  },
  {
   "cell_type": "code",
   "execution_count": 529,
   "metadata": {},
   "outputs": [
    {
     "data": {
      "text/plain": [
       "array([[  626.17985738,   727.85270674,   595.5486112 ],\n",
       "       [ 1007.26455405,  1273.85777935,   982.22987698],\n",
       "       [  654.01008759,   782.67253069,   642.12431857]])"
      ]
     },
     "execution_count": 529,
     "metadata": {},
     "output_type": "execute_result"
    }
   ],
   "source": [
    "C"
   ]
  },
  {
   "cell_type": "code",
   "execution_count": 516,
   "metadata": {},
   "outputs": [],
   "source": [
    "Tmat = []\n",
    "St = [np.vstack(St[i]) for i in range(0, M)] ## stack St matrices for easier indexing\n",
    "for i in range(0, M):\n",
    "    Tnew = np.zeros((K[i], K[i]))\n",
    "    for j in range(0, K[i]):\n",
    "        for l in range(0, K[i]):\n",
    "            Tnew[j,l] =  np.sum(Smm[i][j, l, :])/sum(St[i][l, 0:(n-1)])\n",
    "    Tmat.append(Tnew)"
   ]
  },
  {
   "cell_type": "code",
   "execution_count": 517,
   "metadata": {},
   "outputs": [
    {
     "data": {
      "text/plain": [
       "array([[ 0. ,  0.1,  0.2,  0.1,  0.6],\n",
       "       [ 0.2,  0. ,  0.2,  0. ,  0.4],\n",
       "       [ 0.2,  0.1,  0. ,  0.2,  0.3],\n",
       "       [ 0.4,  0.2,  0.3,  0.8,  0.9],\n",
       "       [ 0.4,  0.4,  0.1,  1.3,  1.6]])"
      ]
     },
     "execution_count": 517,
     "metadata": {},
     "output_type": "execute_result"
    }
   ],
   "source": [
    "Tnew"
   ]
  },
  {
   "cell_type": "code",
   "execution_count": 447,
   "metadata": {},
   "outputs": [],
   "source": [
    "\n",
    "### Update W ###\n",
    "# Concatenate St to be sum(K) x 1 x t\n",
    "cSt = np.vstack([np.vstack(St[i]).transpose() for i in range(0, len(St))])\n",
    "s1 = np.dot(Y, cSt.transpose()) # first sum for Wnew\n",
    "s2 = np.linalg.pinv(np.sum(Snm, axis = 2)) # second sum for Wnew\n",
    "Wnew = np.dot(s1, s2)\n",
    "# make Wnew back into list of matrices\n",
    "W = []\n",
    "pi = []\n",
    "ind1 = np.insert(np.cumsum(K[1:]), 0, 0)\n",
    "ind2 = K + np.insert(np.cumsum(K[1:]), 0, 0)\n",
    "for i in range(0, M):\n",
    "    W.append(Wnew[:, ind1[i]:ind2[i]])\n",
    "    ### Update pi ###\n",
    "    pi.append(cSt[ind1[i]:ind2[i], 0])\n",
    "\n",
    "### Update Transition matrices ###\n",
    "Tmat = []\n",
    "St = [np.vstack(St[i]) for i in range(0, M)] ## stack St matrices for easier indexing\n",
    "for i in range(0, M):\n",
    "    Tnew = np.zeros((K[i], K[i]))\n",
    "    for j in range(0, K[i]):\n",
    "        for l in range(0, K[i]):\n",
    "            Tnew[j,l] =  np.sum(Smm[i][j, l, :])/sum(St[i][l, 0:(n-1)])\n",
    "    Tmat.append(Tnew)\n",
    "\n",
    "### Update C covariance ###\n",
    "s1 = np.dot(Y, Y.transpose())/n\n",
    "s2 = np.zeros((D, D))\n",
    "for t in range(0, n):\n",
    "    for i in range(0, M):\n",
    "        mult1 = np.dot(W[i], St[i][t, :])\n",
    "        s2 += np.outer(mult1, Y[:, t].transpose())\n",
    "C = s1 - s2/n\n",
    "\n"
   ]
  },
  {
   "cell_type": "code",
   "execution_count": 493,
   "metadata": {},
   "outputs": [
    {
     "data": {
      "text/plain": [
       "array([[  78.08,    0.  ,  191.5 , -139.69,  -24.47,   78.08,    0.  ,\n",
       "         191.5 , -139.69,  -24.47,   78.08,    0.  ,  191.5 , -139.69,\n",
       "         -24.47],\n",
       "       [ 162.38,  -31.75,  157.79, -163.75,  -27.34,  162.38,  -31.75,\n",
       "         157.79, -163.75,  -27.34,  162.38,  -31.75,  157.79, -163.75,\n",
       "         -27.34],\n",
       "       [  94.85,   -9.11,  163.79, -136.08,  -21.72,   94.85,   -9.11,\n",
       "         163.79, -136.08,  -21.72,   94.85,   -9.11,  163.79, -136.08,\n",
       "         -21.72]])"
      ]
     },
     "execution_count": 493,
     "metadata": {},
     "output_type": "execute_result"
    }
   ],
   "source": [
    "cSt = np.vstack([np.vstack(St[i]).transpose() for i in range(0, len(St))])\n",
    "s1 = np.dot(Y, cSt.transpose()) # first sum for Wnew\n",
    "s2 = np.linalg.pinv(np.sum(Snm, axis = 2)) # second sum for Wnew\n",
    "#np.round(np.linalg.pinv(np.sum(Snm, axis = 2)), 3)\n",
    "Wnew = np.dot(s1, s2)\n",
    "np.round(Wnew, 2)"
   ]
  },
  {
   "cell_type": "code",
   "execution_count": 490,
   "metadata": {},
   "outputs": [
    {
     "data": {
      "text/plain": [
       "array([[  7.80813181e+01,   2.91173835e-03,   1.91501906e+02,\n",
       "         -1.39687353e+02,  -2.44687121e+01,   7.80813181e+01,\n",
       "          2.91173835e-03,   1.91501906e+02,  -1.39687353e+02,\n",
       "         -2.44687121e+01,   7.80813181e+01,   2.91173835e-03,\n",
       "          1.91501906e+02,  -1.39687353e+02,  -2.44687121e+01],\n",
       "       [  1.62383940e+02,  -3.17512695e+01,   1.57786197e+02,\n",
       "         -1.63749018e+02,  -2.73445941e+01,   1.62383940e+02,\n",
       "         -3.17512695e+01,   1.57786197e+02,  -1.63749018e+02,\n",
       "         -2.73445941e+01,   1.62383940e+02,  -3.17512695e+01,\n",
       "          1.57786197e+02,  -1.63749018e+02,  -2.73445941e+01],\n",
       "       [  9.48548830e+01,  -9.10804490e+00,   1.63786657e+02,\n",
       "         -1.36084528e+02,  -2.17212488e+01,   9.48548830e+01,\n",
       "         -9.10804490e+00,   1.63786657e+02,  -1.36084528e+02,\n",
       "         -2.17212488e+01,   9.48548830e+01,  -9.10804490e+00,\n",
       "          1.63786657e+02,  -1.36084528e+02,  -2.17212488e+01]])"
      ]
     },
     "execution_count": 490,
     "metadata": {},
     "output_type": "execute_result"
    }
   ],
   "source": [
    "Wnew"
   ]
  },
  {
   "cell_type": "code",
   "execution_count": 458,
   "metadata": {},
   "outputs": [
    {
     "data": {
      "text/plain": [
       "array([[ 24.51421075,  34.09089727,  10.61841374,  26.13481106,\n",
       "         32.93512481,  20.79983717,  16.41590528,  40.34199775,\n",
       "         16.47963269,  34.25608474,  33.5744573 ,   3.77568713,\n",
       "         16.91885785,  34.46106322,  39.56339212],\n",
       "       [ 38.8142673 ,  56.25485668,  14.0279341 ,  32.73698374,\n",
       "         39.94904462,  29.20189752,  26.37542394,  60.21090638,\n",
       "         20.50330961,  45.49154899,  47.55986908,   5.77014181,\n",
       "         21.04210607,  53.48130067,  53.92966882],\n",
       "       [ 23.97970348,  31.01752101,  12.44897539,  25.50547019,\n",
       "         34.60740276,  21.11720952,  18.23566069,  41.49719109,\n",
       "         15.84401629,  30.86499523,  29.40513682,   3.47159543,\n",
       "         15.69275178,  40.18111815,  38.80847065]])"
      ]
     },
     "execution_count": 458,
     "metadata": {},
     "output_type": "execute_result"
    }
   ],
   "source": [
    "cSt = np.vstack([np.vstack(St[i]).transpose() for i in range(0, len(St))])\n",
    "s1 = np.dot(Y, cSt.transpose()) # first sum for Wnew\n",
    "s2 = np.linalg.pinv(np.sum(Snm, axis = 2)) # second sum for Wnew\n",
    "#Wnew = np.dot(s1, s2)\n",
    "s1"
   ]
  },
  {
   "cell_type": "code",
   "execution_count": 359,
   "metadata": {},
   "outputs": [],
   "source": [
    "\n",
    "# Randomly initialize state vectors\n",
    "S = []\n",
    "zstates = []\n",
    "for i in range(0, M):\n",
    "    s = np.zeros((K[i], n), dtype = int)\n",
    "    ind = np.random.choice(range(0, K[i]), n)\n",
    "    s[ind, range(0, n)] = 1\n",
    "    zz = np.zeros((it, n), dtype = int)\n",
    "    zz[0, :] = ind\n",
    "    zstates.append(zz)\n",
    "    S.append(s)\n",
    "\n",
    "for l in range(1, it):\n",
    "    ## update one  chain at a time\n",
    "    for i in range(0, M):\n",
    "        ## step through each time point\n",
    "        for t in range(0, n):\n",
    "            ## select P(S_t | S_t-1)\n",
    "            if t == 0:\n",
    "                tback = np.ones(K[i])\n",
    "            else:\n",
    "                prev = zstates[i][l-1, t-1]\n",
    "                tback = Tmat[i][prev, :]\n",
    "            ## select P(S_t+1 | S_t)\n",
    "            if t == (n-1):\n",
    "                tfore = np.ones(K[i])\n",
    "            else:\n",
    "                fore = zstates[i][l-1, t]\n",
    "                tfore = Tmat[i][fore, :]\n",
    "            ## calculate P(Y_t | S_t^1, S_t^2, ..., S_t^M)\n",
    "            ydense = y_density(t, Y[:, t], M, K, S, C, W, i)\n",
    "\n",
    "            ## Calculate probability for each state for S_t^i\n",
    "            probvec = np.multiply(np.multiply(tback, tfore) , ydense)\n",
    "            probvec = probvec/sum(probvec)\n",
    "            ## sample state and update vector\n",
    "            zstates[i][l, t] = np.random.choice(range(0, K[i]), 1, p = probvec)\n",
    "            S[i][zstates[i][l, t], t] = 1\n",
    "\n",
    "## Calculate expectations\n",
    "# <S_t^(m)>\n",
    "St = []\n",
    "Smm = []\n",
    "for i in range(0, M):\n",
    "    uprobs = [np.unique(zstates[i][:, t], return_counts = True)[1]/it for t in range(0,n)] # calculate probs\n",
    "    ind1 = [np.setdiff1d(np.arange(K[i]), zstates[i][:, t]) for t in range(0,n)] # find states with 0 occurrences\n",
    "    for t in range(0, n):\n",
    "        if len(ind1[t]) > 0:\n",
    "            if K[i] - 1 in ind1[t]:\n",
    "                uprobs[t] = np.append(np.insert(uprobs[t], ind1[t][0:-1], 0), 0)\n",
    "            else:\n",
    "                uprobs[t] = np.insert(uprobs[t], ind1[t], 0) # add states with 0 occurrences\n",
    "    St.append(uprobs)\n",
    "    # calculate trans mat\n",
    "    Smm.append(np.stack([trans_mat(zstates[i][t, :], K[i])/it for t in range(0, n)], axis = 2)) \n",
    "\n",
    "# <S_t^(m)S_t^(n)>\n",
    "Snm = np.zeros((sum(K), sum(K), n))\n",
    "ind1 = np.insert(np.cumsum(K[1:]), 0, 0) # indices for Snm matrix\n",
    "ind2 = K + np.insert(np.cumsum(K[1:]), 0, 0)\n",
    "for t in range(0, n):\n",
    "    for i in range(0, M):\n",
    "        for j in range(0, M):\n",
    "            if i == j:\n",
    "                s1 = np.zeros((K[i], K[i]))\n",
    "                mm = np.unique(zstates[i][:, t], return_counts = True)\n",
    "                s1[mm[0], mm[0]] = mm[1]/it\n",
    "                Snm[ind1[i]:ind2[i], ind1[i]:ind2[i], t] = s1\n",
    "            s2 = np.zeros((K[i], K[j]))\n",
    "            for l in range(0, it):\n",
    "                s2[zstates[0][l, t], zstates[1][l, t]] += 1\n",
    "            Snm[ind1[i]:ind2[i], ind1[j]:ind2[j], t] = s2/it\n",
    "\n"
   ]
  },
  {
   "cell_type": "code",
   "execution_count": 357,
   "metadata": {},
   "outputs": [
    {
     "name": "stderr",
     "output_type": "stream",
     "text": [
      "/Users/annayanchenko/anaconda3/lib/python3.5/site-packages/ipykernel/__main__.py:1: DeprecationWarning: converting an array with ndim > 0 to an index will result in an error in the future\n",
      "  if __name__ == '__main__':\n"
     ]
    },
    {
     "data": {
      "text/plain": [
       "array([[ 0. ,  0.1,  0. ,  0.1,  0. ,  0. ],\n",
       "       [ 0. ,  0. ,  0. ,  0. ,  0. ,  0. ],\n",
       "       [ 0. ,  0. ,  0.2,  0. ,  0.1,  0. ],\n",
       "       [ 0. ,  0. ,  0. ,  0. ,  0. ,  0. ],\n",
       "       [ 0. ,  0.3,  0.2,  0. ,  0. ,  0. ],\n",
       "       [ 0. ,  0.1,  0. ,  0.1,  0. ,  0. ]])"
      ]
     },
     "execution_count": 357,
     "metadata": {},
     "output_type": "execute_result"
    }
   ],
   "source": [
    "Snm[ind1[i]:ind2[i], ind1[i]:ind2[i], t]"
   ]
  },
  {
   "cell_type": "code",
   "execution_count": 352,
   "metadata": {},
   "outputs": [
    {
     "data": {
      "text/plain": [
       "[array([3]),\n",
       " array([0, 2]),\n",
       " array([], dtype=int64),\n",
       " array([4]),\n",
       " array([2]),\n",
       " array([4]),\n",
       " array([4]),\n",
       " array([2]),\n",
       " array([], dtype=int64),\n",
       " array([], dtype=int64)]"
      ]
     },
     "execution_count": 352,
     "metadata": {},
     "output_type": "execute_result"
    }
   ],
   "source": [
    "ind1"
   ]
  },
  {
   "cell_type": "code",
   "execution_count": 338,
   "metadata": {},
   "outputs": [
    {
     "data": {
      "text/plain": [
       "True"
      ]
     },
     "execution_count": 338,
     "metadata": {},
     "output_type": "execute_result"
    }
   ],
   "source": [
    "K[i] - 1 in ind1[t]"
   ]
  },
  {
   "cell_type": "code",
   "execution_count": 336,
   "metadata": {},
   "outputs": [
    {
     "data": {
      "text/plain": [
       "array([ 0. ,  0.4,  0.3,  0.3])"
      ]
     },
     "execution_count": 336,
     "metadata": {},
     "output_type": "execute_result"
    }
   ],
   "source": [
    "np.insert(uprobs[t], ind1[t][0], 0)"
   ]
  },
  {
   "cell_type": "code",
   "execution_count": 339,
   "metadata": {},
   "outputs": [
    {
     "data": {
      "text/plain": [
       "array([0])"
      ]
     },
     "execution_count": 339,
     "metadata": {},
     "output_type": "execute_result"
    }
   ],
   "source": [
    "ind1[t][0:-1]"
   ]
  },
  {
   "cell_type": "code",
   "execution_count": 56,
   "metadata": {},
   "outputs": [],
   "source": [
    "St, Smm, Snm = factorized_VI(n, M, K, Y, pi, Tmat, W, C, tol = 1E-5)"
   ]
  },
  {
   "cell_type": "code",
   "execution_count": 57,
   "metadata": {
    "collapsed": true
   },
   "outputs": [],
   "source": [
    "cSt = np.vstack([np.vstack(St[i]) for i in range(0, len(St))])\n",
    "s1 = np.dot(Y, cSt.transpose()) # first sum for Wnew\n",
    "s2 = np.linalg.pinv(np.sum(Snm, axis = 2)) # second sum for Wnew\n",
    "Wnew = np.dot(s1, s2)"
   ]
  },
  {
   "cell_type": "code",
   "execution_count": 62,
   "metadata": {},
   "outputs": [],
   "source": [
    "W = []\n",
    "pi = []\n",
    "ind1 = np.insert(np.cumsum(K[1:]), 0, 0)\n",
    "ind2 = K + np.insert(np.cumsum(K[1:]), 0, 0)\n",
    "for i in range(0, M):\n",
    "    W.append(Wnew[:, ind1[i]:ind2[i]])\n",
    "    ### Update pi ###\n",
    "    pi.append(St[i][:, 0])"
   ]
  },
  {
   "cell_type": "code",
   "execution_count": 65,
   "metadata": {},
   "outputs": [
    {
     "data": {
      "text/plain": [
       "array([[  4.72891802e-01,  -1.80644096e-01,  -4.51338398e-02,\n",
       "         -8.00539037e-02,  -1.80864886e-01,   3.59530250e-03,\n",
       "          1.72193144e-03,   3.26519383e-03,   1.45084434e-03,\n",
       "          1.23821611e-02,   2.68179568e-02,   5.31612433e-06,\n",
       "          1.77206376e-06,   1.77202598e-06,   1.77215977e-06],\n",
       "       [ -1.80644096e-01,   6.86252227e-01,  -7.80845697e-02,\n",
       "         -1.38498622e-01,  -3.12908382e-01,   6.22011443e-03,\n",
       "          2.97905688e-03,   5.64900429e-03,   2.51005800e-03,\n",
       "          2.14219690e-02,   4.63968638e-02,   9.19725160e-06,\n",
       "          3.06578915e-06,   3.06572378e-06,   3.06595526e-06],\n",
       "       [ -4.51338398e-02,  -7.80845697e-02,   2.30034964e-01,\n",
       "         -3.46038136e-02,  -7.81800077e-02,   1.55409258e-03,\n",
       "          7.44315918e-04,   1.41140099e-03,   6.27136776e-04,\n",
       "          5.35226858e-03,   1.15922339e-02,   2.29792886e-06,\n",
       "          7.65985934e-07,   7.65969601e-07,   7.66027435e-07],\n",
       "       [ -8.00539037e-02,  -1.38498622e-01,  -3.46038136e-02,\n",
       "          3.81240097e-01,  -1.38667900e-01,   2.75649442e-03,\n",
       "          1.32019334e-03,   2.50340230e-03,   1.11235267e-03,\n",
       "          9.49332021e-03,   2.05611484e-02,   4.07583702e-06,\n",
       "          1.35862945e-06,   1.35860048e-06,   1.35870307e-06],\n",
       "       [ -1.80864886e-01,  -3.12908382e-01,  -7.81800077e-02,\n",
       "         -1.38667900e-01,   6.86708543e-01,   6.22771690e-03,\n",
       "          2.98269800e-03,   5.65590873e-03,   2.51312590e-03,\n",
       "          2.14481518e-02,   4.64535718e-02,   9.20849284e-06,\n",
       "          3.06953628e-06,   3.06947083e-06,   3.06970259e-06],\n",
       "       [  3.59530250e-03,   6.22011443e-03,   1.55409258e-03,\n",
       "          2.75649442e-03,   6.22771690e-03,   5.78852356e-01,\n",
       "         -5.59861135e-02,  -1.06163061e-01,  -4.71721079e-02,\n",
       "         -4.02588081e-01,   4.14561340e-02,   8.21785060e-06,\n",
       "          2.73931804e-06,   2.73925963e-06,   2.73946646e-06],\n",
       "       [  1.72193144e-03,   2.97905688e-03,   7.44315918e-04,\n",
       "          1.32019334e-03,   2.98269800e-03,  -5.59861135e-02,\n",
       "          3.06407274e-01,  -5.08456555e-02,  -2.25925735e-02,\n",
       "         -1.92815229e-01,   1.98549693e-02,   3.93585112e-06,\n",
       "          1.31196690e-06,   1.31193892e-06,   1.31203798e-06],\n",
       "       [  3.26519383e-03,   5.64900429e-03,   1.41140099e-03,\n",
       "          2.50340230e-03,   5.65590873e-03,  -1.06163061e-01,\n",
       "         -5.08456555e-02,   5.35451603e-01,  -4.28409224e-02,\n",
       "         -3.65623787e-01,   3.76497702e-02,   7.46331500e-06,\n",
       "          2.48780300e-06,   2.48774995e-06,   2.48793779e-06],\n",
       "       [  1.45084434e-03,   2.51005800e-03,   6.27136776e-04,\n",
       "          1.11235267e-03,   2.51312590e-03,  -4.71721079e-02,\n",
       "         -2.25925735e-02,  -4.28409224e-02,   2.61725759e-01,\n",
       "         -1.62459943e-01,   1.67291618e-02,   3.31622222e-06,\n",
       "          1.10542133e-06,   1.10539776e-06,   1.10548122e-06],\n",
       "       [  1.23821611e-02,   2.14219690e-02,   5.35226858e-03,\n",
       "          9.49332021e-03,   2.14481518e-02,  -4.02588081e-01,\n",
       "         -1.92815229e-01,  -3.65623787e-01,  -1.62459943e-01,\n",
       "          1.00963927e+00,   1.42774225e-01,   2.83021386e-05,\n",
       "          9.43416504e-06,   9.43396388e-06,   9.43467619e-06],\n",
       "       [  2.68179568e-02,   4.63968638e-02,   1.15922339e-02,\n",
       "          2.05611484e-02,   4.64535718e-02,   4.14561340e-02,\n",
       "          1.98549693e-02,   3.76497702e-02,   1.67291618e-02,\n",
       "          1.42774225e-01,   1.64550649e+00,  -9.99672442e-01,\n",
       "         -3.33228345e-01,  -3.33221239e-01,  -3.33246399e-01],\n",
       "       [  5.31612433e-06,   9.19725160e-06,   2.29792886e-06,\n",
       "          4.07583702e-06,   9.20849284e-06,   8.21785060e-06,\n",
       "          3.93585112e-06,   7.46331500e-06,   3.31622222e-06,\n",
       "          2.83021386e-05,  -9.99672442e-01,   9.99800466e-01,\n",
       "         -6.60558641e-05,  -6.60544555e-05,  -6.60594430e-05],\n",
       "       [  1.77206376e-06,   3.06578915e-06,   7.65985933e-07,\n",
       "          1.35862945e-06,   3.06953628e-06,   2.73931804e-06,\n",
       "          1.31196690e-06,   2.48780300e-06,   1.10542133e-06,\n",
       "          9.43416504e-06,  -3.33228345e-01,  -6.60558641e-05,\n",
       "          3.33315057e-01,  -2.20184292e-05,  -2.20200917e-05],\n",
       "       [  1.77202598e-06,   3.06572378e-06,   7.65969600e-07,\n",
       "          1.35860048e-06,   3.06947083e-06,   2.73925963e-06,\n",
       "          1.31193892e-06,   2.48774995e-06,   1.10539776e-06,\n",
       "          9.43396388e-06,  -3.33221239e-01,  -6.60544555e-05,\n",
       "         -2.20184292e-05,   3.33307950e-01,  -2.20196222e-05],\n",
       "       [  1.77215977e-06,   3.06595526e-06,   7.66027435e-07,\n",
       "          1.35870307e-06,   3.06970259e-06,   2.73946646e-06,\n",
       "          1.31203798e-06,   2.48793779e-06,   1.10548122e-06,\n",
       "          9.43467619e-06,  -3.33246399e-01,  -6.60594430e-05,\n",
       "         -2.20200917e-05,  -2.20196222e-05,   3.33333115e-01]])"
      ]
     },
     "execution_count": 65,
     "metadata": {},
     "output_type": "execute_result"
    }
   ],
   "source": [
    "np.linalg.pinv(np.sum(Snm, axis = 2))"
   ]
  },
  {
   "cell_type": "code",
   "execution_count": 69,
   "metadata": {},
   "outputs": [
    {
     "data": {
      "text/plain": [
       "(5, 10)"
      ]
     },
     "execution_count": 69,
     "metadata": {},
     "output_type": "execute_result"
    }
   ],
   "source": [
    "St[0].shape"
   ]
  },
  {
   "cell_type": "code",
   "execution_count": 70,
   "metadata": {},
   "outputs": [],
   "source": [
    "for i in range(0, M):\n",
    "    Tnew = np.zeros((K[i], K[i]))\n",
    "    for j in range(0, K[i]):\n",
    "        for l in range(0, K[i]):\n",
    "            Tnew[j,l] =  np.sum(Smm[i][j, l, :])/sum(St[i][l, 0:(n-1)])\n",
    "    Tnew = Tnew/np.sum(Tnew, axis=1)[:,None]\n",
    "    Tmat.append(Tnew)"
   ]
  },
  {
   "cell_type": "code",
   "execution_count": null,
   "metadata": {
    "collapsed": true
   },
   "outputs": [],
   "source": [
    "### Update W ###\n",
    "# Concatenate St to be sum(K) x 1 x t\n",
    "cSt = np.vstack([np.vstack(St[i]) for i in range(0, len(St))])\n",
    "s1 = np.dot(Y, cSt.transpose()) # first sum for Wnew\n",
    "s2 = np.linalg.pinv(np.sum(Snm, axis = 2)) # second sum for Wnew\n",
    "Wnew = np.dot(s1, s2)\n",
    "# make Wnew back into list of matrices\n",
    "W = []\n",
    "pi = []\n",
    "ind1 = np.insert(np.cumsum(K[1:]), 0, 0)\n",
    "ind2 = K + np.insert(np.cumsum(K[1:]), 0, 0)\n",
    "for i in range(0, M):\n",
    "    W.append(Wnew[:, ind1[i]:ind2[i]])\n",
    "    ### Update pi ###\n",
    "    pi.append(cSt[ind1[i]:ind2[i], 0])\n",
    "\n",
    "### Update Transition matrices ###\n",
    "Tmat = []\n",
    "St = [np.vstack(St[i]) for i in range(0, M)] ## stack St matrices for easier indexing\n",
    "for i in range(0, M):\n",
    "    Tnew = np.zeros((K[i], K[i]))\n",
    "    for j in range(0, K[i]):\n",
    "        for l in range(0, K[i]):\n",
    "            Tnew[j,l] =  np.sum(Smm[i][j, l, :])/sum(St[i][l, 0:(n-1)])\n",
    "    Tnew = Tnew/np.sum(Tnew, axis=1)[:,None]\n",
    "    Tmat.append(Tnew)\n",
    "\n",
    "### Update C covariance ###\n",
    "#s1 = np.dot(Y, Y.transpose())/n\n",
    "#s2 = np.zeros((D, D))\n",
    "#for t in range(0, n):\n",
    "#    for i in range(0, M):\n",
    "#        mult1 = np.dot(W[i], St[i][t, :])\n",
    "#        s2 += np.outer(mult1, Y[:, t].transpose())\n",
    "#C = s1 - s2/n\n",
    "mutemp = np.zeros((D, n))\n",
    "for i in range(0, M):\n",
    "    mutemp += np.dot(W[i], np.vstack(St[i]))\n",
    "C = np.dot(Y - mutemp, (Y - mutemp).transpose())/n\n"
   ]
  }
 ],
 "metadata": {
  "kernelspec": {
   "display_name": "Python 3",
   "language": "python",
   "name": "python3"
  },
  "language_info": {
   "codemirror_mode": {
    "name": "ipython",
    "version": 3
   },
   "file_extension": ".py",
   "mimetype": "text/x-python",
   "name": "python",
   "nbconvert_exporter": "python",
   "pygments_lexer": "ipython3",
   "version": "3.6.5"
  }
 },
 "nbformat": 4,
 "nbformat_minor": 1
}
