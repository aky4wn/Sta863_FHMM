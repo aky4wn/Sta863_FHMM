{
 "cells": [
  {
   "cell_type": "markdown",
   "metadata": {
    "collapsed": true
   },
   "source": [
    "# STA 863 Final Project - FHMM\n",
    "*Factorial Hidden Markov Models* - Gharamani and Jordan\n"
   ]
  },
  {
   "cell_type": "code",
   "execution_count": 137,
   "metadata": {
    "collapsed": false
   },
   "outputs": [],
   "source": [
    "import numpy as np\n",
    "import pandas as pd\n",
    "import csv\n",
    "from numpy import linspace,exp\n",
    "from numpy.random import randn\n",
    "import matplotlib.pyplot as plt\n",
    "from scipy.interpolate import UnivariateSpline\n",
    "from scipy.stats import multivariate_normal\n",
    "import seaborn as sns\n",
    "np.random.seed(17)"
   ]
  },
  {
   "cell_type": "markdown",
   "metadata": {},
   "source": [
    "## 1. Generate Toy Data and Parameters\n",
    "\n",
    "$$P({S_t, Y_t}) = P(S_1)P(Y_1 | S_1)\\prod_{t=2}^T P(S_t | S_{t-1})P(Y_t | S_t)$$\n",
    "\n",
    "- Assume three different chains, each with 5 hidden states each\n",
    "- M = 3, K = (5, 5, 5)\n",
    "- n = 10 observations, D = 3 (dimension of Gaussian)\n",
    "- Normal Model"
   ]
  },
  {
   "cell_type": "code",
   "execution_count": 89,
   "metadata": {
    "collapsed": false
   },
   "outputs": [],
   "source": [
    "M = 3 ## Number of independent hidden state chains\n",
    "K = np.array([5, 5, 5]) ## number of hidden states for each chain\n",
    "D = 3 ## Dimension of Gaussian\n",
    "n = 10 ## number of observations\n",
    "\n",
    "\n",
    "## Generate distribtions\n",
    "pi = [] ## initial distribution\n",
    "Tmat = []  ## transition distribution\n",
    "W = [] ## contribution to means matrices D x K\n",
    "for i in range(0, M):\n",
    "    vals = np.random.rand(K[i])\n",
    "    pi.append(vals/np.sum(vals))\n",
    "    vals1 = np.random.rand(K[i], K[i])\n",
    "    Tmat.append(vals1/np.sum(vals1, axis=1)[:,None])\n",
    "    W.append(10*np.random.rand(D, K[i]))\n",
    "    \n",
    "## Generate state variables\n",
    "S = []\n",
    "for i in range(0, M):\n",
    "    zstates = np.arange(0, K[i], dtype = int)\n",
    "    z = np.zeros(n, dtype = int)\n",
    "    zmat = np.zeros((K[i], n), dtype = int)\n",
    "    z[0] = np.random.choice(zstates, size = 1, p = pi[i])\n",
    "    zmat[z[0], 0] = 1\n",
    "    for j in range(1, n):\n",
    "        z[j] = np.random.choice(zstates, size = 1, p = Tmat[i][z[j-1], :])\n",
    "        zmat[z[j], j] = 1\n",
    "    S.append(zmat)\n",
    "#x = np.random.normal(size=D)\n",
    "#y = np.random.normal(size=D)\n",
    "#z = np.vstack((x, y))\n",
    "#C = np.cov(z.T) ## covariance matrix\n",
    "C = np.identity(D)\n",
    "mu = np.zeros((D, n))\n",
    "Y = np.zeros((D, n))\n",
    "for t in range(0, n):\n",
    "    for i in range(0, M):\n",
    "        mu[:, t] += np.dot(W[i], S[i][:, t])\n",
    "    Y[:, t] = np.random.multivariate_normal(mu[:, t], C, 1)\n"
   ]
  },
  {
   "cell_type": "code",
   "execution_count": 90,
   "metadata": {
    "collapsed": false
   },
   "outputs": [
    {
     "data": {
      "image/png": "[encoded data removed]",
      "text/plain": [
       "<matplotlib.figure.Figure at 0x119a44c50>"
      ]
     },
     "metadata": {},
     "output_type": "display_data"
    }
   ],
   "source": [
    "sns.heatmap(Y)\n",
    "plt.title(\"Toy Data Y Values\")\n",
    "pass"
   ]
  },
  {
   "cell_type": "markdown",
   "metadata": {},
   "source": [
    "# E - Step\n",
    "\n",
    "## 2. Gibbs Sampling \n",
    "\n",
    "$$S_t^{(m)} \\propto P(S_t^{(m)} | S_{t-1}^{(m)})P(S_{t+1}|S_t^{(m)})P(Y_t | S_t^{(1)}, \\ldots, S_t^{(M)})$$"
   ]
  },
  {
   "cell_type": "code",
   "execution_count": 685,
   "metadata": {
    "collapsed": false
   },
   "outputs": [],
   "source": [
    "# Calculate transition matrix from a vector\n",
    "# q is a vector from 0 to m different states\n",
    "# return m x m transition matrix b\n",
    "from collections import Counter\n",
    "def trans_mat(q, m):\n",
    "    b = np.zeros((m,m))\n",
    "    for (x,y), c in Counter(zip(q, q[1:])).items():\n",
    "        b[x, y] = c\n",
    "    return(b)\n",
    "\n",
    "\n",
    "# t is the time step to be updated\n",
    "# y is the observed value at that time step\n",
    "# M is the number of hidden Markov chains\n",
    "# K is a vector of number of hidden states for each chain\n",
    "# C is covariance matrix for emission distribution\n",
    "# W is a list of M D x K matrix, columns contribution to mean of each state variable \n",
    "# S is a M long list of current states, each element of list is K[i] x n long (n number of observations)\n",
    "# update is which of M chains to calculate emission probabilities for, for every K[i] possible values\n",
    "# output is a K[update] vector of density of y for each possible value of S[update]\n",
    "def y_density(t, y, M, K, S, C, W, update):\n",
    "    ydense = np.zeros(K[update]) ## output density for each possible value of S[update]\n",
    "    Stemp = S\n",
    "    for i in range(0, K[update]):\n",
    "        mu = 0\n",
    "        Stemp[update][:, t] = 0\n",
    "        Stemp[update][i, t] = 0 # state variable value to calculate probability for\n",
    "        for j in range(0, M):\n",
    "            mu += np.dot(W[j], Stemp[j][:, t])\n",
    "        ydense[i] = multivariate_normal.pdf(y, mean = mu, cov = C)\n",
    "    return(ydense)\n",
    "\n",
    "\n",
    "\n",
    "# n is the number of observations\n",
    "# M is number of Markov hidden chains\n",
    "# K is number of hidden states for each chain (1 x M vector)\n",
    "# Y is the matrix of observations (D x n)\n",
    "# Tmat is a list of M KxK transition matrices\n",
    "# W is a list of M D x K matrix, columns contribution to mean of each state variable\n",
    "# C is the covariance matrix for the observations\n",
    "# it is the number of iterations to run for the Gibbs Sampler\n",
    "# output is:\n",
    "# St is a M long list of  K[i] x n matrices of the <S_t^(m)> expectations\n",
    "# Smm is a M long list of K[m] x K[m] x n matrices of <S_t^(m)S_t^(m-1)'> expectations\n",
    "# Snm is a sum(K) x sum(K) x n=T matrix of <S_t^(q)S_t^(m)'> expectations\n",
    "def gibbs_sampler(n, M, K, Y, Tmat, W, C, it = 10):\n",
    "    # Randomly initialize state vectors\n",
    "    S = []\n",
    "    zstates = []\n",
    "    for i in range(0, M):\n",
    "        s = np.zeros((K[i], n), dtype = int)\n",
    "        ind = np.random.choice(range(0, K[i]), n)\n",
    "        s[ind, range(0, n)] = 1\n",
    "        zz = np.zeros((it, n), dtype = int)\n",
    "        zz[0, :] = ind\n",
    "        zstates.append(zz)\n",
    "        S.append(s)\n",
    "        \n",
    "    for l in range(1, it):\n",
    "        ## update one  chain at a time\n",
    "        for i in range(0, M):\n",
    "            ## step through each time point\n",
    "            for t in range(0, n):\n",
    "                ## select P(S_t | S_t-1)\n",
    "                if t == 0:\n",
    "                    tback = np.ones(K[i])\n",
    "                else:\n",
    "                    prev = zstates[i][l-1, t-1]\n",
    "                    tback = Tmat[i][prev, :]\n",
    "                ## select P(S_t+1 | S_t)\n",
    "                if t == (n-1):\n",
    "                    tfore = np.ones(K[i])\n",
    "                else:\n",
    "                    fore = zstates[i][l-1, t]\n",
    "                    tfore = Tmat[i][fore, :]\n",
    "                ## calculate P(Y_t | S_t^1, S_t^2, ..., S_t^M)\n",
    "                ydense = y_density(t, Y[:, t], M, K, S, C, W, i)\n",
    "                \n",
    "                ## Calculate probability for each state for S_t^i\n",
    "                probvec = np.multiply(np.multiply(tback, tfore) , ydense)\n",
    "                if np.sum(probvec) == 0: # check if all states have 0 probability\n",
    "                    probvec = np.ones(len(probvec)) # reset to equal probs if so\n",
    "                probvec = probvec/sum(probvec)\n",
    "                ## sample state and update vector\n",
    "                zstates[i][l, t] = np.random.choice(range(0, K[i]), 1, p = probvec)\n",
    "                S[i][zstates[i][l, t], t] = 1\n",
    "    \n",
    "    ## Calculate expectations\n",
    "    # <S_t^(m)>\n",
    "    St = []\n",
    "    Smm = []\n",
    "    for i in range(0, M):\n",
    "        uprobs = [np.unique(zstates[i][:, t], return_counts = True)[1]/it for t in range(0,n)] # calculate probs\n",
    "        zmat = np.zeros((n, K[i]))\n",
    "        inds = [np.unique(zstates[i][:, t], return_counts = True)[0] for t in range(0,n)]\n",
    "        for t in range(n):\n",
    "            zmat[t, inds[t]] = uprobs[t]\n",
    "        St.append(zmat)\n",
    "        # calculate trans mat\n",
    "        Smm.append(np.stack([trans_mat(zstates[i][:, t], K[i])/(it-1) for t in range(0, n)], axis = 2))  \n",
    "    \n",
    "    # <S_t^(m)S_t^(n)>\n",
    "    Snm = np.zeros((sum(K), sum(K), n))\n",
    "    ind1 = np.insert(np.cumsum(K[1:]), 0, 0) # indices for Snm matrix\n",
    "    ind2 = K + np.insert(np.cumsum(K[1:]), 0, 0)\n",
    "    for t in range(0, n):\n",
    "        for i in range(0, M):\n",
    "            for j in range(0, M):\n",
    "                if i == j:\n",
    "                    s1 = np.zeros((K[i], K[i]))\n",
    "                    mm = np.unique(zstates[i][:, t], return_counts = True)\n",
    "                    s1[mm[0], mm[0]] = mm[1]/it\n",
    "                    Snm[ind1[i]:ind2[i], ind1[i]:ind2[i], t] = s1\n",
    "                s2 = np.zeros((K[i], K[j]))\n",
    "                for l in range(0, it):\n",
    "                    s2[zstates[i][l, t], zstates[j][l, t]] += 1\n",
    "                Snm[ind1[i]:ind2[i], ind1[j]:ind2[j], t] = s2/it\n",
    "    \n",
    "    return(St, Smm, Snm)"
   ]
  },
  {
   "cell_type": "code",
   "execution_count": 203,
   "metadata": {
    "collapsed": false
   },
   "outputs": [],
   "source": []
  },
  {
   "cell_type": "code",
   "execution_count": null,
   "metadata": {
    "collapsed": true
   },
   "outputs": [],
   "source": []
  },
  {
   "cell_type": "code",
   "execution_count": null,
   "metadata": {
    "collapsed": true
   },
   "outputs": [],
   "source": []
  },
  {
   "cell_type": "markdown",
   "metadata": {},
   "source": [
    "# M-Step\n",
    "\n",
    "## 5. M-Step\n",
    "\n",
    "$$ n = T$$\n",
    "$$W^{new} = \\left(\\sum_{t=1}^T Y_t<S_t'>\\right)\\left(\\sum_{t=1}^T<S_tS_t'>\\right)^{\\dagger}$$\n",
    "\n",
    "** Add other update equations **"
   ]
  },
  {
   "cell_type": "code",
   "execution_count": 686,
   "metadata": {
    "collapsed": false
   },
   "outputs": [],
   "source": [
    "# M is number of hidden state Markov chains\n",
    "# K is vector of number of hidden states for each Markov chain\n",
    "# Y is the D x n matrix of observations\n",
    "# St is a M long list of  K[i] x n matrices of the <S_t^(m)> expectations\n",
    "# Smm is a M long list of K[m] x K[m] x n matrices of <S_t^(m)S_t^(m-1)'> expectations\n",
    "# Snm is a sum(K) x sum(K) x n=T matrix of <S_t^(q)S_t^(m)'> expectations\n",
    "# output is a tuple of updated values from the M step\n",
    "# W is a M long list of D x K[m] matrices\n",
    "# pi is a M long list of K[m] vectors for the initial distributions\n",
    "# Tmat is a M long list of K[m] x K[m] transition matrices\n",
    "# C is a D x D covariance matrix for the Gaussian observations\n",
    "\n",
    "def Mstep(M, K,  Y, St, Smm, Snm):\n",
    "    ### Update W ###\n",
    "    # Concatenate St to be sum(K) x 1 x t\n",
    "    cSt = np.vstack([np.vstack(St[i]).transpose() for i in range(0, len(St))])\n",
    "    s1 = np.dot(Y, cSt.transpose()) # first sum for Wnew\n",
    "    s2 = np.linalg.pinv(np.sum(Snm, axis = 2)) # second sum for Wnew\n",
    "    Wnew = np.dot(s1, s2)\n",
    "    # make Wnew back into list of matrices\n",
    "    W = []\n",
    "    pi = []\n",
    "    ind1 = np.insert(np.cumsum(K[1:]), 0, 0)\n",
    "    ind2 = K + np.insert(np.cumsum(K[1:]), 0, 0)\n",
    "    for i in range(0, M):\n",
    "        W.append(Wnew[:, ind1[i]:ind2[i]])\n",
    "        ### Update pi ###\n",
    "        pi.append(cSt[ind1[i]:ind2[i], 0])\n",
    "\n",
    "    ### Update Transition matrices ###\n",
    "    Tmat = []\n",
    "    St = [np.vstack(St[i]) for i in range(0, M)] ## stack St matrices for easier indexing\n",
    "    for i in range(0, M):\n",
    "        Tnew = np.zeros((K[i], K[i]))\n",
    "        for j in range(0, K[i]):\n",
    "            for l in range(0, K[i]):\n",
    "                Tnew[j,l] =  np.sum(Smm[i][j, l, :])/sum(St[i][l, 0:(n-1)])\n",
    "        Tnew = Tnew/np.sum(Tnew, axis=1)[:,None]\n",
    "        Tmat.append(Tnew)\n",
    "\n",
    "    ### Update C covariance ###\n",
    "    #s1 = np.dot(Y, Y.transpose())/n\n",
    "    #s2 = np.zeros((D, D))\n",
    "    #for t in range(0, n):\n",
    "    #    for i in range(0, M):\n",
    "    #        mult1 = np.dot(W[i], St[i][t, :])\n",
    "    #        s2 += np.outer(mult1, Y[:, t].transpose())\n",
    "    #C = s1 - s2/n\n",
    "    mutemp = np.zeros((D, n))\n",
    "    for i in range(0, M):\n",
    "        mutemp += np.dot(W[i], np.vstack(St[i]).transpose())\n",
    "    C = np.dot(Y - mutemp, (Y - mutemp).transpose())/n\n",
    "    \n",
    "    return(W, pi, Tmat, C)"
   ]
  },
  {
   "cell_type": "code",
   "execution_count": 550,
   "metadata": {
    "collapsed": false
   },
   "outputs": [
    {
     "data": {
      "text/plain": [
       "False"
      ]
     },
     "execution_count": 550,
     "metadata": {},
     "output_type": "execute_result"
    }
   ],
   "source": [
    "test = np.dot(Y, Y.transpose())/n - 100*np.identity(3)/n\n",
    "np.all(np.linalg.eigvals(test) > 0)"
   ]
  },
  {
   "cell_type": "code",
   "execution_count": 584,
   "metadata": {
    "collapsed": false
   },
   "outputs": [
    {
     "data": {
      "text/plain": [
       "1.0"
      ]
     },
     "execution_count": 584,
     "metadata": {},
     "output_type": "execute_result"
    }
   ],
   "source": [
    "Smm[0][:, :, 0]/np.sum(Smm[0][:, :, 0])"
   ]
  },
  {
   "cell_type": "code",
   "execution_count": 586,
   "metadata": {
    "collapsed": false
   },
   "outputs": [
    {
     "data": {
      "text/plain": [
       "array([[ 0. ,  0. ,  0. ,  0.1,  0. ],\n",
       "       [ 0. ,  0.1,  0. ,  0.1,  0. ],\n",
       "       [ 0. ,  0. ,  0. ,  0.1,  0. ],\n",
       "       [ 0. ,  0. ,  0. ,  0.1,  0.2],\n",
       "       [ 0. ,  0.1,  0.1,  0. ,  0. ]])"
      ]
     },
     "execution_count": 586,
     "metadata": {},
     "output_type": "execute_result"
    }
   ],
   "source": [
    "Smm[0][:, :, 0]"
   ]
  },
  {
   "cell_type": "code",
   "execution_count": 180,
   "metadata": {
    "collapsed": false
   },
   "outputs": [
    {
     "data": {
      "text/plain": [
       "array([[ 0.32630789,  0.21268374,  0.44099242,  0.02005337,  0.80203217],\n",
       "       [ 0.09690038,  0.24040777,  0.8267097 ,  0.46484536,  0.0639569 ],\n",
       "       [ 0.05535868,  0.36112397,  0.18277368,  0.62832175,  0.69406504]])"
      ]
     },
     "execution_count": 180,
     "metadata": {},
     "output_type": "execute_result"
    }
   ],
   "source": [
    "test = np.random.rand(3, 5)\n",
    "tt = [2,3]\n",
    "test"
   ]
  },
  {
   "cell_type": "code",
   "execution_count": 196,
   "metadata": {
    "collapsed": false
   },
   "outputs": [
    {
     "data": {
      "text/plain": [
       "array([ 0,  5, 10])"
      ]
     },
     "execution_count": 196,
     "metadata": {},
     "output_type": "execute_result"
    }
   ],
   "source": [
    "#K + \n",
    "np.insert(np.cumsum(K[1:]), 0, 0)"
   ]
  },
  {
   "cell_type": "code",
   "execution_count": 197,
   "metadata": {
    "collapsed": false
   },
   "outputs": [
    {
     "data": {
      "text/plain": [
       "array([ 5, 10, 15])"
      ]
     },
     "execution_count": 197,
     "metadata": {},
     "output_type": "execute_result"
    }
   ],
   "source": [
    "K + np.insert(np.cumsum(K[1:]), 0, 0)"
   ]
  },
  {
   "cell_type": "code",
   "execution_count": 172,
   "metadata": {
    "collapsed": false
   },
   "outputs": [
    {
     "data": {
      "text/plain": [
       "array([3, 2])"
      ]
     },
     "execution_count": 172,
     "metadata": {},
     "output_type": "execute_result"
    }
   ],
   "source": [
    "i = np.array([3, 3, 2])\n",
    "0 + i[1:]"
   ]
  },
  {
   "cell_type": "code",
   "execution_count": 193,
   "metadata": {
    "collapsed": false
   },
   "outputs": [
    {
     "data": {
      "text/plain": [
       "array([ 5, 10])"
      ]
     },
     "execution_count": 193,
     "metadata": {},
     "output_type": "execute_result"
    }
   ],
   "source": [
    "np.cumsum(K[1:])"
   ]
  },
  {
   "cell_type": "markdown",
   "metadata": {},
   "source": [
    "# 6. Inference: Run E-M Steps"
   ]
  },
  {
   "cell_type": "code",
   "execution_count": 728,
   "metadata": {
    "collapsed": true
   },
   "outputs": [],
   "source": [
    "# Calculate log likelihood\n",
    "# n is number of observations\n",
    "# W is a M long list of D x K[m] matrices\n",
    "# pi is a M long list of K[m] vectors for the initial distributions\n",
    "# Tmat is a M long list of K[m] x K[m] transition matrices\n",
    "# C is a D x D covariance matrix for the Gaussian observations \n",
    "# mu is a D x n mean matrix\n",
    "def log_like(n, pi, Tmat, mu, C, Y, zstates):\n",
    "    y_prob = np.zeros(n) # emission probabilities\n",
    "    t_prob = 0 # transition matrix probabilities\n",
    "    pi_prob = 0 # initial probability\n",
    "    for i in range(0, M):\n",
    "            pi_prob += np.log(pi[i][zstates[i][0]])\n",
    "    \n",
    "    for t in range(0, n):\n",
    "        y_prob[t] = np.log(multivariate_normal.pdf(Y[:, t], mean = mu[:, t], cov = C))  \n",
    "        \n",
    "        for i in range(0, M):\n",
    "            t_prob += Tmat[i][zstates[i][t-1], zstates[i][t]]\n",
    "    ll = pi_prob + t_prob + np.sum(y_prob)        \n",
    "    return(ll)"
   ]
  },
  {
   "cell_type": "code",
   "execution_count": 317,
   "metadata": {
    "collapsed": false
   },
   "outputs": [
    {
     "data": {
      "text/plain": [
       "[array([[ 0.19996081,  0.20403249,  0.29195706,  0.18722926,  0.11682038],\n",
       "        [ 0.21115863,  0.09142438,  0.33052367,  0.19078387,  0.17610944],\n",
       "        [ 0.25710477,  0.06080759,  0.28033881,  0.05051779,  0.35123103],\n",
       "        [ 0.24865014,  0.03889967,  0.22862993,  0.26022202,  0.22359825],\n",
       "        [ 0.02973374,  0.27652913,  0.13364541,  0.26993288,  0.29015885]]),\n",
       " array([[ 0.10932892,  0.11313235,  0.01732938,  0.37976932,  0.38044003],\n",
       "        [ 0.22861505,  0.27995485,  0.14441073,  0.28150562,  0.06551375],\n",
       "        [ 0.56154241,  0.05017393,  0.00141776,  0.05454887,  0.33231702],\n",
       "        [ 0.12473604,  0.30755477,  0.16738392,  0.22104462,  0.17928065],\n",
       "        [ 0.03038839,  0.20229489,  0.03954211,  0.0797466 ,  0.64802801]]),\n",
       " array([[ 0.37203465,  0.09561975,  0.18635117,  0.1082826 ,  0.23771183],\n",
       "        [ 0.24709317,  0.26235403,  0.2537482 ,  0.10203137,  0.13477322],\n",
       "        [ 0.21095082,  0.24033149,  0.1882907 ,  0.09714482,  0.26328216],\n",
       "        [ 0.08290261,  0.35812886,  0.08284591,  0.0592975 ,  0.41682513],\n",
       "        [ 0.24492717,  0.49418952,  0.22295865,  0.02917011,  0.00875454]])]"
      ]
     },
     "execution_count": 317,
     "metadata": {},
     "output_type": "execute_result"
    }
   ],
   "source": [
    "Tmat"
   ]
  },
  {
   "cell_type": "code",
   "execution_count": 729,
   "metadata": {
    "collapsed": true
   },
   "outputs": [],
   "source": [
    "# Y is D x n observation matrix\n",
    "# M is number of hidden markov chains\n",
    "# K is an 1 x M vector of the number of hidden states for each chain\n",
    "# tol = tolerance for convergence\n",
    "# inference is inference method to use, choices = Gibbs, \n",
    "def FHMM(Y, M, K, tol, inference):\n",
    "    D, n = Y.shape\n",
    "    ## Initialize params\n",
    "    pi = [] ## initial distribution\n",
    "    Tmat = []  ## transition distribution\n",
    "    W = [] ## contribution to means matrices D x K\n",
    "    for i in range(0, M):\n",
    "        vals = np.random.rand(K[i])\n",
    "        pi.append(vals/np.sum(vals))\n",
    "        vals1 = np.random.rand(K[i], K[i])\n",
    "        Tmat.append(vals1/np.sum(vals1, axis=1)[:,None])\n",
    "        W.append(10*np.random.rand(D, K[i]))\n",
    "    C = np.identity(D)\n",
    "    \n",
    "    convergence = 0\n",
    "    pOld = 10E10\n",
    "    while(convergence == 0):\n",
    "        \n",
    "        ## E - Step\n",
    "        if inference == \"Gibbs\":\n",
    "            St, Smm, Snm = gibbs_sampler(n, M, K, Y, Tmat, W, C, it = 10)\n",
    "            \n",
    "        ## M - Step\n",
    "        W, pi, Tmat, C = Mstep(M, K,  Y, St, Smm, Snm)\n",
    "        \n",
    "        ## Check tolerance\n",
    "        # sample S with new params\n",
    "        ## Generate state variables\n",
    "        S = []\n",
    "        mu = np.zeros((D, n))\n",
    "        zstore = []\n",
    "        for i in range(0, M):\n",
    "            zstates = np.arange(0, K[i], dtype = int)\n",
    "            z = np.zeros(n, dtype = int)\n",
    "            zmat = np.zeros((K[i], n), dtype = int)\n",
    "            z[0] = np.random.choice(zstates, size = 1, p = pi[i])\n",
    "            zmat[z[0], 0] = 1\n",
    "            for j in range(1, n):\n",
    "                z[j] = np.random.choice(zstates, size = 1, p = Tmat[i][z[j-1], :])\n",
    "                zmat[z[j], j] = 1\n",
    "            S.append(zmat)\n",
    "            zstore.append(z)\n",
    "        for i in range(0, M):\n",
    "            for j in range(1, n):\n",
    "                mu[:, j] += np.dot(W[i], S[i][:, j])\n",
    "        \n",
    "        pNew = log_like(n, pi, Tmat, mu, C, Y, zstore)  \n",
    "        criteria = abs(pOld - pNew)\n",
    "        if criteria < tol:\n",
    "            convergence = 1\n",
    "        else:\n",
    "            convergence = 0\n",
    "            pOld = pNew\n",
    "    \n",
    "    \n",
    "    return(pi, Tmat, mu, C, W, zstates)\n",
    "                    "
   ]
  },
  {
   "cell_type": "code",
   "execution_count": 730,
   "metadata": {
    "collapsed": false
   },
   "outputs": [
    {
     "data": {
      "text/plain": [
       "([array([ 0.1,  0.1,  0.1,  0.5,  0.2]),\n",
       "  array([ 0.1,  0.1,  0.3,  0.1,  0.4]),\n",
       "  array([ 0.2,  0. ,  0.3,  0.3,  0.2])],\n",
       " [array([[ 0.        ,  0.1875    ,  0.5       ,  0.1875    ,  0.125     ],\n",
       "         [ 0.42857143,  0.        ,  0.57142857,  0.        ,  0.        ],\n",
       "         [ 0.30555556,  0.        ,  0.36111111,  0.33333333,  0.        ],\n",
       "         [ 0.08695652,  0.13043478,  0.39130435,  0.30434783,  0.08695652],\n",
       "         [ 0.        ,  0.        ,  0.25      ,  0.625     ,  0.125     ]]),\n",
       "  array([[ 0.        ,  0.        ,  0.375     ,  0.25      ,  0.375     ],\n",
       "         [ 0.        ,  0.13333333,  0.6       ,  0.26666667,  0.        ],\n",
       "         [ 0.        ,  0.10526316,  0.26315789,  0.15789474,  0.47368421],\n",
       "         [ 0.18181818,  0.40909091,  0.        ,  0.22727273,  0.18181818],\n",
       "         [ 0.07692308,  0.19230769,  0.07692308,  0.26923077,  0.38461538]]),\n",
       "  array([[ 0.73076923,  0.17307692,  0.05769231,  0.03846154,  0.        ],\n",
       "         [ 0.6       ,  0.2       ,  0.        ,  0.        ,  0.2       ],\n",
       "         [ 0.625     ,  0.        ,  0.125     ,  0.        ,  0.25      ],\n",
       "         [ 0.375     ,  0.125     ,  0.25      ,  0.        ,  0.25      ],\n",
       "         [ 0.42857143,  0.14285714,  0.        ,  0.42857143,  0.        ]])],\n",
       " array([[  0.        ,  12.53100425,  12.17526551,  12.1281476 ,\n",
       "          13.47848668,  13.31279865,  12.68406683,  12.1281476 ,\n",
       "          10.99061446,  12.1281476 ],\n",
       "        [  0.        ,  17.88024247,  18.94091096,  18.75015601,\n",
       "          18.31522993,  18.15319286,  19.34221788,  18.75015601,\n",
       "          19.5378741 ,  18.75015601],\n",
       "        [  0.        ,  13.36718972,  12.65128316,  14.04844814,\n",
       "          14.03793503,  13.93464924,  15.06209786,  14.04844814,\n",
       "          12.76508206,  14.04844814]]),\n",
       " array([[ 34.49234052,   1.18414245,  24.88514005],\n",
       "        [  1.18414245,   9.27162272,   3.41389697],\n",
       "        [ 24.88514005,   3.41389697,  30.89199881]]),\n",
       " [array([[ 4.19240328,  4.93837323,  5.32993643,  5.88585565,  1.72406466],\n",
       "         [ 6.48484459,  5.85420091,  5.6971265 ,  6.28918837,  6.03001128],\n",
       "         [ 3.14780923,  4.77407972,  4.43117531,  5.44482503,  2.60122234]]),\n",
       "  array([[ 4.43793098,  5.37117604,  4.18652499,  3.0940564 ,  4.98094485],\n",
       "         [ 4.31676278,  6.63529664,  7.23225979,  5.9657806 ,  6.20527183],\n",
       "         [ 4.03172367,  4.95168628,  5.06548518,  2.30889415,  4.04132235]]),\n",
       "  array([[ 2.61168618,  4.11014361,  4.08287426,  7.27622291,  3.98970629],\n",
       "         [ 5.82076973,  4.72904656,  6.04714886,  7.8135427 ,  5.94486379],\n",
       "         [ 4.55178765,  4.80082699,  3.64549526,  5.3326298 ,  2.06837192]])],\n",
       " array([0, 1, 2, 3, 4]))"
      ]
     },
     "execution_count": 730,
     "metadata": {},
     "output_type": "execute_result"
    }
   ],
   "source": [
    "FHMM(Y, M, K, 10E5, \"Gibbs\")"
   ]
  },
  {
   "cell_type": "code",
   "execution_count": null,
   "metadata": {
    "collapsed": true
   },
   "outputs": [],
   "source": []
  },
  {
   "cell_type": "code",
   "execution_count": null,
   "metadata": {
    "collapsed": true
   },
   "outputs": [],
   "source": []
  },
  {
   "cell_type": "code",
   "execution_count": null,
   "metadata": {
    "collapsed": true
   },
   "outputs": [],
   "source": []
  },
  {
   "cell_type": "code",
   "execution_count": 713,
   "metadata": {
    "collapsed": false
   },
   "outputs": [],
   "source": [
    "D, n = Y.shape\n",
    "M = 3\n",
    "K = np.array([5,5,5])\n",
    "## Initialize params\n",
    "pi = [] ## initial distribution\n",
    "Tmat = []  ## transition distribution\n",
    "W = [] ## contribution to means matrices D x K\n",
    "for i in range(0, M):\n",
    "    vals = np.random.rand(K[i])\n",
    "    pi.append(vals/np.sum(vals))\n",
    "    vals1 = np.random.rand(K[i], K[i])\n",
    "    Tmat.append(vals1/np.sum(vals1, axis=1)[:,None])\n",
    "    W.append(np.random.rand(D, K[i]))\n",
    "C = np.identity(D)\n",
    "\n",
    "convergence = 0\n",
    "pOld = 10E10\n",
    "it = 15"
   ]
  },
  {
   "cell_type": "code",
   "execution_count": 714,
   "metadata": {
    "collapsed": true
   },
   "outputs": [],
   "source": [
    "St, Smm, Snm = gibbs_sampler(n, M, K, Y, Tmat, W, C, it = 10)"
   ]
  },
  {
   "cell_type": "code",
   "execution_count": 715,
   "metadata": {
    "collapsed": false
   },
   "outputs": [],
   "source": [
    "W, pi, Tmat, C = Mstep(M, K,  Y, St, Smm, Snm)"
   ]
  },
  {
   "cell_type": "code",
   "execution_count": 716,
   "metadata": {
    "collapsed": false
   },
   "outputs": [
    {
     "data": {
      "text/plain": [
       "True"
      ]
     },
     "execution_count": 716,
     "metadata": {},
     "output_type": "execute_result"
    }
   ],
   "source": [
    "np.all(np.linalg.eigvals(C) > 0)"
   ]
  },
  {
   "cell_type": "code",
   "execution_count": 720,
   "metadata": {
    "collapsed": false
   },
   "outputs": [
    {
     "data": {
      "text/plain": [
       "array([[  0.        ,  13.45367902,   8.58434874,  12.92193343,\n",
       "         15.42214027,  13.217238  ,  14.51529133,  17.08280067,\n",
       "         10.38260031,  10.48600545],\n",
       "       [  0.        ,  20.36198139,  16.46513437,  18.49854788,\n",
       "         17.89790959,  18.38583163,  17.47358309,  19.67311603,\n",
       "         17.71196916,  15.90539652],\n",
       "       [  0.        ,  14.57299483,   9.46338638,  15.05093103,\n",
       "         16.3922539 ,  15.3314349 ,  13.04019609,  12.91452401,\n",
       "         13.63070145,   9.15921614]])"
      ]
     },
     "execution_count": 720,
     "metadata": {},
     "output_type": "execute_result"
    }
   ],
   "source": [
    "mu"
   ]
  },
  {
   "cell_type": "code",
   "execution_count": 717,
   "metadata": {
    "collapsed": false
   },
   "outputs": [
    {
     "ename": "IndexError",
     "evalue": "too many indices for array",
     "output_type": "error",
     "traceback": [
      "\u001b[0;31m---------------------------------------------------------------------------\u001b[0m",
      "\u001b[0;31mIndexError\u001b[0m                                Traceback (most recent call last)",
      "\u001b[0;32m<ipython-input-717-ac3b6644bd63>\u001b[0m in \u001b[0;36m<module>\u001b[0;34m()\u001b[0m\n\u001b[1;32m     17\u001b[0m         \u001b[0mmu\u001b[0m\u001b[0;34m[\u001b[0m\u001b[0;34m:\u001b[0m\u001b[0;34m,\u001b[0m \u001b[0mj\u001b[0m\u001b[0;34m]\u001b[0m \u001b[0;34m+=\u001b[0m \u001b[0mnp\u001b[0m\u001b[0;34m.\u001b[0m\u001b[0mdot\u001b[0m\u001b[0;34m(\u001b[0m\u001b[0mW\u001b[0m\u001b[0;34m[\u001b[0m\u001b[0mi\u001b[0m\u001b[0;34m]\u001b[0m\u001b[0;34m,\u001b[0m \u001b[0mS\u001b[0m\u001b[0;34m[\u001b[0m\u001b[0mi\u001b[0m\u001b[0;34m]\u001b[0m\u001b[0;34m[\u001b[0m\u001b[0;34m:\u001b[0m\u001b[0;34m,\u001b[0m \u001b[0mj\u001b[0m\u001b[0;34m]\u001b[0m\u001b[0;34m)\u001b[0m\u001b[0;34m\u001b[0m\u001b[0m\n\u001b[1;32m     18\u001b[0m \u001b[0;34m\u001b[0m\u001b[0m\n\u001b[0;32m---> 19\u001b[0;31m \u001b[0mpNew\u001b[0m \u001b[0;34m=\u001b[0m \u001b[0mlog_like\u001b[0m\u001b[0;34m(\u001b[0m\u001b[0mn\u001b[0m\u001b[0;34m,\u001b[0m \u001b[0mpi\u001b[0m\u001b[0;34m,\u001b[0m \u001b[0mTmat\u001b[0m\u001b[0;34m,\u001b[0m \u001b[0mmu\u001b[0m\u001b[0;34m,\u001b[0m \u001b[0mC\u001b[0m\u001b[0;34m,\u001b[0m \u001b[0mY\u001b[0m\u001b[0;34m,\u001b[0m \u001b[0mzstore\u001b[0m\u001b[0;34m)\u001b[0m\u001b[0;34m\u001b[0m\u001b[0m\n\u001b[0m\u001b[1;32m     20\u001b[0m \u001b[0mcriteria\u001b[0m \u001b[0;34m=\u001b[0m \u001b[0mabs\u001b[0m\u001b[0;34m(\u001b[0m\u001b[0mpOld\u001b[0m \u001b[0;34m-\u001b[0m \u001b[0mpNew\u001b[0m\u001b[0;34m)\u001b[0m\u001b[0;34m\u001b[0m\u001b[0m\n",
      "\u001b[0;32m<ipython-input-318-3f6b912bf54e>\u001b[0m in \u001b[0;36mlog_like\u001b[0;34m(n, pi, Tmat, mu, C, Y, zstates)\u001b[0m\n\u001b[1;32m     17\u001b[0m \u001b[0;34m\u001b[0m\u001b[0m\n\u001b[1;32m     18\u001b[0m         \u001b[0;32mfor\u001b[0m \u001b[0mi\u001b[0m \u001b[0;32min\u001b[0m \u001b[0mrange\u001b[0m\u001b[0;34m(\u001b[0m\u001b[0;36m0\u001b[0m\u001b[0;34m,\u001b[0m \u001b[0mM\u001b[0m\u001b[0;34m)\u001b[0m\u001b[0;34m:\u001b[0m\u001b[0;34m\u001b[0m\u001b[0m\n\u001b[0;32m---> 19\u001b[0;31m             \u001b[0mt_prob\u001b[0m \u001b[0;34m+=\u001b[0m \u001b[0mTmat\u001b[0m\u001b[0;34m[\u001b[0m\u001b[0mi\u001b[0m\u001b[0;34m]\u001b[0m\u001b[0;34m[\u001b[0m\u001b[0mzstates\u001b[0m\u001b[0;34m[\u001b[0m\u001b[0mi\u001b[0m\u001b[0;34m]\u001b[0m\u001b[0;34m[\u001b[0m\u001b[0mt\u001b[0m\u001b[0;34m-\u001b[0m\u001b[0;36m1\u001b[0m\u001b[0;34m,\u001b[0m \u001b[0mt\u001b[0m\u001b[0;34m]\u001b[0m\u001b[0;34m]\u001b[0m\u001b[0;34m\u001b[0m\u001b[0m\n\u001b[0m\u001b[1;32m     20\u001b[0m     \u001b[0mll\u001b[0m \u001b[0;34m=\u001b[0m \u001b[0mpi_prob\u001b[0m \u001b[0;34m+\u001b[0m \u001b[0mt_prob\u001b[0m \u001b[0;34m+\u001b[0m \u001b[0mnp\u001b[0m\u001b[0;34m.\u001b[0m\u001b[0msum\u001b[0m\u001b[0;34m(\u001b[0m\u001b[0my_prob\u001b[0m\u001b[0;34m)\u001b[0m\u001b[0;34m\u001b[0m\u001b[0m\n\u001b[1;32m     21\u001b[0m     \u001b[0;32mreturn\u001b[0m\u001b[0;34m(\u001b[0m\u001b[0mll\u001b[0m\u001b[0;34m)\u001b[0m\u001b[0;34m\u001b[0m\u001b[0m\n",
      "\u001b[0;31mIndexError\u001b[0m: too many indices for array"
     ]
    }
   ],
   "source": [
    "S = []\n",
    "mu = np.zeros((D, n))\n",
    "zstore = []\n",
    "for i in range(0, M):\n",
    "    zstates = np.arange(0, K[i], dtype = int)\n",
    "    z = np.zeros(n, dtype = int)\n",
    "    zmat = np.zeros((K[i], n), dtype = int)\n",
    "    z[0] = np.random.choice(zstates, size = 1, p = pi[i])\n",
    "    zmat[z[0], 0] = 1\n",
    "    for j in range(1, n):\n",
    "        z[j] = np.random.choice(zstates, size = 1, p = Tmat[i][z[j-1], :])\n",
    "        zmat[z[j], j] = 1\n",
    "    S.append(zmat)\n",
    "    zstore.append(z)\n",
    "for i in range(0, M):\n",
    "    for j in range(1, n):\n",
    "        mu[:, j] += np.dot(W[i], S[i][:, j])\n",
    "\n",
    "pNew = log_like(n, pi, Tmat, mu, C, Y, zstore)  \n",
    "criteria = abs(pOld - pNew)"
   ]
  },
  {
   "cell_type": "code",
   "execution_count": null,
   "metadata": {
    "collapsed": true
   },
   "outputs": [],
   "source": [
    "\n",
    "y_prob = np.zeros(n) # emission probabilities\n",
    "t_prob = 0 # transition matrix probabilities\n",
    "pi_prob = 0 # initial probability\n",
    "for i in range(0, M):\n",
    "        pi_prob += np.log(pi[i][zstates[i][0]])\n",
    "\n",
    "for t in range(0, n):\n",
    "    y_prob[t] = np.log(multivariate_normal.pdf(Y[:, t], mean = mu[:, t], cov = C))  \n",
    "\n",
    "    for i in range(0, M):\n",
    "        t_prob += Tmat[i][zstates[i][t-1, t]]\n",
    "ll = pi_prob + t_prob + np.sum(y_prob)        \n"
   ]
  },
  {
   "cell_type": "code",
   "execution_count": 727,
   "metadata": {
    "collapsed": false
   },
   "outputs": [
    {
     "data": {
      "text/plain": [
       "0.46874999999999994"
      ]
     },
     "execution_count": 727,
     "metadata": {},
     "output_type": "execute_result"
    }
   ],
   "source": [
    "Tmat[0][zstore[0][3], zstore[0][4]]"
   ]
  },
  {
   "cell_type": "code",
   "execution_count": 639,
   "metadata": {
    "collapsed": false
   },
   "outputs": [],
   "source": [
    "# Randomly initialize state vectors\n",
    "S = []\n",
    "zstates = []\n",
    "for i in range(0, M):\n",
    "    s = np.zeros((K[i], n), dtype = int)\n",
    "    ind = np.random.choice(range(0, K[i]), n)\n",
    "    s[ind, range(0, n)] = 1\n",
    "    zz = np.zeros((it, n), dtype = int)\n",
    "    zz[0, :] = ind\n",
    "    zstates.append(zz)\n",
    "    S.append(s)\n",
    "\n",
    "for l in range(1, it):\n",
    "    ## update one  chain at a time\n",
    "    for i in range(0, M):\n",
    "        ## step through each time point\n",
    "        for t in range(0, n):\n",
    "            ## select P(S_t | S_t-1)\n",
    "            if t == 0:\n",
    "                tback = np.ones(K[i])\n",
    "            else:\n",
    "                prev = zstates[i][l-1, t-1]\n",
    "                tback = Tmat[i][prev, :]\n",
    "            ## select P(S_t+1 | S_t)\n",
    "            if t == (n-1):\n",
    "                tfore = np.ones(K[i])\n",
    "            else:\n",
    "                fore = zstates[i][l-1, t]\n",
    "                tfore = Tmat[i][fore, :]\n",
    "            ## calculate P(Y_t | S_t^1, S_t^2, ..., S_t^M)\n",
    "            ydense = y_density(t, Y[:, t], M, K, S, C, W, i)\n",
    "\n",
    "            ## Calculate probability for each state for S_t^i\n",
    "            probvec = np.multiply(np.multiply(tback, tfore) , ydense)\n",
    "            probvec = probvec/sum(probvec)\n",
    "            ## sample state and update vector\n",
    "            zstates[i][l, t] = np.random.choice(range(0, K[i]), 1, p = probvec)\n",
    "            S[i][zstates[i][l, t], t] = 1\n",
    "\n"
   ]
  },
  {
   "cell_type": "code",
   "execution_count": 640,
   "metadata": {
    "collapsed": false
   },
   "outputs": [
    {
     "data": {
      "text/plain": [
       "[array([[2, 3, 0, 2, 0, 0, 1, 2, 1, 3],\n",
       "        [3, 1, 1, 2, 3, 3, 2, 3, 2, 3],\n",
       "        [4, 3, 2, 3, 4, 4, 1, 4, 3, 2],\n",
       "        [4, 4, 1, 2, 4, 2, 2, 0, 3, 3],\n",
       "        [2, 0, 2, 3, 3, 2, 3, 2, 1, 3],\n",
       "        [3, 2, 4, 3, 1, 4, 4, 4, 0, 3],\n",
       "        [1, 1, 1, 4, 3, 0, 0, 2, 2, 3],\n",
       "        [2, 0, 0, 2, 4, 1, 3, 3, 3, 4],\n",
       "        [4, 3, 1, 1, 2, 2, 3, 1, 1, 1],\n",
       "        [3, 4, 4, 3, 1, 3, 1, 1, 3, 2],\n",
       "        [4, 2, 2, 2, 2, 4, 3, 2, 1, 1],\n",
       "        [2, 2, 2, 3, 4, 2, 0, 1, 2, 0],\n",
       "        [3, 3, 3, 3, 4, 3, 2, 3, 3, 1],\n",
       "        [4, 4, 4, 4, 2, 2, 4, 4, 1, 1],\n",
       "        [0, 2, 2, 0, 3, 3, 2, 2, 0, 1]]),\n",
       " array([[2, 0, 3, 3, 1, 1, 3, 0, 1, 2],\n",
       "        [2, 2, 4, 3, 3, 4, 4, 4, 1, 1],\n",
       "        [4, 2, 0, 1, 2, 4, 1, 4, 0, 1],\n",
       "        [1, 4, 0, 2, 2, 1, 1, 2, 2, 4],\n",
       "        [1, 1, 3, 0, 0, 0, 3, 0, 2, 4],\n",
       "        [4, 3, 3, 4, 2, 4, 2, 4, 4, 0],\n",
       "        [4, 4, 3, 4, 4, 4, 4, 4, 4, 4],\n",
       "        [1, 1, 2, 1, 4, 1, 2, 4, 1, 2],\n",
       "        [2, 1, 2, 2, 1, 2, 2, 4, 4, 3],\n",
       "        [0, 0, 1, 2, 4, 0, 0, 2, 4, 4],\n",
       "        [1, 2, 1, 4, 4, 4, 1, 2, 4, 4],\n",
       "        [2, 4, 0, 1, 1, 1, 2, 4, 4, 2],\n",
       "        [4, 2, 2, 2, 1, 4, 0, 0, 4, 2],\n",
       "        [1, 4, 0, 0, 0, 3, 1, 2, 1, 1],\n",
       "        [4, 4, 1, 2, 4, 4, 0, 0, 0, 3]]),\n",
       " array([[3, 4, 1, 0, 4, 2, 1, 1, 4, 4],\n",
       "        [4, 4, 0, 2, 3, 1, 2, 0, 4, 0],\n",
       "        [1, 4, 2, 2, 3, 2, 3, 3, 3, 1],\n",
       "        [0, 0, 3, 3, 0, 1, 2, 1, 4, 4],\n",
       "        [3, 0, 0, 1, 4, 2, 3, 1, 1, 0],\n",
       "        [1, 4, 3, 2, 4, 0, 0, 2, 2, 2],\n",
       "        [2, 1, 0, 2, 0, 1, 2, 2, 2, 2],\n",
       "        [3, 3, 3, 1, 2, 2, 3, 0, 0, 3],\n",
       "        [3, 2, 2, 3, 1, 3, 3, 2, 2, 2],\n",
       "        [3, 1, 2, 3, 1, 4, 2, 3, 3, 3],\n",
       "        [1, 4, 0, 3, 3, 0, 0, 3, 0, 1],\n",
       "        [2, 0, 2, 1, 4, 0, 3, 4, 4, 3],\n",
       "        [3, 3, 0, 3, 1, 1, 4, 0, 0, 1],\n",
       "        [2, 4, 4, 2, 1, 0, 3, 3, 2, 4],\n",
       "        [1, 2, 0, 1, 3, 2, 4, 2, 3, 4]])]"
      ]
     },
     "execution_count": 640,
     "metadata": {},
     "output_type": "execute_result"
    }
   ],
   "source": [
    "zstates"
   ]
  },
  {
   "cell_type": "code",
   "execution_count": 663,
   "metadata": {
    "collapsed": false
   },
   "outputs": [],
   "source": [
    "## Calculate expectations\n",
    "# <S_t^(m)>\n",
    "St = []\n",
    "Smm = []\n",
    "for i in range(0, M):\n",
    "    uprobs = [np.unique(zstates[i][:, t], return_counts = True)[1]/it for t in range(0,n)] # calculate probs\n",
    "    zmat = np.zeros((n, K[i]))\n",
    "    inds = [np.unique(zstates[i][:, t], return_counts = True)[0] for t in range(0,n)]\n",
    "    for t in range(n):\n",
    "        zmat[t, inds[t]] = uprobs[t]\n",
    "    St.append(zmat)\n",
    "    # calculate trans mat\n",
    "    Smm.append(np.stack([trans_mat(zstates[i][:, t], K[i])/(it-1) for t in range(0, n)], axis = 2)) \n"
   ]
  },
  {
   "cell_type": "code",
   "execution_count": 662,
   "metadata": {
    "collapsed": false
   },
   "outputs": [
    {
     "data": {
      "text/plain": [
       "0.99999999999999989"
      ]
     },
     "execution_count": 662,
     "metadata": {},
     "output_type": "execute_result"
    }
   ],
   "source": [
    "np.sum(Smm[0][:, :, 0])"
   ]
  },
  {
   "cell_type": "code",
   "execution_count": 654,
   "metadata": {
    "collapsed": false
   },
   "outputs": [
    {
     "data": {
      "text/plain": [
       "array([2, 3, 4, 4, 2, 3, 1, 2, 4, 3, 4, 2, 3, 4, 0])"
      ]
     },
     "execution_count": 654,
     "metadata": {},
     "output_type": "execute_result"
    }
   ],
   "source": [
    "zstates[0][:, 0]"
   ]
  },
  {
   "cell_type": "code",
   "execution_count": 634,
   "metadata": {
    "collapsed": false
   },
   "outputs": [
    {
     "data": {
      "text/plain": [
       "array([[ 0.3,  0.2,  0.1,  0.1,  0.3],\n",
       "       [ 0. ,  0.2,  0. ,  0. ,  0.8],\n",
       "       [ 0. ,  0. ,  0.3,  0. ,  0.7],\n",
       "       [ 0. ,  0. ,  0.2,  0.1,  0.7],\n",
       "       [ 0. ,  0.3,  0.1,  0. ,  0.6],\n",
       "       [ 0. ,  0.1,  0.2,  0. ,  0.7],\n",
       "       [ 0.1,  0.1,  0.4,  0. ,  0.4],\n",
       "       [ 0.1,  0. ,  0.2,  0. ,  0.7],\n",
       "       [ 0. ,  0.1,  0.1,  0.1,  0.7],\n",
       "       [ 0.1,  0.1,  0.1,  0. ,  0.7]])"
      ]
     },
     "execution_count": 634,
     "metadata": {},
     "output_type": "execute_result"
    }
   ],
   "source": [
    "zmat = np.zeros((n, K[i]))\n",
    "inds = [np.unique(zstates[i][:, t], return_counts = True)[0] for t in range(0,n)]\n",
    "for t in range(n):\n",
    "    zmat[t, inds[t]] = uprobs[t]\n",
    "zmat"
   ]
  },
  {
   "cell_type": "code",
   "execution_count": 632,
   "metadata": {
    "collapsed": false
   },
   "outputs": [
    {
     "data": {
      "text/plain": [
       "[array([0, 1, 2, 3, 4]),\n",
       " array([1, 4]),\n",
       " array([2, 4]),\n",
       " array([2, 3, 4]),\n",
       " array([1, 2, 4]),\n",
       " array([1, 2, 4]),\n",
       " array([0, 1, 2, 4]),\n",
       " array([0, 2, 4]),\n",
       " array([1, 2, 3, 4]),\n",
       " array([0, 1, 2, 4])]"
      ]
     },
     "execution_count": 632,
     "metadata": {},
     "output_type": "execute_result"
    }
   ],
   "source": [
    "inds = [np.unique(zstates[i][:, t], return_counts = True)[0] for t in range(0,n)]\n",
    "inds"
   ]
  },
  {
   "cell_type": "code",
   "execution_count": 631,
   "metadata": {
    "collapsed": false
   },
   "outputs": [
    {
     "data": {
      "text/plain": [
       "[array([ 0.,  0.,  0.,  0.,  0.]),\n",
       " array([ 0.,  0.,  0.,  0.,  0.]),\n",
       " array([ 0.,  0.,  0.,  0.,  0.]),\n",
       " array([ 0.,  0.,  0.,  0.,  0.]),\n",
       " array([ 0.,  0.,  0.,  0.,  0.]),\n",
       " array([ 0.,  0.,  0.,  0.,  0.]),\n",
       " array([ 0.,  0.,  0.,  0.,  0.]),\n",
       " array([ 0.,  0.,  0.,  0.,  0.]),\n",
       " array([ 0.,  0.,  0.,  0.,  0.]),\n",
       " array([ 0.,  0.,  0.,  0.,  0.])]"
      ]
     },
     "execution_count": 631,
     "metadata": {},
     "output_type": "execute_result"
    }
   ],
   "source": [
    "zmat = [np.zeros(K[i]) for t in range(n)]\n",
    "zmat"
   ]
  },
  {
   "cell_type": "code",
   "execution_count": 664,
   "metadata": {
    "collapsed": false
   },
   "outputs": [
    {
     "data": {
      "text/plain": [
       "[array([[2, 3, 0, 2, 0, 0, 1, 2, 1, 3],\n",
       "        [3, 1, 1, 2, 3, 3, 2, 3, 2, 3],\n",
       "        [4, 3, 2, 3, 4, 4, 1, 4, 3, 2],\n",
       "        [4, 4, 1, 2, 4, 2, 2, 0, 3, 3],\n",
       "        [2, 0, 2, 3, 3, 2, 3, 2, 1, 3],\n",
       "        [3, 2, 4, 3, 1, 4, 4, 4, 0, 3],\n",
       "        [1, 1, 1, 4, 3, 0, 0, 2, 2, 3],\n",
       "        [2, 0, 0, 2, 4, 1, 3, 3, 3, 4],\n",
       "        [4, 3, 1, 1, 2, 2, 3, 1, 1, 1],\n",
       "        [3, 4, 4, 3, 1, 3, 1, 1, 3, 2],\n",
       "        [4, 2, 2, 2, 2, 4, 3, 2, 1, 1],\n",
       "        [2, 2, 2, 3, 4, 2, 0, 1, 2, 0],\n",
       "        [3, 3, 3, 3, 4, 3, 2, 3, 3, 1],\n",
       "        [4, 4, 4, 4, 2, 2, 4, 4, 1, 1],\n",
       "        [0, 2, 2, 0, 3, 3, 2, 2, 0, 1]]),\n",
       " array([[2, 0, 3, 3, 1, 1, 3, 0, 1, 2],\n",
       "        [2, 2, 4, 3, 3, 4, 4, 4, 1, 1],\n",
       "        [4, 2, 0, 1, 2, 4, 1, 4, 0, 1],\n",
       "        [1, 4, 0, 2, 2, 1, 1, 2, 2, 4],\n",
       "        [1, 1, 3, 0, 0, 0, 3, 0, 2, 4],\n",
       "        [4, 3, 3, 4, 2, 4, 2, 4, 4, 0],\n",
       "        [4, 4, 3, 4, 4, 4, 4, 4, 4, 4],\n",
       "        [1, 1, 2, 1, 4, 1, 2, 4, 1, 2],\n",
       "        [2, 1, 2, 2, 1, 2, 2, 4, 4, 3],\n",
       "        [0, 0, 1, 2, 4, 0, 0, 2, 4, 4],\n",
       "        [1, 2, 1, 4, 4, 4, 1, 2, 4, 4],\n",
       "        [2, 4, 0, 1, 1, 1, 2, 4, 4, 2],\n",
       "        [4, 2, 2, 2, 1, 4, 0, 0, 4, 2],\n",
       "        [1, 4, 0, 0, 0, 3, 1, 2, 1, 1],\n",
       "        [4, 4, 1, 2, 4, 4, 0, 0, 0, 3]]),\n",
       " array([[3, 4, 1, 0, 4, 2, 1, 1, 4, 4],\n",
       "        [4, 4, 0, 2, 3, 1, 2, 0, 4, 0],\n",
       "        [1, 4, 2, 2, 3, 2, 3, 3, 3, 1],\n",
       "        [0, 0, 3, 3, 0, 1, 2, 1, 4, 4],\n",
       "        [3, 0, 0, 1, 4, 2, 3, 1, 1, 0],\n",
       "        [1, 4, 3, 2, 4, 0, 0, 2, 2, 2],\n",
       "        [2, 1, 0, 2, 0, 1, 2, 2, 2, 2],\n",
       "        [3, 3, 3, 1, 2, 2, 3, 0, 0, 3],\n",
       "        [3, 2, 2, 3, 1, 3, 3, 2, 2, 2],\n",
       "        [3, 1, 2, 3, 1, 4, 2, 3, 3, 3],\n",
       "        [1, 4, 0, 3, 3, 0, 0, 3, 0, 1],\n",
       "        [2, 0, 2, 1, 4, 0, 3, 4, 4, 3],\n",
       "        [3, 3, 0, 3, 1, 1, 4, 0, 0, 1],\n",
       "        [2, 4, 4, 2, 1, 0, 3, 3, 2, 4],\n",
       "        [1, 2, 0, 1, 3, 2, 4, 2, 3, 4]])]"
      ]
     },
     "execution_count": 664,
     "metadata": {},
     "output_type": "execute_result"
    }
   ],
   "source": [
    "zstates"
   ]
  },
  {
   "cell_type": "code",
   "execution_count": 679,
   "metadata": {
    "collapsed": true
   },
   "outputs": [],
   "source": [
    "# <S_t^(m)S_t^(n)>\n",
    "Snm = np.zeros((sum(K), sum(K), n))\n",
    "ind1 = np.insert(np.cumsum(K[1:]), 0, 0) # indices for Snm matrix\n",
    "ind2 = K + np.insert(np.cumsum(K[1:]), 0, 0)\n",
    "for t in range(0, n):\n",
    "    for i in range(0, M):\n",
    "        for j in range(0, M):\n",
    "            if i == j:\n",
    "                s1 = np.zeros((K[i], K[i]))\n",
    "                mm = np.unique(zstates[i][:, t], return_counts = True)\n",
    "                s1[mm[0], mm[0]] = mm[1]/it\n",
    "                Snm[ind1[i]:ind2[i], ind1[i]:ind2[i], t] = s1\n",
    "            s2 = np.zeros((K[i], K[j]))\n",
    "            for l in range(0, it):\n",
    "                s2[zstates[i][l, t], zstates[j][l, t]] += 1\n",
    "            Snm[ind1[i]:ind2[i], ind1[j]:ind2[j], t] = s2/it\n",
    "    "
   ]
  },
  {
   "cell_type": "code",
   "execution_count": 684,
   "metadata": {
    "collapsed": false
   },
   "outputs": [
    {
     "data": {
      "text/plain": [
       "1.0"
      ]
     },
     "execution_count": 684,
     "metadata": {},
     "output_type": "execute_result"
    }
   ],
   "source": [
    "np.sum(Snm[:,:,0][0:5, 5:10])"
   ]
  },
  {
   "cell_type": "code",
   "execution_count": null,
   "metadata": {
    "collapsed": true
   },
   "outputs": [],
   "source": []
  },
  {
   "cell_type": "code",
   "execution_count": 539,
   "metadata": {
    "collapsed": false
   },
   "outputs": [
    {
     "ename": "IndexError",
     "evalue": "index 4 is out of bounds for axis 1 with size 4",
     "output_type": "error",
     "traceback": [
      "\u001b[0;31m---------------------------------------------------------------------------\u001b[0m",
      "\u001b[0;31mIndexError\u001b[0m                                Traceback (most recent call last)",
      "\u001b[0;32m<ipython-input-539-3643fba7ec22>\u001b[0m in \u001b[0;36m<module>\u001b[0;34m()\u001b[0m\n\u001b[0;32m----> 1\u001b[0;31m \u001b[0mSt\u001b[0m\u001b[0;34m,\u001b[0m \u001b[0mSmm\u001b[0m\u001b[0;34m,\u001b[0m \u001b[0mSnm\u001b[0m \u001b[0;34m=\u001b[0m \u001b[0mgibbs_sampler\u001b[0m\u001b[0;34m(\u001b[0m\u001b[0mn\u001b[0m\u001b[0;34m,\u001b[0m \u001b[0mM\u001b[0m\u001b[0;34m,\u001b[0m \u001b[0mK\u001b[0m\u001b[0;34m,\u001b[0m \u001b[0mY\u001b[0m\u001b[0;34m,\u001b[0m \u001b[0mTmat\u001b[0m\u001b[0;34m,\u001b[0m \u001b[0mW\u001b[0m\u001b[0;34m,\u001b[0m \u001b[0mC\u001b[0m\u001b[0;34m,\u001b[0m \u001b[0mit\u001b[0m \u001b[0;34m=\u001b[0m \u001b[0;36m10\u001b[0m\u001b[0;34m)\u001b[0m\u001b[0;34m\u001b[0m\u001b[0m\n\u001b[0m",
      "\u001b[0;32m<ipython-input-354-a81e81d1703a>\u001b[0m in \u001b[0;36mgibbs_sampler\u001b[0;34m(n, M, K, Y, Tmat, W, C, it)\u001b[0m\n\u001b[1;32m     95\u001b[0m             \u001b[0;32mif\u001b[0m \u001b[0mlen\u001b[0m\u001b[0;34m(\u001b[0m\u001b[0mind1\u001b[0m\u001b[0;34m[\u001b[0m\u001b[0mt\u001b[0m\u001b[0;34m]\u001b[0m\u001b[0;34m)\u001b[0m \u001b[0;34m>\u001b[0m \u001b[0;36m0\u001b[0m\u001b[0;34m:\u001b[0m\u001b[0;34m\u001b[0m\u001b[0m\n\u001b[1;32m     96\u001b[0m                 \u001b[0;32mif\u001b[0m \u001b[0mK\u001b[0m\u001b[0;34m[\u001b[0m\u001b[0mi\u001b[0m\u001b[0;34m]\u001b[0m \u001b[0;34m-\u001b[0m \u001b[0;36m1\u001b[0m \u001b[0;32min\u001b[0m \u001b[0mind1\u001b[0m\u001b[0;34m[\u001b[0m\u001b[0mt\u001b[0m\u001b[0;34m]\u001b[0m\u001b[0;34m:\u001b[0m\u001b[0;34m\u001b[0m\u001b[0m\n\u001b[0;32m---> 97\u001b[0;31m                     \u001b[0muprobs\u001b[0m\u001b[0;34m[\u001b[0m\u001b[0mt\u001b[0m\u001b[0;34m]\u001b[0m \u001b[0;34m=\u001b[0m \u001b[0mnp\u001b[0m\u001b[0;34m.\u001b[0m\u001b[0mappend\u001b[0m\u001b[0;34m(\u001b[0m\u001b[0mnp\u001b[0m\u001b[0;34m.\u001b[0m\u001b[0minsert\u001b[0m\u001b[0;34m(\u001b[0m\u001b[0muprobs\u001b[0m\u001b[0;34m[\u001b[0m\u001b[0mt\u001b[0m\u001b[0;34m]\u001b[0m\u001b[0;34m,\u001b[0m \u001b[0mind1\u001b[0m\u001b[0;34m[\u001b[0m\u001b[0mt\u001b[0m\u001b[0;34m]\u001b[0m\u001b[0;34m[\u001b[0m\u001b[0;36m0\u001b[0m\u001b[0;34m:\u001b[0m\u001b[0;34m-\u001b[0m\u001b[0;36m1\u001b[0m\u001b[0;34m]\u001b[0m\u001b[0;34m,\u001b[0m \u001b[0;36m0\u001b[0m\u001b[0;34m)\u001b[0m\u001b[0;34m,\u001b[0m \u001b[0;36m0\u001b[0m\u001b[0;34m)\u001b[0m\u001b[0;34m\u001b[0m\u001b[0m\n\u001b[0m\u001b[1;32m     98\u001b[0m                 \u001b[0;32melse\u001b[0m\u001b[0;34m:\u001b[0m\u001b[0;34m\u001b[0m\u001b[0m\n\u001b[1;32m     99\u001b[0m                     \u001b[0muprobs\u001b[0m\u001b[0;34m[\u001b[0m\u001b[0mt\u001b[0m\u001b[0;34m]\u001b[0m \u001b[0;34m=\u001b[0m \u001b[0mnp\u001b[0m\u001b[0;34m.\u001b[0m\u001b[0minsert\u001b[0m\u001b[0;34m(\u001b[0m\u001b[0muprobs\u001b[0m\u001b[0;34m[\u001b[0m\u001b[0mt\u001b[0m\u001b[0;34m]\u001b[0m\u001b[0;34m,\u001b[0m \u001b[0mind1\u001b[0m\u001b[0;34m[\u001b[0m\u001b[0mt\u001b[0m\u001b[0;34m]\u001b[0m\u001b[0;34m,\u001b[0m \u001b[0;36m0\u001b[0m\u001b[0;34m)\u001b[0m \u001b[0;31m# add states with 0 occurrences\u001b[0m\u001b[0;34m\u001b[0m\u001b[0m\n",
      "\u001b[0;32m/Users/annayanchenko/anaconda3/lib/python3.5/site-packages/numpy/lib/function_base.py\u001b[0m in \u001b[0;36minsert\u001b[0;34m(arr, obj, values, axis)\u001b[0m\n\u001b[1;32m   4082\u001b[0m     \u001b[0mnewshape\u001b[0m\u001b[0;34m[\u001b[0m\u001b[0maxis\u001b[0m\u001b[0;34m]\u001b[0m \u001b[0;34m+=\u001b[0m \u001b[0mnumnew\u001b[0m\u001b[0;34m\u001b[0m\u001b[0m\n\u001b[1;32m   4083\u001b[0m     \u001b[0mold_mask\u001b[0m \u001b[0;34m=\u001b[0m \u001b[0mones\u001b[0m\u001b[0;34m(\u001b[0m\u001b[0mnewshape\u001b[0m\u001b[0;34m[\u001b[0m\u001b[0maxis\u001b[0m\u001b[0;34m]\u001b[0m\u001b[0;34m,\u001b[0m \u001b[0mdtype\u001b[0m\u001b[0;34m=\u001b[0m\u001b[0mbool\u001b[0m\u001b[0;34m)\u001b[0m\u001b[0;34m\u001b[0m\u001b[0m\n\u001b[0;32m-> 4084\u001b[0;31m     \u001b[0mold_mask\u001b[0m\u001b[0;34m[\u001b[0m\u001b[0mindices\u001b[0m\u001b[0;34m]\u001b[0m \u001b[0;34m=\u001b[0m \u001b[0;32mFalse\u001b[0m\u001b[0;34m\u001b[0m\u001b[0m\n\u001b[0m\u001b[1;32m   4085\u001b[0m \u001b[0;34m\u001b[0m\u001b[0m\n\u001b[1;32m   4086\u001b[0m     \u001b[0mnew\u001b[0m \u001b[0;34m=\u001b[0m \u001b[0mempty\u001b[0m\u001b[0;34m(\u001b[0m\u001b[0mnewshape\u001b[0m\u001b[0;34m,\u001b[0m \u001b[0marr\u001b[0m\u001b[0;34m.\u001b[0m\u001b[0mdtype\u001b[0m\u001b[0;34m,\u001b[0m \u001b[0marr\u001b[0m\u001b[0;34m.\u001b[0m\u001b[0mflags\u001b[0m\u001b[0;34m.\u001b[0m\u001b[0mfnc\u001b[0m\u001b[0;34m)\u001b[0m\u001b[0;34m\u001b[0m\u001b[0m\n",
      "\u001b[0;31mIndexError\u001b[0m: index 4 is out of bounds for axis 1 with size 4"
     ]
    }
   ],
   "source": [
    "St, Smm, Snm = gibbs_sampler(n, M, K, Y, Tmat, W, C, it = 10)"
   ]
  },
  {
   "cell_type": "code",
   "execution_count": 528,
   "metadata": {
    "collapsed": false
   },
   "outputs": [
    {
     "ename": "ValueError",
     "evalue": "the input matrix must be positive semidefinite",
     "output_type": "error",
     "traceback": [
      "\u001b[0;31m---------------------------------------------------------------------------\u001b[0m",
      "\u001b[0;31mValueError\u001b[0m                                Traceback (most recent call last)",
      "\u001b[0;32m<ipython-input-528-fbbc68f31b9f>\u001b[0m in \u001b[0;36m<module>\u001b[0;34m()\u001b[0m\n\u001b[1;32m      2\u001b[0m \u001b[0;31m## E - Step\u001b[0m\u001b[0;34m\u001b[0m\u001b[0;34m\u001b[0m\u001b[0m\n\u001b[1;32m      3\u001b[0m \u001b[0;34m\u001b[0m\u001b[0m\n\u001b[0;32m----> 4\u001b[0;31m \u001b[0mSt\u001b[0m\u001b[0;34m,\u001b[0m \u001b[0mSmm\u001b[0m\u001b[0;34m,\u001b[0m \u001b[0mSnm\u001b[0m \u001b[0;34m=\u001b[0m \u001b[0mgibbs_sampler\u001b[0m\u001b[0;34m(\u001b[0m\u001b[0mn\u001b[0m\u001b[0;34m,\u001b[0m \u001b[0mM\u001b[0m\u001b[0;34m,\u001b[0m \u001b[0mK\u001b[0m\u001b[0;34m,\u001b[0m \u001b[0mY\u001b[0m\u001b[0;34m,\u001b[0m \u001b[0mTmat\u001b[0m\u001b[0;34m,\u001b[0m \u001b[0mW\u001b[0m\u001b[0;34m,\u001b[0m \u001b[0mC\u001b[0m\u001b[0;34m,\u001b[0m \u001b[0mit\u001b[0m \u001b[0;34m=\u001b[0m \u001b[0;36m10\u001b[0m\u001b[0;34m)\u001b[0m\u001b[0;34m\u001b[0m\u001b[0m\n\u001b[0m\u001b[1;32m      5\u001b[0m \u001b[0;34m\u001b[0m\u001b[0m\n\u001b[1;32m      6\u001b[0m \u001b[0;31m## M - Step\u001b[0m\u001b[0;34m\u001b[0m\u001b[0;34m\u001b[0m\u001b[0m\n",
      "\u001b[0;32m<ipython-input-354-a81e81d1703a>\u001b[0m in \u001b[0;36mgibbs_sampler\u001b[0;34m(n, M, K, Y, Tmat, W, C, it)\u001b[0m\n\u001b[1;32m     76\u001b[0m                     \u001b[0mtfore\u001b[0m \u001b[0;34m=\u001b[0m \u001b[0mTmat\u001b[0m\u001b[0;34m[\u001b[0m\u001b[0mi\u001b[0m\u001b[0;34m]\u001b[0m\u001b[0;34m[\u001b[0m\u001b[0mfore\u001b[0m\u001b[0;34m,\u001b[0m \u001b[0;34m:\u001b[0m\u001b[0;34m]\u001b[0m\u001b[0;34m\u001b[0m\u001b[0m\n\u001b[1;32m     77\u001b[0m                 \u001b[0;31m## calculate P(Y_t | S_t^1, S_t^2, ..., S_t^M)\u001b[0m\u001b[0;34m\u001b[0m\u001b[0;34m\u001b[0m\u001b[0m\n\u001b[0;32m---> 78\u001b[0;31m                 \u001b[0mydense\u001b[0m \u001b[0;34m=\u001b[0m \u001b[0my_density\u001b[0m\u001b[0;34m(\u001b[0m\u001b[0mt\u001b[0m\u001b[0;34m,\u001b[0m \u001b[0mY\u001b[0m\u001b[0;34m[\u001b[0m\u001b[0;34m:\u001b[0m\u001b[0;34m,\u001b[0m \u001b[0mt\u001b[0m\u001b[0;34m]\u001b[0m\u001b[0;34m,\u001b[0m \u001b[0mM\u001b[0m\u001b[0;34m,\u001b[0m \u001b[0mK\u001b[0m\u001b[0;34m,\u001b[0m \u001b[0mS\u001b[0m\u001b[0;34m,\u001b[0m \u001b[0mC\u001b[0m\u001b[0;34m,\u001b[0m \u001b[0mW\u001b[0m\u001b[0;34m,\u001b[0m \u001b[0mi\u001b[0m\u001b[0;34m)\u001b[0m\u001b[0;34m\u001b[0m\u001b[0m\n\u001b[0m\u001b[1;32m     79\u001b[0m \u001b[0;34m\u001b[0m\u001b[0m\n\u001b[1;32m     80\u001b[0m                 \u001b[0;31m## Calculate probability for each state for S_t^i\u001b[0m\u001b[0;34m\u001b[0m\u001b[0;34m\u001b[0m\u001b[0m\n",
      "\u001b[0;32m<ipython-input-354-a81e81d1703a>\u001b[0m in \u001b[0;36my_density\u001b[0;34m(t, y, M, K, S, C, W, update)\u001b[0m\n\u001b[1;32m     28\u001b[0m         \u001b[0;32mfor\u001b[0m \u001b[0mj\u001b[0m \u001b[0;32min\u001b[0m \u001b[0mrange\u001b[0m\u001b[0;34m(\u001b[0m\u001b[0;36m0\u001b[0m\u001b[0;34m,\u001b[0m \u001b[0mM\u001b[0m\u001b[0;34m)\u001b[0m\u001b[0;34m:\u001b[0m\u001b[0;34m\u001b[0m\u001b[0m\n\u001b[1;32m     29\u001b[0m             \u001b[0mmu\u001b[0m \u001b[0;34m+=\u001b[0m \u001b[0mnp\u001b[0m\u001b[0;34m.\u001b[0m\u001b[0mdot\u001b[0m\u001b[0;34m(\u001b[0m\u001b[0mW\u001b[0m\u001b[0;34m[\u001b[0m\u001b[0mj\u001b[0m\u001b[0;34m]\u001b[0m\u001b[0;34m,\u001b[0m \u001b[0mStemp\u001b[0m\u001b[0;34m[\u001b[0m\u001b[0mj\u001b[0m\u001b[0;34m]\u001b[0m\u001b[0;34m[\u001b[0m\u001b[0;34m:\u001b[0m\u001b[0;34m,\u001b[0m \u001b[0mt\u001b[0m\u001b[0;34m]\u001b[0m\u001b[0;34m)\u001b[0m\u001b[0;34m\u001b[0m\u001b[0m\n\u001b[0;32m---> 30\u001b[0;31m         \u001b[0mydense\u001b[0m\u001b[0;34m[\u001b[0m\u001b[0mi\u001b[0m\u001b[0;34m]\u001b[0m \u001b[0;34m=\u001b[0m \u001b[0mmultivariate_normal\u001b[0m\u001b[0;34m.\u001b[0m\u001b[0mpdf\u001b[0m\u001b[0;34m(\u001b[0m\u001b[0my\u001b[0m\u001b[0;34m,\u001b[0m \u001b[0mmean\u001b[0m \u001b[0;34m=\u001b[0m \u001b[0mmu\u001b[0m\u001b[0;34m,\u001b[0m \u001b[0mcov\u001b[0m \u001b[0;34m=\u001b[0m \u001b[0mC\u001b[0m\u001b[0;34m)\u001b[0m\u001b[0;34m\u001b[0m\u001b[0m\n\u001b[0m\u001b[1;32m     31\u001b[0m     \u001b[0;32mreturn\u001b[0m\u001b[0;34m(\u001b[0m\u001b[0mydense\u001b[0m\u001b[0;34m)\u001b[0m\u001b[0;34m\u001b[0m\u001b[0m\n\u001b[1;32m     32\u001b[0m \u001b[0;34m\u001b[0m\u001b[0m\n",
      "\u001b[0;32m/Users/annayanchenko/anaconda3/lib/python3.5/site-packages/scipy/stats/_multivariate.py\u001b[0m in \u001b[0;36mpdf\u001b[0;34m(self, x, mean, cov, allow_singular)\u001b[0m\n\u001b[1;32m    497\u001b[0m         \u001b[0mdim\u001b[0m\u001b[0;34m,\u001b[0m \u001b[0mmean\u001b[0m\u001b[0;34m,\u001b[0m \u001b[0mcov\u001b[0m \u001b[0;34m=\u001b[0m \u001b[0mself\u001b[0m\u001b[0;34m.\u001b[0m\u001b[0m_process_parameters\u001b[0m\u001b[0;34m(\u001b[0m\u001b[0;32mNone\u001b[0m\u001b[0;34m,\u001b[0m \u001b[0mmean\u001b[0m\u001b[0;34m,\u001b[0m \u001b[0mcov\u001b[0m\u001b[0;34m)\u001b[0m\u001b[0;34m\u001b[0m\u001b[0m\n\u001b[1;32m    498\u001b[0m         \u001b[0mx\u001b[0m \u001b[0;34m=\u001b[0m \u001b[0mself\u001b[0m\u001b[0;34m.\u001b[0m\u001b[0m_process_quantiles\u001b[0m\u001b[0;34m(\u001b[0m\u001b[0mx\u001b[0m\u001b[0;34m,\u001b[0m \u001b[0mdim\u001b[0m\u001b[0;34m)\u001b[0m\u001b[0;34m\u001b[0m\u001b[0m\n\u001b[0;32m--> 499\u001b[0;31m         \u001b[0mpsd\u001b[0m \u001b[0;34m=\u001b[0m \u001b[0m_PSD\u001b[0m\u001b[0;34m(\u001b[0m\u001b[0mcov\u001b[0m\u001b[0;34m,\u001b[0m \u001b[0mallow_singular\u001b[0m\u001b[0;34m=\u001b[0m\u001b[0mallow_singular\u001b[0m\u001b[0;34m)\u001b[0m\u001b[0;34m\u001b[0m\u001b[0m\n\u001b[0m\u001b[1;32m    500\u001b[0m         \u001b[0mout\u001b[0m \u001b[0;34m=\u001b[0m \u001b[0mnp\u001b[0m\u001b[0;34m.\u001b[0m\u001b[0mexp\u001b[0m\u001b[0;34m(\u001b[0m\u001b[0mself\u001b[0m\u001b[0;34m.\u001b[0m\u001b[0m_logpdf\u001b[0m\u001b[0;34m(\u001b[0m\u001b[0mx\u001b[0m\u001b[0;34m,\u001b[0m \u001b[0mmean\u001b[0m\u001b[0;34m,\u001b[0m \u001b[0mpsd\u001b[0m\u001b[0;34m.\u001b[0m\u001b[0mU\u001b[0m\u001b[0;34m,\u001b[0m \u001b[0mpsd\u001b[0m\u001b[0;34m.\u001b[0m\u001b[0mlog_pdet\u001b[0m\u001b[0;34m,\u001b[0m \u001b[0mpsd\u001b[0m\u001b[0;34m.\u001b[0m\u001b[0mrank\u001b[0m\u001b[0;34m)\u001b[0m\u001b[0;34m)\u001b[0m\u001b[0;34m\u001b[0m\u001b[0m\n\u001b[1;32m    501\u001b[0m         \u001b[0;32mreturn\u001b[0m \u001b[0m_squeeze_output\u001b[0m\u001b[0;34m(\u001b[0m\u001b[0mout\u001b[0m\u001b[0;34m)\u001b[0m\u001b[0;34m\u001b[0m\u001b[0m\n",
      "\u001b[0;32m/Users/annayanchenko/anaconda3/lib/python3.5/site-packages/scipy/stats/_multivariate.py\u001b[0m in \u001b[0;36m__init__\u001b[0;34m(self, M, cond, rcond, lower, check_finite, allow_singular)\u001b[0m\n\u001b[1;32m    145\u001b[0m         \u001b[0meps\u001b[0m \u001b[0;34m=\u001b[0m \u001b[0m_eigvalsh_to_eps\u001b[0m\u001b[0;34m(\u001b[0m\u001b[0ms\u001b[0m\u001b[0;34m,\u001b[0m \u001b[0mcond\u001b[0m\u001b[0;34m,\u001b[0m \u001b[0mrcond\u001b[0m\u001b[0;34m)\u001b[0m\u001b[0;34m\u001b[0m\u001b[0m\n\u001b[1;32m    146\u001b[0m         \u001b[0;32mif\u001b[0m \u001b[0mnp\u001b[0m\u001b[0;34m.\u001b[0m\u001b[0mmin\u001b[0m\u001b[0;34m(\u001b[0m\u001b[0ms\u001b[0m\u001b[0;34m)\u001b[0m \u001b[0;34m<\u001b[0m \u001b[0;34m-\u001b[0m\u001b[0meps\u001b[0m\u001b[0;34m:\u001b[0m\u001b[0;34m\u001b[0m\u001b[0m\n\u001b[0;32m--> 147\u001b[0;31m             \u001b[0;32mraise\u001b[0m \u001b[0mValueError\u001b[0m\u001b[0;34m(\u001b[0m\u001b[0;34m'the input matrix must be positive semidefinite'\u001b[0m\u001b[0;34m)\u001b[0m\u001b[0;34m\u001b[0m\u001b[0m\n\u001b[0m\u001b[1;32m    148\u001b[0m         \u001b[0md\u001b[0m \u001b[0;34m=\u001b[0m \u001b[0ms\u001b[0m\u001b[0;34m[\u001b[0m\u001b[0ms\u001b[0m \u001b[0;34m>\u001b[0m \u001b[0meps\u001b[0m\u001b[0;34m]\u001b[0m\u001b[0;34m\u001b[0m\u001b[0m\n\u001b[1;32m    149\u001b[0m         \u001b[0;32mif\u001b[0m \u001b[0mlen\u001b[0m\u001b[0;34m(\u001b[0m\u001b[0md\u001b[0m\u001b[0;34m)\u001b[0m \u001b[0;34m<\u001b[0m \u001b[0mlen\u001b[0m\u001b[0;34m(\u001b[0m\u001b[0ms\u001b[0m\u001b[0;34m)\u001b[0m \u001b[0;32mand\u001b[0m \u001b[0;32mnot\u001b[0m \u001b[0mallow_singular\u001b[0m\u001b[0;34m:\u001b[0m\u001b[0;34m\u001b[0m\u001b[0m\n",
      "\u001b[0;31mValueError\u001b[0m: the input matrix must be positive semidefinite"
     ]
    }
   ],
   "source": [
    "\n",
    "## E - Step\n",
    "\n",
    "St, Smm, Snm = gibbs_sampler(n, M, K, Y, Tmat, W, C, it = 10)\n",
    "\n",
    "## M - Step\n",
    "W, pi, Tmat, C = Mstep(M, K,  Y, St, Smm, Snm)\n",
    "\n",
    "## Check tolerance\n",
    "# sample S with new params\n",
    "## Generate state variables\n",
    "S = []\n",
    "mu = np.zeros((D, n))\n",
    "zstates = []\n",
    "for i in range(0, M):\n",
    "    zstates = np.arange(0, K[i], dtype = int)\n",
    "    z = np.zeros(n, dtype = int)\n",
    "    zmat = np.zeros((K[i], n), dtype = int)\n",
    "    z[0] = np.random.choice(zstates, size = 1, p = pi[i])\n",
    "    zmat[z[0], 0] = 1\n",
    "    for j in range(1, n):\n",
    "        z[j] = np.random.choice(zstates, size = 1, p = Tmat[i][z[j-1], :])\n",
    "        zmat[z[j], j] = 1\n",
    "    S.append(zmat)\n",
    "    zstates.apend(z)\n",
    "for i in range(0, M):\n",
    "    for j in range(1, n):\n",
    "        mu[:, j] += np.dot(W[i], S[i][:, j])\n",
    "\n",
    "pNew = log_like(n, pi, Tmat, mu, C, Y, zstates)  \n",
    "criteria = abs(pOld - pNew)\n",
    "if criteria < tol:\n",
    "    convergence = 1\n",
    "else:\n",
    "    convergence = 0\n",
    "    pOld = pNew"
   ]
  },
  {
   "cell_type": "code",
   "execution_count": 529,
   "metadata": {
    "collapsed": false
   },
   "outputs": [
    {
     "data": {
      "text/plain": [
       "array([[  626.17985738,   727.85270674,   595.5486112 ],\n",
       "       [ 1007.26455405,  1273.85777935,   982.22987698],\n",
       "       [  654.01008759,   782.67253069,   642.12431857]])"
      ]
     },
     "execution_count": 529,
     "metadata": {},
     "output_type": "execute_result"
    }
   ],
   "source": [
    "C"
   ]
  },
  {
   "cell_type": "code",
   "execution_count": 516,
   "metadata": {
    "collapsed": false
   },
   "outputs": [],
   "source": [
    "Tmat = []\n",
    "St = [np.vstack(St[i]) for i in range(0, M)] ## stack St matrices for easier indexing\n",
    "for i in range(0, M):\n",
    "    Tnew = np.zeros((K[i], K[i]))\n",
    "    for j in range(0, K[i]):\n",
    "        for l in range(0, K[i]):\n",
    "            Tnew[j,l] =  np.sum(Smm[i][j, l, :])/sum(St[i][l, 0:(n-1)])\n",
    "    Tmat.append(Tnew)"
   ]
  },
  {
   "cell_type": "code",
   "execution_count": 517,
   "metadata": {
    "collapsed": false
   },
   "outputs": [
    {
     "data": {
      "text/plain": [
       "array([[ 0. ,  0.1,  0.2,  0.1,  0.6],\n",
       "       [ 0.2,  0. ,  0.2,  0. ,  0.4],\n",
       "       [ 0.2,  0.1,  0. ,  0.2,  0.3],\n",
       "       [ 0.4,  0.2,  0.3,  0.8,  0.9],\n",
       "       [ 0.4,  0.4,  0.1,  1.3,  1.6]])"
      ]
     },
     "execution_count": 517,
     "metadata": {},
     "output_type": "execute_result"
    }
   ],
   "source": [
    "Tnew"
   ]
  },
  {
   "cell_type": "code",
   "execution_count": 447,
   "metadata": {
    "collapsed": false
   },
   "outputs": [],
   "source": [
    "\n",
    "### Update W ###\n",
    "# Concatenate St to be sum(K) x 1 x t\n",
    "cSt = np.vstack([np.vstack(St[i]).transpose() for i in range(0, len(St))])\n",
    "s1 = np.dot(Y, cSt.transpose()) # first sum for Wnew\n",
    "s2 = np.linalg.pinv(np.sum(Snm, axis = 2)) # second sum for Wnew\n",
    "Wnew = np.dot(s1, s2)\n",
    "# make Wnew back into list of matrices\n",
    "W = []\n",
    "pi = []\n",
    "ind1 = np.insert(np.cumsum(K[1:]), 0, 0)\n",
    "ind2 = K + np.insert(np.cumsum(K[1:]), 0, 0)\n",
    "for i in range(0, M):\n",
    "    W.append(Wnew[:, ind1[i]:ind2[i]])\n",
    "    ### Update pi ###\n",
    "    pi.append(cSt[ind1[i]:ind2[i], 0])\n",
    "\n",
    "### Update Transition matrices ###\n",
    "Tmat = []\n",
    "St = [np.vstack(St[i]) for i in range(0, M)] ## stack St matrices for easier indexing\n",
    "for i in range(0, M):\n",
    "    Tnew = np.zeros((K[i], K[i]))\n",
    "    for j in range(0, K[i]):\n",
    "        for l in range(0, K[i]):\n",
    "            Tnew[j,l] =  np.sum(Smm[i][j, l, :])/sum(St[i][l, 0:(n-1)])\n",
    "    Tmat.append(Tnew)\n",
    "\n",
    "### Update C covariance ###\n",
    "s1 = np.dot(Y, Y.transpose())/n\n",
    "s2 = np.zeros((D, D))\n",
    "for t in range(0, n):\n",
    "    for i in range(0, M):\n",
    "        mult1 = np.dot(W[i], St[i][t, :])\n",
    "        s2 += np.outer(mult1, Y[:, t].transpose())\n",
    "C = s1 - s2/n\n",
    "\n"
   ]
  },
  {
   "cell_type": "code",
   "execution_count": 493,
   "metadata": {
    "collapsed": false
   },
   "outputs": [
    {
     "data": {
      "text/plain": [
       "array([[  78.08,    0.  ,  191.5 , -139.69,  -24.47,   78.08,    0.  ,\n",
       "         191.5 , -139.69,  -24.47,   78.08,    0.  ,  191.5 , -139.69,\n",
       "         -24.47],\n",
       "       [ 162.38,  -31.75,  157.79, -163.75,  -27.34,  162.38,  -31.75,\n",
       "         157.79, -163.75,  -27.34,  162.38,  -31.75,  157.79, -163.75,\n",
       "         -27.34],\n",
       "       [  94.85,   -9.11,  163.79, -136.08,  -21.72,   94.85,   -9.11,\n",
       "         163.79, -136.08,  -21.72,   94.85,   -9.11,  163.79, -136.08,\n",
       "         -21.72]])"
      ]
     },
     "execution_count": 493,
     "metadata": {},
     "output_type": "execute_result"
    }
   ],
   "source": [
    "cSt = np.vstack([np.vstack(St[i]).transpose() for i in range(0, len(St))])\n",
    "s1 = np.dot(Y, cSt.transpose()) # first sum for Wnew\n",
    "s2 = np.linalg.pinv(np.sum(Snm, axis = 2)) # second sum for Wnew\n",
    "#np.round(np.linalg.pinv(np.sum(Snm, axis = 2)), 3)\n",
    "Wnew = np.dot(s1, s2)\n",
    "np.round(Wnew, 2)"
   ]
  },
  {
   "cell_type": "code",
   "execution_count": 490,
   "metadata": {
    "collapsed": false
   },
   "outputs": [
    {
     "data": {
      "text/plain": [
       "array([[  7.80813181e+01,   2.91173835e-03,   1.91501906e+02,\n",
       "         -1.39687353e+02,  -2.44687121e+01,   7.80813181e+01,\n",
       "          2.91173835e-03,   1.91501906e+02,  -1.39687353e+02,\n",
       "         -2.44687121e+01,   7.80813181e+01,   2.91173835e-03,\n",
       "          1.91501906e+02,  -1.39687353e+02,  -2.44687121e+01],\n",
       "       [  1.62383940e+02,  -3.17512695e+01,   1.57786197e+02,\n",
       "         -1.63749018e+02,  -2.73445941e+01,   1.62383940e+02,\n",
       "         -3.17512695e+01,   1.57786197e+02,  -1.63749018e+02,\n",
       "         -2.73445941e+01,   1.62383940e+02,  -3.17512695e+01,\n",
       "          1.57786197e+02,  -1.63749018e+02,  -2.73445941e+01],\n",
       "       [  9.48548830e+01,  -9.10804490e+00,   1.63786657e+02,\n",
       "         -1.36084528e+02,  -2.17212488e+01,   9.48548830e+01,\n",
       "         -9.10804490e+00,   1.63786657e+02,  -1.36084528e+02,\n",
       "         -2.17212488e+01,   9.48548830e+01,  -9.10804490e+00,\n",
       "          1.63786657e+02,  -1.36084528e+02,  -2.17212488e+01]])"
      ]
     },
     "execution_count": 490,
     "metadata": {},
     "output_type": "execute_result"
    }
   ],
   "source": [
    "Wnew"
   ]
  },
  {
   "cell_type": "code",
   "execution_count": 458,
   "metadata": {
    "collapsed": false
   },
   "outputs": [
    {
     "data": {
      "text/plain": [
       "array([[ 24.51421075,  34.09089727,  10.61841374,  26.13481106,\n",
       "         32.93512481,  20.79983717,  16.41590528,  40.34199775,\n",
       "         16.47963269,  34.25608474,  33.5744573 ,   3.77568713,\n",
       "         16.91885785,  34.46106322,  39.56339212],\n",
       "       [ 38.8142673 ,  56.25485668,  14.0279341 ,  32.73698374,\n",
       "         39.94904462,  29.20189752,  26.37542394,  60.21090638,\n",
       "         20.50330961,  45.49154899,  47.55986908,   5.77014181,\n",
       "         21.04210607,  53.48130067,  53.92966882],\n",
       "       [ 23.97970348,  31.01752101,  12.44897539,  25.50547019,\n",
       "         34.60740276,  21.11720952,  18.23566069,  41.49719109,\n",
       "         15.84401629,  30.86499523,  29.40513682,   3.47159543,\n",
       "         15.69275178,  40.18111815,  38.80847065]])"
      ]
     },
     "execution_count": 458,
     "metadata": {},
     "output_type": "execute_result"
    }
   ],
   "source": [
    "cSt = np.vstack([np.vstack(St[i]).transpose() for i in range(0, len(St))])\n",
    "s1 = np.dot(Y, cSt.transpose()) # first sum for Wnew\n",
    "s2 = np.linalg.pinv(np.sum(Snm, axis = 2)) # second sum for Wnew\n",
    "#Wnew = np.dot(s1, s2)\n",
    "s1"
   ]
  },
  {
   "cell_type": "code",
   "execution_count": 359,
   "metadata": {
    "collapsed": false
   },
   "outputs": [],
   "source": [
    "\n",
    "# Randomly initialize state vectors\n",
    "S = []\n",
    "zstates = []\n",
    "for i in range(0, M):\n",
    "    s = np.zeros((K[i], n), dtype = int)\n",
    "    ind = np.random.choice(range(0, K[i]), n)\n",
    "    s[ind, range(0, n)] = 1\n",
    "    zz = np.zeros((it, n), dtype = int)\n",
    "    zz[0, :] = ind\n",
    "    zstates.append(zz)\n",
    "    S.append(s)\n",
    "\n",
    "for l in range(1, it):\n",
    "    ## update one  chain at a time\n",
    "    for i in range(0, M):\n",
    "        ## step through each time point\n",
    "        for t in range(0, n):\n",
    "            ## select P(S_t | S_t-1)\n",
    "            if t == 0:\n",
    "                tback = np.ones(K[i])\n",
    "            else:\n",
    "                prev = zstates[i][l-1, t-1]\n",
    "                tback = Tmat[i][prev, :]\n",
    "            ## select P(S_t+1 | S_t)\n",
    "            if t == (n-1):\n",
    "                tfore = np.ones(K[i])\n",
    "            else:\n",
    "                fore = zstates[i][l-1, t]\n",
    "                tfore = Tmat[i][fore, :]\n",
    "            ## calculate P(Y_t | S_t^1, S_t^2, ..., S_t^M)\n",
    "            ydense = y_density(t, Y[:, t], M, K, S, C, W, i)\n",
    "\n",
    "            ## Calculate probability for each state for S_t^i\n",
    "            probvec = np.multiply(np.multiply(tback, tfore) , ydense)\n",
    "            probvec = probvec/sum(probvec)\n",
    "            ## sample state and update vector\n",
    "            zstates[i][l, t] = np.random.choice(range(0, K[i]), 1, p = probvec)\n",
    "            S[i][zstates[i][l, t], t] = 1\n",
    "\n",
    "## Calculate expectations\n",
    "# <S_t^(m)>\n",
    "St = []\n",
    "Smm = []\n",
    "for i in range(0, M):\n",
    "    uprobs = [np.unique(zstates[i][:, t], return_counts = True)[1]/it for t in range(0,n)] # calculate probs\n",
    "    ind1 = [np.setdiff1d(np.arange(K[i]), zstates[i][:, t]) for t in range(0,n)] # find states with 0 occurrences\n",
    "    for t in range(0, n):\n",
    "        if len(ind1[t]) > 0:\n",
    "            if K[i] - 1 in ind1[t]:\n",
    "                uprobs[t] = np.append(np.insert(uprobs[t], ind1[t][0:-1], 0), 0)\n",
    "            else:\n",
    "                uprobs[t] = np.insert(uprobs[t], ind1[t], 0) # add states with 0 occurrences\n",
    "    St.append(uprobs)\n",
    "    # calculate trans mat\n",
    "    Smm.append(np.stack([trans_mat(zstates[i][t, :], K[i])/it for t in range(0, n)], axis = 2)) \n",
    "\n",
    "# <S_t^(m)S_t^(n)>\n",
    "Snm = np.zeros((sum(K), sum(K), n))\n",
    "ind1 = np.insert(np.cumsum(K[1:]), 0, 0) # indices for Snm matrix\n",
    "ind2 = K + np.insert(np.cumsum(K[1:]), 0, 0)\n",
    "for t in range(0, n):\n",
    "    for i in range(0, M):\n",
    "        for j in range(0, M):\n",
    "            if i == j:\n",
    "                s1 = np.zeros((K[i], K[i]))\n",
    "                mm = np.unique(zstates[i][:, t], return_counts = True)\n",
    "                s1[mm[0], mm[0]] = mm[1]/it\n",
    "                Snm[ind1[i]:ind2[i], ind1[i]:ind2[i], t] = s1\n",
    "            s2 = np.zeros((K[i], K[j]))\n",
    "            for l in range(0, it):\n",
    "                s2[zstates[0][l, t], zstates[1][l, t]] += 1\n",
    "            Snm[ind1[i]:ind2[i], ind1[j]:ind2[j], t] = s2/it\n",
    "\n"
   ]
  },
  {
   "cell_type": "code",
   "execution_count": 357,
   "metadata": {
    "collapsed": false
   },
   "outputs": [
    {
     "name": "stderr",
     "output_type": "stream",
     "text": [
      "/Users/annayanchenko/anaconda3/lib/python3.5/site-packages/ipykernel/__main__.py:1: DeprecationWarning: converting an array with ndim > 0 to an index will result in an error in the future\n",
      "  if __name__ == '__main__':\n"
     ]
    },
    {
     "data": {
      "text/plain": [
       "array([[ 0. ,  0.1,  0. ,  0.1,  0. ,  0. ],\n",
       "       [ 0. ,  0. ,  0. ,  0. ,  0. ,  0. ],\n",
       "       [ 0. ,  0. ,  0.2,  0. ,  0.1,  0. ],\n",
       "       [ 0. ,  0. ,  0. ,  0. ,  0. ,  0. ],\n",
       "       [ 0. ,  0.3,  0.2,  0. ,  0. ,  0. ],\n",
       "       [ 0. ,  0.1,  0. ,  0.1,  0. ,  0. ]])"
      ]
     },
     "execution_count": 357,
     "metadata": {},
     "output_type": "execute_result"
    }
   ],
   "source": [
    "Snm[ind1[i]:ind2[i], ind1[i]:ind2[i], t]"
   ]
  },
  {
   "cell_type": "code",
   "execution_count": 352,
   "metadata": {
    "collapsed": false
   },
   "outputs": [
    {
     "data": {
      "text/plain": [
       "[array([3]),\n",
       " array([0, 2]),\n",
       " array([], dtype=int64),\n",
       " array([4]),\n",
       " array([2]),\n",
       " array([4]),\n",
       " array([4]),\n",
       " array([2]),\n",
       " array([], dtype=int64),\n",
       " array([], dtype=int64)]"
      ]
     },
     "execution_count": 352,
     "metadata": {},
     "output_type": "execute_result"
    }
   ],
   "source": [
    "ind1"
   ]
  },
  {
   "cell_type": "code",
   "execution_count": 338,
   "metadata": {
    "collapsed": false
   },
   "outputs": [
    {
     "data": {
      "text/plain": [
       "True"
      ]
     },
     "execution_count": 338,
     "metadata": {},
     "output_type": "execute_result"
    }
   ],
   "source": [
    "K[i] - 1 in ind1[t]"
   ]
  },
  {
   "cell_type": "code",
   "execution_count": 336,
   "metadata": {
    "collapsed": false
   },
   "outputs": [
    {
     "data": {
      "text/plain": [
       "array([ 0. ,  0.4,  0.3,  0.3])"
      ]
     },
     "execution_count": 336,
     "metadata": {},
     "output_type": "execute_result"
    }
   ],
   "source": [
    "np.insert(uprobs[t], ind1[t][0], 0)"
   ]
  },
  {
   "cell_type": "code",
   "execution_count": 339,
   "metadata": {
    "collapsed": false
   },
   "outputs": [
    {
     "data": {
      "text/plain": [
       "array([0])"
      ]
     },
     "execution_count": 339,
     "metadata": {},
     "output_type": "execute_result"
    }
   ],
   "source": [
    "ind1[t][0:-1]"
   ]
  },
  {
   "cell_type": "code",
   "execution_count": 343,
   "metadata": {
    "collapsed": false
   },
   "outputs": [
    {
     "data": {
      "text/plain": [
       "array([ 0. ,  0.4,  0.3,  0.3,  0. ])"
      ]
     },
     "execution_count": 343,
     "metadata": {},
     "output_type": "execute_result"
    }
   ],
   "source": [
    "np.append(np.insert(uprobs[t], ind1[t][0:-1], 0), 0)"
   ]
  },
  {
   "cell_type": "code",
   "execution_count": null,
   "metadata": {
    "collapsed": true
   },
   "outputs": [],
   "source": []
  }
 ],
 "metadata": {
  "kernelspec": {
   "display_name": "Python 3",
   "language": "python",
   "name": "python3"
  },
  "language_info": {
   "codemirror_mode": {
    "name": "ipython",
    "version": 3
   },
   "file_extension": ".py",
   "mimetype": "text/x-python",
   "name": "python",
   "nbconvert_exporter": "python",
   "pygments_lexer": "ipython3",
   "version": "3.5.1"
  }
 },
 "nbformat": 4,
 "nbformat_minor": 0
}
